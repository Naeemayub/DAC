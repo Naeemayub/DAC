{
 "cells": [
  {
   "cell_type": "code",
   "execution_count": 1,
   "id": "d85a2f35-6583-4839-86b6-2df8af571ff6",
   "metadata": {},
   "outputs": [],
   "source": [
    "my_tuple = (1,2,3,4,5)"
   ]
  },
  {
   "cell_type": "code",
   "execution_count": 2,
   "id": "7076c24c-6a1d-4ca6-bb33-035372c93514",
   "metadata": {},
   "outputs": [
    {
     "name": "stdout",
     "output_type": "stream",
     "text": [
      "(1, 2, 3, 4, 5)\n"
     ]
    }
   ],
   "source": [
    "print(my_tuple)"
   ]
  },
  {
   "cell_type": "code",
   "execution_count": 4,
   "id": "d8e75445-bb55-4198-845c-40955d7b2d98",
   "metadata": {},
   "outputs": [
    {
     "name": "stdout",
     "output_type": "stream",
     "text": [
      "3\n"
     ]
    }
   ],
   "source": [
    "print(my_tuple[2])"
   ]
  },
  {
   "cell_type": "code",
   "execution_count": 5,
   "id": "24fe0c99-81d2-4f72-8fd3-fbc9d9fb8429",
   "metadata": {},
   "outputs": [
    {
     "name": "stdout",
     "output_type": "stream",
     "text": [
      "1\n",
      "2\n",
      "3\n",
      "4\n",
      "5\n"
     ]
    }
   ],
   "source": [
    "for i in my_tuple:\n",
    "    print(i)"
   ]
  },
  {
   "cell_type": "code",
   "execution_count": 6,
   "id": "41f92ba2-d7a3-4136-9492-3a83cab34b55",
   "metadata": {},
   "outputs": [
    {
     "ename": "TypeError",
     "evalue": "'tuple' object does not support item assignment",
     "output_type": "error",
     "traceback": [
      "\u001b[1;31m---------------------------------------------------------------------------\u001b[0m",
      "\u001b[1;31mTypeError\u001b[0m                                 Traceback (most recent call last)",
      "Cell \u001b[1;32mIn[6], line 1\u001b[0m\n\u001b[1;32m----> 1\u001b[0m my_tuple[\u001b[38;5;241m3\u001b[39m] \u001b[38;5;241m=\u001b[39m \u001b[38;5;241m10\u001b[39m\n",
      "\u001b[1;31mTypeError\u001b[0m: 'tuple' object does not support item assignment"
     ]
    }
   ],
   "source": [
    "my_tuple[3] = 10"
   ]
  },
  {
   "cell_type": "code",
   "execution_count": 18,
   "id": "9f0f60db-342c-421c-b416-6e7738469535",
   "metadata": {},
   "outputs": [],
   "source": [
    "x,y,z, *p = my_tuple"
   ]
  },
  {
   "cell_type": "code",
   "execution_count": 19,
   "id": "374f4676-48c7-44a8-a798-ed6b984dfce9",
   "metadata": {},
   "outputs": [
    {
     "name": "stdout",
     "output_type": "stream",
     "text": [
      "1 2 3 [4, 5]\n"
     ]
    }
   ],
   "source": [
    "print(x,y,z,p)"
   ]
  },
  {
   "cell_type": "code",
   "execution_count": 20,
   "id": "8dcc9f06-c05c-4e4d-b0a9-01e7cc2ee620",
   "metadata": {},
   "outputs": [
    {
     "name": "stdout",
     "output_type": "stream",
     "text": [
      "5\n"
     ]
    }
   ],
   "source": [
    "print(p[1])"
   ]
  },
  {
   "cell_type": "code",
   "execution_count": 21,
   "id": "48f87d0b-adc2-4bb3-82d2-02ed4db1b332",
   "metadata": {},
   "outputs": [
    {
     "name": "stdout",
     "output_type": "stream",
     "text": [
      "[4, 5]\n",
      "<class 'list'>\n"
     ]
    }
   ],
   "source": [
    "print(p)\n",
    "print(type(p))"
   ]
  },
  {
   "cell_type": "code",
   "execution_count": 22,
   "id": "2dd1cbba-2304-43d4-9f3f-93e512d15948",
   "metadata": {},
   "outputs": [
    {
     "name": "stdout",
     "output_type": "stream",
     "text": [
      "(4, 5)\n",
      "<class 'tuple'>\n"
     ]
    }
   ],
   "source": [
    "p = tuple(p)\n",
    "print(p)\n",
    "print(type(p))"
   ]
  },
  {
   "cell_type": "code",
   "execution_count": 29,
   "id": "c596b7cd-8454-495d-9be5-cf9ddfe0450b",
   "metadata": {},
   "outputs": [
    {
     "name": "stdout",
     "output_type": "stream",
     "text": [
      "st\n"
     ]
    }
   ],
   "source": [
    "details = (\"name\", \"age\", \"city\", \"country\", \"st\")\n",
    "name,_,_,_,_= details\n",
    "print(_)"
   ]
  },
  {
   "cell_type": "code",
   "execution_count": 42,
   "id": "a0ea051f-a081-47cf-b7b5-b652fd3e6f4b",
   "metadata": {},
   "outputs": [
    {
     "name": "stdout",
     "output_type": "stream",
     "text": [
      "{'name': 'Naeem', 'age': 40, 'city': 'chakwal', 'country': 'Canada'}\n"
     ]
    }
   ],
   "source": [
    "#Dictionary\n",
    "\n",
    "my_dict  = {\n",
    "            \"name\" : \"Naeem\",\n",
    "            \"age\"  : 40,\n",
    "            \"city\" : \"chakwal\",\n",
    "            \"country\": \"Canada\"\n",
    "        }\n",
    "print(my_dict)"
   ]
  },
  {
   "cell_type": "code",
   "execution_count": 44,
   "id": "6c31ccee-d3c4-46f4-87a1-2d9c4a6a1d9d",
   "metadata": {},
   "outputs": [
    {
     "name": "stdout",
     "output_type": "stream",
     "text": [
      "Canada\n"
     ]
    }
   ],
   "source": [
    "print(my_dict[\"country\"])"
   ]
  },
  {
   "cell_type": "code",
   "execution_count": 50,
   "id": "7d0038f0-1a98-4b7b-ad7b-401d99c57869",
   "metadata": {},
   "outputs": [
    {
     "name": "stdout",
     "output_type": "stream",
     "text": [
      "name  :  Naeem\n",
      "age  :  40\n",
      "city  :  chakwal\n",
      "country  :  Canada\n"
     ]
    }
   ],
   "source": [
    "for i in my_dict:\n",
    "    print(i, \" : \" ,my_dict[i])"
   ]
  },
  {
   "cell_type": "code",
   "execution_count": 51,
   "id": "d46e2a41-8739-4915-bc33-ca4bb8c1daba",
   "metadata": {},
   "outputs": [],
   "source": [
    "my_dict[\"Name\"] = \"NAeem Ayub\" "
   ]
  },
  {
   "cell_type": "code",
   "execution_count": 52,
   "id": "006460a0-ba27-4e39-93e5-ea0bcf8ea817",
   "metadata": {},
   "outputs": [
    {
     "data": {
      "text/plain": [
       "{'name': 'Naeem',\n",
       " 'age': 40,\n",
       " 'city': 'chakwal',\n",
       " 'country': 'Canada',\n",
       " 'Name': 'NAeem Ayub'}"
      ]
     },
     "execution_count": 52,
     "metadata": {},
     "output_type": "execute_result"
    }
   ],
   "source": [
    "my_dict"
   ]
  },
  {
   "cell_type": "code",
   "execution_count": 53,
   "id": "e9366b4c-86e7-4b40-9af2-f53142db5540",
   "metadata": {},
   "outputs": [
    {
     "data": {
      "text/plain": [
       "('Name', 'NAeem Ayub')"
      ]
     },
     "execution_count": 53,
     "metadata": {},
     "output_type": "execute_result"
    }
   ],
   "source": [
    "my_dict.popitem()"
   ]
  },
  {
   "cell_type": "code",
   "execution_count": 54,
   "id": "5cc93501-abef-4932-b0d7-290d87e6cff6",
   "metadata": {},
   "outputs": [
    {
     "name": "stdout",
     "output_type": "stream",
     "text": [
      "{'name': 'Naeem', 'age': 40, 'city': 'chakwal', 'country': 'Canada'}\n"
     ]
    }
   ],
   "source": [
    "print(my_dict)"
   ]
  },
  {
   "cell_type": "code",
   "execution_count": 55,
   "id": "7e38394b-19c9-4c95-b8f7-7a7a0c17d6eb",
   "metadata": {},
   "outputs": [
    {
     "name": "stdout",
     "output_type": "stream",
     "text": [
      "{'name': 'Naeem Ayub', 'age': 40, 'city': 'chakwal', 'country': 'Canada'}\n"
     ]
    }
   ],
   "source": [
    "my_dict[\"name\"] = \"Naeem Ayub\"\n",
    "print(my_dict)"
   ]
  },
  {
   "cell_type": "code",
   "execution_count": 64,
   "id": "4040ced8-baf0-472c-a736-088e9357fa4b",
   "metadata": {},
   "outputs": [],
   "source": [
    "my_dict2 = {}\n",
    "my_dict2.update(my_dict)"
   ]
  },
  {
   "cell_type": "code",
   "execution_count": 65,
   "id": "c05abdd3-2126-4e38-a813-70167841f9e1",
   "metadata": {},
   "outputs": [
    {
     "data": {
      "text/plain": [
       "{'name': 'Naeem Ayub', 'age': 40, 'city': 'chakwal', 'country': 'Canada'}"
      ]
     },
     "execution_count": 65,
     "metadata": {},
     "output_type": "execute_result"
    }
   ],
   "source": [
    "my_dict2"
   ]
  },
  {
   "cell_type": "code",
   "execution_count": 68,
   "id": "a7164024-7e49-4715-8639-208cc0e02bbb",
   "metadata": {},
   "outputs": [
    {
     "data": {
      "text/plain": [
       "'Naeem Ayub'"
      ]
     },
     "execution_count": 68,
     "metadata": {},
     "output_type": "execute_result"
    }
   ],
   "source": [
    "my_dict.get(\"name\")"
   ]
  },
  {
   "cell_type": "code",
   "execution_count": 70,
   "id": "42e24fe7-b105-42ea-ac7d-48abcc56f050",
   "metadata": {},
   "outputs": [
    {
     "name": "stdout",
     "output_type": "stream",
     "text": [
      "dict_keys(['name', 'age', 'city', 'country'])\n"
     ]
    }
   ],
   "source": [
    "print(my_dict.keys())"
   ]
  },
  {
   "cell_type": "code",
   "execution_count": 71,
   "id": "c98e9667-1568-4565-a65f-899ad83e34f0",
   "metadata": {},
   "outputs": [
    {
     "name": "stdout",
     "output_type": "stream",
     "text": [
      "dict_values(['Naeem Ayub', 40, 'chakwal', 'Canada'])\n"
     ]
    }
   ],
   "source": [
    "print(my_dict.values())"
   ]
  },
  {
   "cell_type": "code",
   "execution_count": 79,
   "id": "6171cac1-b3c2-4f5c-aaa1-59b03c95be08",
   "metadata": {},
   "outputs": [
    {
     "name": "stdout",
     "output_type": "stream",
     "text": [
      "dict_items([('name', 'Naeem Ayub'), ('age', 40), ('city', 'chakwal'), ('country', 'Canada')])\n"
     ]
    }
   ],
   "source": [
    "c = my_dict.items()\n",
    "\n"
   ]
  },
  {
   "cell_type": "markdown",
   "id": "e2c91ea0-c0fd-4233-b3cc-906c79f0908d",
   "metadata": {},
   "source": [
    "#### Q8. Power of a Number\n",
    "Write a Python program that takes a number and prints the powers of the number (starting from 1\n",
    "to 10) using a while loop. For example, if the user inputs 3, the output should be:\n",
    "3^1 = 3\n",
    "3^2 = 9\n",
    "3^3 = 27\n",
    "... up to 3^10."
   ]
  },
  {
   "cell_type": "code",
   "execution_count": null,
   "id": "a587e6ea-4fcf-4e36-9b3d-1c56bfc3e6fe",
   "metadata": {},
   "outputs": [],
   "source": []
  }
 ],
 "metadata": {
  "kernelspec": {
   "display_name": "Python 3 (ipykernel)",
   "language": "python",
   "name": "python3"
  },
  "language_info": {
   "codemirror_mode": {
    "name": "ipython",
    "version": 3
   },
   "file_extension": ".py",
   "mimetype": "text/x-python",
   "name": "python",
   "nbconvert_exporter": "python",
   "pygments_lexer": "ipython3",
   "version": "3.12.7"
  }
 },
 "nbformat": 4,
 "nbformat_minor": 5
}
