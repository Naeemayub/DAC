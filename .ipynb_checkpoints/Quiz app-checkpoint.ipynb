{
 "cells": [
  {
   "cell_type": "code",
   "execution_count": null,
   "id": "3b38aebd-1471-4420-9fd6-f61ce94a867b",
   "metadata": {},
   "outputs": [],
   "source": [
    "test = [\n",
    "        {\"Q1: Who is founder of pakistan? \":[\"a: Quid i azam \",\"b: imran khan\",\"c: nawaz sharif\",\"d: iqbal\"]},\n",
    "        {\"Q2: Pakistan was created in?  \":[\"a: 1947\",\"b: 1960\",\"c:1970\",\"d: 1980\"]},\n",
    "        {\"Q3: Capital of pakisan? \":[\"a: islamabad\",\"b: lahore\",\"c: karachi\",\"d: peshawar\"]},\n",
    "        {\"Q4: capital of sindh? \":[\"a: sakhar\",\"b:haiderabad\",\"c: karachi\",\"d: xyz\"]},\n",
    "        {\"Q5: capital of punjab? \":[\"a:rawalpindi\",\"b: jehlam\",\"c: chakwal\",\"d: lahore\"]},\n",
    "        {\"Q6: how many chapters in quran? \":[\"a: 100  \",\"b: 114\",\"c:105\",\"d:119\"]},\n",
    "        {\"Q7: how many paray in quran ? \":[\"a: 20 \",\"b:25 \",\"c:25\",\"d:30\"]},\n",
    "        {\"Q8: who is pm of pakitan ? \":[\"a: shahbaz\",\"b: Nawaz\",\"c: imran\",\"d: qazi\"]},\n",
    "        {\"Q9: who was first female Pm of pakistan? \":[\"a:uzma\",\"b; benazir\",\"c: mariam\",\"d: zulaikha\"]},\n",
    "        {\"Q10: where is faisal mosque ? \":[\"a: Lahore\",\"b: Karachi\",\"c: rawalpindi\",\"d:islamabd\"]}\n",
    "        ]\n",
    "correct_answers = [\"a\",\"a\",\"a\",\"c\", \"d\", \"b\" , \"d\", \"a\", \"b\", \"d\"]\n",
    "\n",
    "\n",
    "user = input(\"enter your name to take test      \")\n",
    "print(f\"{user} we are starting the quiz\")\n",
    "\n",
    "\n",
    "user_answers = []       # list to store answers\n",
    "\n",
    "for q in test:   # loop on out list of test\n",
    "  for k,v in q.items(): # loop on inner dictionary\n",
    "    print(k)\n",
    "    for option in range(0,4):   # loop on inner list\n",
    "      print(v[option])\n",
    "    ans = input(\"please select answer    \")\n",
    "    user_answers.append(ans)\n",
    "\n",
    "print(\"we will show the result now\")\n",
    " \n",
    "counter =0          #counter to count correct answers\n",
    "for u in range(len(user_answers)):\n",
    "  if user_answers[u] == correct_answers[u]:\n",
    "    counter +=1\n",
    "  \n",
    "\n",
    "print(\"your result is \", counter)\n"
   ]
  },
  {
   "cell_type": "code",
   "execution_count": null,
   "id": "c398087e-574c-407e-92d0-26bef967707e",
   "metadata": {},
   "outputs": [],
   "source": []
  }
 ],
 "metadata": {
  "kernelspec": {
   "display_name": "Python 3 (ipykernel)",
   "language": "python",
   "name": "python3"
  },
  "language_info": {
   "name": ""
  }
 },
 "nbformat": 4,
 "nbformat_minor": 5
}
