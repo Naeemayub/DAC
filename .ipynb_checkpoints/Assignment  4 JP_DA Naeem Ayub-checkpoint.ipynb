{
 "cells": [
  {
   "cell_type": "markdown",
   "id": "e33b0143-1822-4050-9049-3fb88c2bf98e",
   "metadata": {},
   "source": [
    "#### Q1. my_tuple = ( (1, 2, 3), [4, 5, 6], (&#39;apple&#39;, &#39;banana&#39;, &#39;cherry&#39;), [7, 8, 9] )\n",
    "• Print all elements from my_tuple on a new line (using for loop)\n",
    "• Create a new tuple by concatenating the first and last elements of my_tuple"
   ]
  },
  {
   "cell_type": "code",
   "execution_count": 15,
   "id": "cecf7a7f-3c8c-4b5f-8897-cf36f4b6d037",
   "metadata": {},
   "outputs": [
    {
     "name": "stdout",
     "output_type": "stream",
     "text": [
      "1\n",
      "2\n",
      "3\n",
      "4\n",
      "5\n",
      "6\n",
      "aapple\n",
      "banana\n",
      "cherry\n",
      "7\n",
      "8\n",
      "9\n",
      "(1, 2, 3, 7, 8, 9)\n"
     ]
    }
   ],
   "source": [
    "my_tuple = ((1,2,3),[4,5,6],(\"aapple\",\"banana\",\"cherry\"),[7,8,9])\n",
    "# part a:\n",
    "\n",
    "for i in my_tuple:\n",
    "    for p in range(0,len(i)):\n",
    "        print(i[p])\n",
    "\n",
    "#part b:\n",
    "new_tuple = my_tuple[0]+ tuple(my_tuple[-1])\n",
    "print(new_tuple)"
   ]
  },
  {
   "cell_type": "markdown",
   "id": "a4118c61-275a-4b6e-904d-501a3ee27d67",
   "metadata": {},
   "source": [
    "#### Q2. inventory = { &quot;The Great Gatsby&quot;: {&quot;price&quot;: 10.99, &quot;quantity&quot;: 5}, &quot;Rich dad poor dad&quot;: {&quot;price&quot;:\n",
    "8.99, &quot;quantity&quot;: 8}, &quot;Harry Potter&quot;: {&quot;price&quot;: 12.50, &quot;quantity&quot;: 2}, }\n",
    "• Add a new book in inventory using method and get all book titles using method\n",
    "• Remove a book if it&#39;s out of stock"
   ]
  },
  {
   "cell_type": "code",
   "execution_count": 167,
   "id": "234b8dc2-c22f-473b-9474-9879deaa339e",
   "metadata": {},
   "outputs": [
    {
     "name": "stdout",
     "output_type": "stream",
     "text": [
      "dict_keys(['The Great Gatsby', 'Rich dad poor dad', 'Harry Potter', 'Atomic Habbits'])\n"
     ]
    }
   ],
   "source": [
    "#part a: add a book:\n",
    "inventory = { \"The Great Gatsby\": {\"price\": 10.99, \"quantity\": 5}, \"Rich dad poor dad\": {\"price\":\n",
    "8.99, \"quantity\": 8}, \"Harry Potter\": {\"price\": 12.50, \"quantity\": 2}, }\n",
    "\n",
    "inventory.update({\"Atomic Habbits\" : {\"price\" : 5, \"quantity\": 0}})\n",
    "print(inventory.keys())"
   ]
  },
  {
   "cell_type": "code",
   "execution_count": 168,
   "id": "4aa7d30e-0d4d-4ae4-8c0f-33843d40b7d0",
   "metadata": {},
   "outputs": [
    {
     "name": "stdout",
     "output_type": "stream",
     "text": [
      "{'The Great Gatsby': {'price': 10.99, 'quantity': 5}, 'Rich dad poor dad': {'price': 8.99, 'quantity': 8}, 'Harry Potter': {'price': 12.5, 'quantity': 2}, 'Atomic Habbits': {'price': 5, 'quantity': 0}}\n",
      "{'The Great Gatsby': {'price': 10.99, 'quantity': 5}, 'Rich dad poor dad': {'price': 8.99, 'quantity': 8}, 'Harry Potter': {'price': 12.5, 'quantity': 2}}\n"
     ]
    }
   ],
   "source": [
    "# part b: remove a book:\n",
    "print(inventory) #print original inventory list\n",
    "\n",
    "books = inventory.keys() # get all keys.\n",
    "books = list(books)      # change it to list.\n",
    "for book in books:\n",
    "    if inventory[book][\"quantity\"] == 0:\n",
    "        inventory.pop(book)\n",
    "\n",
    "print(inventory)\n",
    "\n",
    "\n",
    "\n"
   ]
  },
  {
   "cell_type": "markdown",
   "id": "ec540157-7577-4c1e-b7f4-95ae04b0a18e",
   "metadata": {},
   "source": [
    "#### Q3. An ecommerce store stores information about its products in a nested dictionary. The outer\n",
    "dictionary uses product IDs as keys, and the inner dictionary stores product details like name,\n",
    "category, price, and stock quantity.\n",
    "products = { 101: {&quot;name&quot;: &quot;Laptop&quot;, &quot;category&quot;: &quot;Electronics&quot;, &quot;price&quot;: 1200, &quot;stock&quot;: 50}, 102:\n",
    "{&quot;name&quot;: &quot;Shirt&quot;, &quot;category&quot;: &quot;Apparel&quot;, &quot;price&quot;: 25, &quot;stock&quot;: 200}, 103: {&quot;name&quot;: &quot;Coffee Maker&quot;,\n",
    "&quot;category&quot;: &quot;Home Appliances&quot;, &quot;price&quot;: 80, &quot;stock&quot;: 30} }\n",
    "• Increase the stock of the &quot;Shirt&quot; product (add 50 more units)\n",
    "• Add a new product (e.g., &quot;Smartphone&quot;)"
   ]
  },
  {
   "cell_type": "code",
   "execution_count": 175,
   "id": "083b4071-699c-4bd3-afa1-e44cd0df513a",
   "metadata": {},
   "outputs": [
    {
     "data": {
      "text/plain": [
       "{101: {'name': 'Laptop',\n",
       "  'category': 'Electronics',\n",
       "  'price': 1200,\n",
       "  'stock': 50},\n",
       " 102: {'name': 'Shirt', 'category': 'Apparel', 'price': 25, 'stock': 250},\n",
       " 103: {'name': 'Coffee Maker',\n",
       "  'category': 'Home Appliances',\n",
       "  'price': 80,\n",
       "  'stock': 30}}"
      ]
     },
     "execution_count": 175,
     "metadata": {},
     "output_type": "execute_result"
    }
   ],
   "source": [
    "#Part a: update shirts stock:\n",
    "products = { \n",
    "    101: {\"name\": \"Laptop\", \"category\": \"Electronics\", \"price\": 1200, \"stock\": 50}, \n",
    "    102: {\"name\": \"Shirt\", \"category\": \"Apparel\", \"price\": 25, \"stock\": 200}, \n",
    "    103: {\"name\": \"Coffee Maker\", \"category\": \"Home Appliances\", \"price\": 80, \"stock\": 30} \n",
    "            } \n",
    "\n",
    "products[102][\"stock\"] = 250\n",
    "products"
   ]
  },
  {
   "cell_type": "code",
   "execution_count": 176,
   "id": "bb983e60-48ab-4795-bd12-9333bfdce414",
   "metadata": {},
   "outputs": [
    {
     "data": {
      "text/plain": [
       "{101: {'name': 'Laptop',\n",
       "  'category': 'Electronics',\n",
       "  'price': 1200,\n",
       "  'stock': 50},\n",
       " 102: {'name': 'Shirt', 'category': 'Apparel', 'price': 25, 'stock': 250},\n",
       " 103: {'name': 'Coffee Maker',\n",
       "  'category': 'Home Appliances',\n",
       "  'price': 80,\n",
       "  'stock': 30},\n",
       " 104: {'name': 'smart phone',\n",
       "  'category': 'electronic',\n",
       "  'price': 200,\n",
       "  'stock': 20}}"
      ]
     },
     "execution_count": 176,
     "metadata": {},
     "output_type": "execute_result"
    }
   ],
   "source": [
    "#part b: add new product - smartphone:\n",
    "products.update({104 : {'name':'smart phone', 'category': 'electronic', 'price': 200, 'stock':20}})\n",
    "products"
   ]
  },
  {
   "cell_type": "markdown",
   "id": "d02db777-6b1a-4ca0-af53-ea7c46242544",
   "metadata": {},
   "source": [
    "#### Q4. You are given a list that contains some duplicate items. Remove the duplicates by converting the\n",
    "list to a set.\n",
    "shopping_list = [&quot;apple&quot;, &quot;banana&quot;, &quot;apple&quot;, &quot;orange&quot;, &quot;banana&quot;, &quot;grape&quot;]"
   ]
  },
  {
   "cell_type": "code",
   "execution_count": 179,
   "id": "a3ef4d1d-9809-4d52-8b3a-4b6b95ae96d4",
   "metadata": {},
   "outputs": [
    {
     "name": "stdout",
     "output_type": "stream",
     "text": [
      "{'grape', 'banana', 'orange', 'apple'}\n"
     ]
    }
   ],
   "source": [
    "shopping_list = [\"apple\", \"banana\", \"apple\", \"orange\", \"banana\", \"grape\"]\n",
    "new_shopping_list = set(shopping_list)\n",
    "print(new_shopping_list)"
   ]
  },
  {
   "cell_type": "markdown",
   "id": "9ab065e4-71fa-404d-8bbf-91e1de988b9f",
   "metadata": {},
   "source": [
    "#### Q5. You are managing a list of students enrolled in two different courses. You need to perform\n",
    "various set operations to understand the student enrollment. Task: Create two sets: one for students\n",
    "in &quot;Course A&quot; and one for students in &quot;Course B&quot;. Find the students who are in &quot;Course A&quot; but not in\n",
    "&quot;Course B&quot; (difference). Find students who are only in one of the two courses (symmetric\n",
    "difference). course_a = {&quot;John&quot;, &quot;Alice&quot;, &quot;Bob&quot;, &quot;David&quot;} course_b = {&quot;Alice&quot;, &quot;Eve&quot;, &quot;Charlie&quot;,\n",
    "&quot;David&quot;}\n",
    "• Find students who are in Course A but not in Course B (difference)\n",
    "• Find students who are only in one of the two courses (symmetric difference)\n"
   ]
  },
  {
   "cell_type": "code",
   "execution_count": 183,
   "id": "36f2b48c-3325-4b33-a0a1-03c861bd8565",
   "metadata": {},
   "outputs": [
    {
     "data": {
      "text/plain": [
       "{'Bob', 'John'}"
      ]
     },
     "execution_count": 183,
     "metadata": {},
     "output_type": "execute_result"
    }
   ],
   "source": [
    "course_a = {\"John\", \"Alice\", \"Bob\", \"David\"} \n",
    "course_b = {\"Alice\", \"Eve\", \"Charlie\", \"David\"}\n",
    "#part a: find students who are in course a and not in b\n",
    "course_a.difference(course_b)"
   ]
  },
  {
   "cell_type": "code",
   "execution_count": 184,
   "id": "5d4340e2-c30d-4af7-a493-0e3826a7c60f",
   "metadata": {},
   "outputs": [
    {
     "data": {
      "text/plain": [
       "{'Bob', 'Charlie', 'Eve', 'John'}"
      ]
     },
     "execution_count": 184,
     "metadata": {},
     "output_type": "execute_result"
    }
   ],
   "source": [
    "#part b: find students who are onlyin one of the two courses:\n",
    "course_a.symmetric_difference(course_b)"
   ]
  },
  {
   "cell_type": "markdown",
   "id": "4a5aabe4-2ada-4146-a984-82952dcb6686",
   "metadata": {},
   "source": [
    "#### Q6. Write a Python program that calculates the sum of all even numbers between 1 and 50\n",
    "(inclusive) using a for loop.\n",
    "Hint\n",
    "1. Initialize a variable to hold the sum (e.g., sum_of_evens).\n",
    "2. Use a for loop to iterate through all numbers from 1 to 50.\n",
    "3. Inside the loop, check if the number is even.\n",
    "4. If the number is even, add it to sum_of_evens.\n",
    "5. After the loop finishes, print the total sum of all even numbers between 1 and 50."
   ]
  },
  {
   "cell_type": "code",
   "execution_count": 190,
   "id": "22d2c8e1-2c2c-448c-a120-b01f86c44024",
   "metadata": {},
   "outputs": [
    {
     "name": "stdout",
     "output_type": "stream",
     "text": [
      "the total sum of all even numbers between 1 and 50 :  650\n"
     ]
    }
   ],
   "source": [
    "sum_of_evens = 0\n",
    "for i in range(1,52):\n",
    "    if i%2 == 0:\n",
    "        sum_of_evens +=i\n",
    "print(\"the total sum of all even numbers between 1 and 50 : \" ,sum_of_evens)"
   ]
  },
  {
   "cell_type": "markdown",
   "id": "8804d1a5-a4c2-4817-bd5a-762762449b2d",
   "metadata": {},
   "source": [
    "####Q7. Write a Python program that prints the multiplication table for a given number (between 1 and\n",
    "10) using a for loop.\n",
    "\n",
    "Hint:\n",
    "1. Ask the user for a number between 1 and 10 .\n",
    "2. Use a for loop to iterate through the numbers from 1 to 10.\n",
    "3. For each iteration, calculate the product of the given number and the current number in the\n",
    "loop.\n",
    "4. Print the result in a readable format (e.g., 5 x 1 = 5).\n",
    "5. Ensure the program works correctly for any number between 1 and 10."
   ]
  },
  {
   "cell_type": "code",
   "execution_count": 199,
   "id": "d2ce34f1-b8be-45e6-bc31-8ba1054b015c",
   "metadata": {},
   "outputs": [
    {
     "name": "stdin",
     "output_type": "stream",
     "text": [
      "please enter a number to print its multiplication table 9\n"
     ]
    },
    {
     "name": "stdout",
     "output_type": "stream",
     "text": [
      "9  X  1  = 9\n",
      "9  X  2  = 18\n",
      "9  X  3  = 27\n",
      "9  X  4  = 36\n",
      "9  X  5  = 45\n",
      "9  X  6  = 54\n",
      "9  X  7  = 63\n",
      "9  X  8  = 72\n",
      "9  X  9  = 81\n",
      "9  X  10  = 90\n"
     ]
    }
   ],
   "source": [
    "num = int(input(\"please enter a number to print its multiplication table\"))\n",
    "for i in range(1,11):\n",
    "    print(num, \" X \" , i , \" =\" , i*num)"
   ]
  },
  {
   "cell_type": "markdown",
   "id": "15b25c9e-d753-42b6-8950-1de01e13cfd2",
   "metadata": {},
   "source": [
    "#### Q8. Power of a Number\n",
    "Write a Python program that takes a number and prints the powers of the number (starting from 1\n",
    "to 10) using a while loop. For example, if the user inputs 3, the output should be:\n",
    "3^1 = 3\n",
    "3^2 = 9\n",
    "3^3 = 27\n",
    "... up to 3^10."
   ]
  },
  {
   "cell_type": "code",
   "execution_count": 207,
   "id": "5981c92e-7957-4007-bbe1-c28a14b8dfbc",
   "metadata": {},
   "outputs": [
    {
     "name": "stdin",
     "output_type": "stream",
     "text": [
      "please enter a number to print power of the number 1-10 2\n"
     ]
    },
    {
     "name": "stdout",
     "output_type": "stream",
     "text": [
      "2  ^  1  = 2\n",
      "2  ^  2  = 4\n",
      "2  ^  3  = 8\n",
      "2  ^  4  = 16\n",
      "2  ^  5  = 32\n",
      "2  ^  6  = 64\n",
      "2  ^  7  = 128\n",
      "2  ^  8  = 256\n",
      "2  ^  9  = 512\n",
      "2  ^  10  = 1024\n"
     ]
    }
   ],
   "source": [
    "num = int(input(\"please enter a number to print power of the number 1-10\"))\n",
    "for i in range(1,11):\n",
    "    print(num, \" ^ \" , i , \" =\" , num**i)"
   ]
  },
  {
   "cell_type": "markdown",
   "id": "d2f12d2c-8409-4b78-bd31-95db8783baf4",
   "metadata": {},
   "source": [
    "#### Q9. Problem Statement: Write a Python program that takes an integer input from the user and\n",
    "counts down from that number to 0. The program should display the current number at each step\n",
    "until it reaches 0, at which point it should print a message indicating the countdown is finished\n",
    "Output Hint:\n",
    "Enter a number to start the countdown: 3\n",
    "3\n",
    "2\n",
    "1\n",
    "0\n",
    "Countdown finished!"
   ]
  },
  {
   "cell_type": "code",
   "execution_count": 282,
   "id": "36e009a3-f1c1-4f06-b137-5a92ee123427",
   "metadata": {},
   "outputs": [
    {
     "name": "stdin",
     "output_type": "stream",
     "text": [
      "please enter a number, program will count down to zero from that number 6\n"
     ]
    },
    {
     "name": "stdout",
     "output_type": "stream",
     "text": [
      "6\n",
      "5\n",
      "4\n",
      "3\n",
      "2\n",
      "1\n",
      "count down finished\n"
     ]
    }
   ],
   "source": [
    "num = int(input(\"please enter a number, program will count down to zero from that number\"))\n",
    "temp_num = num\n",
    "for i in range(0,num+1):\n",
    "    if temp_num == 0:\n",
    "        print(\"count down finished\")\n",
    "    else:\n",
    "        print(temp_num)\n",
    "        temp_num -=1\n",
    "    "
   ]
  },
  {
   "cell_type": "markdown",
   "id": "31c25368-e018-4638-b33a-db0c522eea56",
   "metadata": {},
   "source": [
    "#### Q10. Write a Python program that takes an integer input n from the user and generates a right-\n",
    "angled triangle pattern of stars (*) with n rows. The first row should contain 1 star, the second row 2\n",
    "stars, the third row 3 stars, and so on until the nth row.\n",
    "Ensure the stars in each row are separated by spaces, and each row starts on a new line.\n",
    "Pattern:\n",
    "*\n",
    "**\n",
    "***\n",
    "****\n",
    "*****"
   ]
  },
  {
   "cell_type": "code",
   "execution_count": 298,
   "id": "4e24d61b-dc0b-4981-9fcf-88122480ce26",
   "metadata": {},
   "outputs": [
    {
     "name": "stdin",
     "output_type": "stream",
     "text": [
      "please enter a number to print right angle triangle of stars 6\n"
     ]
    },
    {
     "name": "stdout",
     "output_type": "stream",
     "text": [
      "* \n",
      "* * \n",
      "* * * \n",
      "* * * * \n",
      "* * * * * \n",
      "* * * * * * \n"
     ]
    }
   ],
   "source": [
    "num = int(input(\"please enter a number to print right angle triangle of stars\"))\n",
    "for i in range(1,num+1):\n",
    "    for v in range(0,i):\n",
    "        print(\"*\", end=\" \")\n",
    "    print()\n"
   ]
  },
  {
   "cell_type": "markdown",
   "id": "cda9ab00-ac7e-47f7-b639-b9661f3fd0a5",
   "metadata": {},
   "source": [
    "#### "
   ]
  }
 ],
 "metadata": {
  "kernelspec": {
   "display_name": "Python 3 (ipykernel)",
   "language": "python",
   "name": "python3"
  },
  "language_info": {
   "codemirror_mode": {
    "name": "ipython",
    "version": 3
   },
   "file_extension": ".py",
   "mimetype": "text/x-python",
   "name": "python",
   "nbconvert_exporter": "python",
   "pygments_lexer": "ipython3",
   "version": "3.12.7"
  }
 },
 "nbformat": 4,
 "nbformat_minor": 5
}
