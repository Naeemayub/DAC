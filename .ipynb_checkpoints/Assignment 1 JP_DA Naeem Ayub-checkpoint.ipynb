{
 "cells": [
  {
   "cell_type": "code",
   "execution_count": 2,
   "id": "c5e5fcc9-facf-41c2-ac94-46be9557a426",
   "metadata": {},
   "outputs": [],
   "source": [
    "salaries = ['20k', '40k', '50k', '60k', '35k', '89k','40k']"
   ]
  },
  {
   "cell_type": "code",
   "execution_count": 3,
   "id": "c1cd3c11-3f8e-469e-ba6f-4c0fbfa89b7e",
   "metadata": {},
   "outputs": [
    {
     "data": {
      "text/plain": [
       "['20k', '40k', '50k', '60k', '35k', '89k', '40k']"
      ]
     },
     "execution_count": 3,
     "metadata": {},
     "output_type": "execute_result"
    }
   ],
   "source": [
    "salaries"
   ]
  },
  {
   "cell_type": "markdown",
   "id": "51cde8ce-71ca-4e08-b502-f120732fa03b",
   "metadata": {},
   "source": [
    "##### 1. What is the length of the salaries list.\n",
    "   "
   ]
  },
  {
   "cell_type": "code",
   "execution_count": 4,
   "id": "40cf3578-223a-49f9-abd1-b10cac6d8999",
   "metadata": {},
   "outputs": [
    {
     "data": {
      "text/plain": [
       "7"
      ]
     },
     "execution_count": 4,
     "metadata": {},
     "output_type": "execute_result"
    }
   ],
   "source": [
    "len(salaries)"
   ]
  },
  {
   "cell_type": "markdown",
   "id": "0f9f0b6d-3f3e-442d-9be6-d7d087d19d72",
   "metadata": {},
   "source": [
    "##### 2. Retrieve the third salary in the list by using index."
   ]
  },
  {
   "cell_type": "code",
   "execution_count": 5,
   "id": "71ffa745-35cb-4b46-800c-425b7797e4cd",
   "metadata": {},
   "outputs": [
    {
     "data": {
      "text/plain": [
       "'50k'"
      ]
     },
     "execution_count": 5,
     "metadata": {},
     "output_type": "execute_result"
    }
   ],
   "source": [
    "salaries[2]"
   ]
  },
  {
   "cell_type": "markdown",
   "id": "5bfe4d39-d14f-4e1d-8f73-259269d990b2",
   "metadata": {},
   "source": [
    "##### 3. Extract the last salary from the list by using a negative index."
   ]
  },
  {
   "cell_type": "code",
   "execution_count": 6,
   "id": "7124a4e2-676b-48ff-8ac6-b44ce9b72fcd",
   "metadata": {},
   "outputs": [
    {
     "data": {
      "text/plain": [
       "'40k'"
      ]
     },
     "execution_count": 6,
     "metadata": {},
     "output_type": "execute_result"
    }
   ],
   "source": [
    "salaries[-1]"
   ]
  },
  {
   "cell_type": "markdown",
   "id": "f784c0c4-51ee-40bd-b8ee-fae9915efc78",
   "metadata": {},
   "source": [
    "##### 4. Slice the salaries list to get only the middle three salaries."
   ]
  },
  {
   "cell_type": "code",
   "execution_count": 7,
   "id": "539eb841-bc24-4f0d-9a69-cd674291e689",
   "metadata": {},
   "outputs": [
    {
     "data": {
      "text/plain": [
       "['50k', '60k', '35k']"
      ]
     },
     "execution_count": 7,
     "metadata": {},
     "output_type": "execute_result"
    }
   ],
   "source": [
    "salaries[2:5]"
   ]
  },
  {
   "cell_type": "markdown",
   "id": "5436a189-6cfc-4308-a341-ee03dbfd4975",
   "metadata": {},
   "source": [
    "##### 5. Add a new salary to the list, ‘100k’ by using append() method."
   ]
  },
  {
   "cell_type": "code",
   "execution_count": 8,
   "id": "8f67ec18-f74d-467c-a409-8bc6ba2d1511",
   "metadata": {},
   "outputs": [],
   "source": [
    "salaries.append(\"100k\")"
   ]
  },
  {
   "cell_type": "code",
   "execution_count": 9,
   "id": "09f7fd5d-acf2-4ee0-af41-006d7ec27697",
   "metadata": {},
   "outputs": [
    {
     "data": {
      "text/plain": [
       "['20k', '40k', '50k', '60k', '35k', '89k', '40k', '100k']"
      ]
     },
     "execution_count": 9,
     "metadata": {},
     "output_type": "execute_result"
    }
   ],
   "source": [
    "salaries"
   ]
  },
  {
   "cell_type": "markdown",
   "id": "21c80b63-eb97-49aa-95f8-bbd266065645",
   "metadata": {},
   "source": [
    "##### 5. Add a new salary to the list, ‘120k’ without method."
   ]
  },
  {
   "cell_type": "code",
   "execution_count": 10,
   "id": "607d6644-56e4-4d95-9c7a-2de123fab638",
   "metadata": {},
   "outputs": [],
   "source": [
    "salaries = salaries + [\"120k\"]"
   ]
  },
  {
   "cell_type": "code",
   "execution_count": 11,
   "id": "c0d95e5d-97ae-4843-86be-ac9c9eb577b9",
   "metadata": {},
   "outputs": [
    {
     "data": {
      "text/plain": [
       "['20k', '40k', '50k', '60k', '35k', '89k', '40k', '100k', '120k']"
      ]
     },
     "execution_count": 11,
     "metadata": {},
     "output_type": "execute_result"
    }
   ],
   "source": [
    "salaries"
   ]
  },
  {
   "cell_type": "markdown",
   "id": "8791df5a-2f9d-429e-9c2d-1664ca0464fa",
   "metadata": {},
   "source": [
    "##### 6. Replace the third salary in the list with '55k' and print the updated list."
   ]
  },
  {
   "cell_type": "code",
   "execution_count": 12,
   "id": "71c3496f-4b75-4c0f-a0ff-8a1083d300f1",
   "metadata": {},
   "outputs": [],
   "source": [
    "salaries[2] = \"55k\""
   ]
  },
  {
   "cell_type": "code",
   "execution_count": 13,
   "id": "52fc47a4-6ddf-4b01-b97e-8a5c2f39c00d",
   "metadata": {},
   "outputs": [
    {
     "data": {
      "text/plain": [
       "['20k', '40k', '55k', '60k', '35k', '89k', '40k', '100k', '120k']"
      ]
     },
     "execution_count": 13,
     "metadata": {},
     "output_type": "execute_result"
    }
   ],
   "source": [
    "salaries"
   ]
  },
  {
   "cell_type": "markdown",
   "id": "cf237304-713c-4d10-a306-d83baaac2ef6",
   "metadata": {},
   "source": [
    "##### 7. Count how many times '40k' appears in the list."
   ]
  },
  {
   "cell_type": "code",
   "execution_count": 14,
   "id": "ee7f922d-a410-4639-acc2-9f268a868246",
   "metadata": {},
   "outputs": [
    {
     "data": {
      "text/plain": [
       "9"
      ]
     },
     "execution_count": 14,
     "metadata": {},
     "output_type": "execute_result"
    }
   ],
   "source": [
    "len(salaries)"
   ]
  },
  {
   "cell_type": "code",
   "execution_count": 24,
   "id": "94ba8367-12e8-4dce-911a-3839572c28e3",
   "metadata": {},
   "outputs": [
    {
     "name": "stdout",
     "output_type": "stream",
     "text": [
      "2\n"
     ]
    }
   ],
   "source": [
    "print(salaries.count('40k'))\n"
   ]
  },
  {
   "cell_type": "markdown",
   "id": "900cead6-6e09-49b3-b96a-292ba079e458",
   "metadata": {},
   "source": [
    "##### 8. Insert a new salary at the second position."
   ]
  },
  {
   "cell_type": "code",
   "execution_count": 25,
   "id": "8e9014b0-2b44-4aca-9967-1fe791707636",
   "metadata": {},
   "outputs": [],
   "source": [
    "salaries.insert(1,'35k')"
   ]
  },
  {
   "cell_type": "code",
   "execution_count": 26,
   "id": "5f4d94a3-c569-4a49-a801-e04deab7833c",
   "metadata": {},
   "outputs": [
    {
     "data": {
      "text/plain": [
       "['120k', '35k', '100k', '40k', '89k', '35k', '60k', '55k', '40k', '35k', '20k']"
      ]
     },
     "execution_count": 26,
     "metadata": {},
     "output_type": "execute_result"
    }
   ],
   "source": [
    "salaries"
   ]
  },
  {
   "cell_type": "markdown",
   "id": "77bc7188-3b8b-406b-99d0-82cc4dd956ca",
   "metadata": {},
   "source": [
    "9. Reverse the order of the salaries list with method."
   ]
  },
  {
   "cell_type": "code",
   "execution_count": 27,
   "id": "b740c5d9-7ad0-4686-81eb-1ff8f74087e0",
   "metadata": {},
   "outputs": [],
   "source": [
    "salaries.reverse()"
   ]
  },
  {
   "cell_type": "code",
   "execution_count": 28,
   "id": "c9ec96f3-2c36-48d5-8254-4cd589cec799",
   "metadata": {},
   "outputs": [
    {
     "data": {
      "text/plain": [
       "['20k', '35k', '40k', '55k', '60k', '35k', '89k', '40k', '100k', '35k', '120k']"
      ]
     },
     "execution_count": 28,
     "metadata": {},
     "output_type": "execute_result"
    }
   ],
   "source": [
    "salaries"
   ]
  },
  {
   "cell_type": "markdown",
   "id": "4be2c069-613f-427c-a69c-49c86f5f80c5",
   "metadata": {},
   "source": [
    "##### 10. Reverse the order of the salaries list without method."
   ]
  },
  {
   "cell_type": "code",
   "execution_count": 29,
   "id": "8c24ac94-a095-4603-bfe8-b9a966d98953",
   "metadata": {},
   "outputs": [],
   "source": [
    "reversed_salaries = []\n",
    "for a in range(len(salaries)-1,-1,-1):\n",
    "    reversed_salaries.append(salaries[a])"
   ]
  },
  {
   "cell_type": "code",
   "execution_count": 30,
   "id": "541c2a70-edf4-4c8a-b6aa-52d6f0bf3174",
   "metadata": {},
   "outputs": [
    {
     "data": {
      "text/plain": [
       "['120k', '35k', '100k', '40k', '89k', '35k', '60k', '55k', '40k', '35k', '20k']"
      ]
     },
     "execution_count": 30,
     "metadata": {},
     "output_type": "execute_result"
    }
   ],
   "source": [
    "reversed_salaries"
   ]
  },
  {
   "cell_type": "code",
   "execution_count": null,
   "id": "f85b9ffe-a932-4118-888f-69dfe4d67648",
   "metadata": {},
   "outputs": [],
   "source": []
  }
 ],
 "metadata": {
  "kernelspec": {
   "display_name": "Python 3 (ipykernel)",
   "language": "python",
   "name": "python3"
  },
  "language_info": {
   "codemirror_mode": {
    "name": "ipython",
    "version": 3
   },
   "file_extension": ".py",
   "mimetype": "text/x-python",
   "name": "python",
   "nbconvert_exporter": "python",
   "pygments_lexer": "ipython3",
   "version": "3.12.7"
  }
 },
 "nbformat": 4,
 "nbformat_minor": 5
}
