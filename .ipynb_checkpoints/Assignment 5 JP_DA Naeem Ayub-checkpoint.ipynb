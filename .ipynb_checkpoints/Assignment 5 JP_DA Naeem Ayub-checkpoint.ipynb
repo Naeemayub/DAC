{
 "cells": [
  {
   "cell_type": "markdown",
   "id": "170d9f80-0bdf-4d32-9736-93e86857cc87",
   "metadata": {},
   "source": [
    "#### 1. Write a Python function called add_numbers that takes two numbers as arguments and returns their sum. Then, test the function by calling it with two numbers of your choice."
   ]
  },
  {
   "cell_type": "code",
   "execution_count": 10,
   "id": "82327bff-5892-4d2b-8d4e-59e498dcdec0",
   "metadata": {},
   "outputs": [
    {
     "name": "stdout",
     "output_type": "stream",
     "text": [
      "This code display sum of 2 numbers of your choice.\n"
     ]
    },
    {
     "name": "stdin",
     "output_type": "stream",
     "text": [
      "please enter first number 66\n",
      "please enter second number 55\n"
     ]
    },
    {
     "name": "stdout",
     "output_type": "stream",
     "text": [
      "The sum of giveb numers is: 121\n"
     ]
    }
   ],
   "source": [
    "def add_numbers(num1, num2):\n",
    "    return print(f'The sum of giveb numers is:' , num1+num2)\n",
    "print(\"This code display sum of 2 numbers of your choice.\") \n",
    "\n",
    "num1 = int(input(\"please enter first number\"))\n",
    "num2 = int(input(\"please enter second number\"))\n",
    "add_numbers(num1,num2)"
   ]
  },
  {
   "cell_type": "markdown",
   "id": "7f9ede6d-db1d-4d2c-ac3c-c4e1a3653c30",
   "metadata": {},
   "source": [
    "#### 2. Write a Python function count_vowels that accepts a string and returns the number of vowels (a, e, i, o, u) in that string.\n",
    "- Example: 'Orange'\n",
    "- Output: 3 vowels\n"
   ]
  },
  {
   "cell_type": "code",
   "execution_count": 20,
   "id": "c617cf9c-1297-4f4f-84a1-a37d15888ca9",
   "metadata": {},
   "outputs": [
    {
     "name": "stdin",
     "output_type": "stream",
     "text": [
      "enter a string, the code will display nubmer of vowels in it Naeem Ayub\n"
     ]
    },
    {
     "name": "stdout",
     "output_type": "stream",
     "text": [
      "Your string has: 4 vowels\n"
     ]
    }
   ],
   "source": [
    "\n",
    "def count_vowels(arg):\n",
    "    counter = 0\n",
    "    vowels = ('a','e','i','o','u')\n",
    "    for i in arg:\n",
    "        for v in vowels:\n",
    "            if v == i:\n",
    "                counter= counter + 1\n",
    "                \n",
    "    return print(f\"Your string has: {counter} vowels\")\n",
    "user_str = input(\"enter a string, the code will display nubmer of vowels in it\")\n",
    "count_vowels(user_str)\n",
    "        "
   ]
  },
  {
   "cell_type": "markdown",
   "id": "09ed52aa-b88e-4f30-a017-652d8de535cc",
   "metadata": {},
   "source": [
    "#### 3. Create a Python function called currency_converter() that takes two arguments:\n",
    "\n",
    "- amount: The amount of money to be converted (in USD).\n",
    "- exchange_rate (default is 280): The conversion rate from USD to another currency (e.g., PKR). You can assume the default rate is 1 USD = 280 PKR.\n",
    "\n",
    "The function should return a message showing how much the given amount is worth in the target currency (PKR)."
   ]
  },
  {
   "cell_type": "code",
   "execution_count": 29,
   "id": "1bea5ade-e245-442d-b1ab-d461c5de70df",
   "metadata": {},
   "outputs": [
    {
     "name": "stdin",
     "output_type": "stream",
     "text": [
      "The code will convert usd to pkr @1 USD =280,please enter amount in USD:  100\n"
     ]
    },
    {
     "name": "stdout",
     "output_type": "stream",
     "text": [
      "The 100USD is equal to 28000 in PKR\n"
     ]
    }
   ],
   "source": [
    "def currency_converter(amount):\n",
    "    exchange_rate = 280\n",
    "    return print(f\"The {amount}USD is equal to {exchange_rate*amount} in PKR\")\n",
    "\n",
    "amount = int(input(\"The code will convert usd to pkr @1 USD =280,please enter amount in USD: \"))\n",
    "currency_converter(amount)"
   ]
  },
  {
   "cell_type": "markdown",
   "id": "80ee5bc1-0c50-4341-9c04-12c9706e3e2d",
   "metadata": {},
   "source": [
    "#### 4. Write a Python function display_student_info that accepts the following details about a student:\n",
    "\n",
    "- name (Keyword argument): The name of the student.\n",
    "- age (Keyword argument): The age of the student.\n",
    "- grade (Keyword argument): The grade the student is in.\n",
    "- school (Keyword argument): The name of the school the student attends."
   ]
  },
  {
   "cell_type": "code",
   "execution_count": 42,
   "id": "20cc9f7c-93df-45f9-b81b-1f8e976d3b44",
   "metadata": {},
   "outputs": [
    {
     "name": "stdin",
     "output_type": "stream",
     "text": [
      "enter student name Naeem\n",
      "enter student age 20\n",
      "enter student's grade A\n",
      "enter student's school Jawan Pakistan\n"
     ]
    },
    {
     "name": "stdout",
     "output_type": "stream",
     "text": [
      "name:Naeem\n",
      "age:20\n",
      "grade:A\n",
      "school:Jawan Pakistan\n"
     ]
    }
   ],
   "source": [
    "def display_student_info(**kwargs):\n",
    "    for k in kwargs.items():\n",
    "        print(f'{k[0]}:{k[1]}')\n",
    "        \n",
    "\n",
    "name = input(\"enter student name\")\n",
    "age = input(\"enter student age\")\n",
    "grade = input(\"enter student's grade\")\n",
    "school = input(\"enter student's school\")\n",
    "\n",
    "display_student_info(name=name, age=age,grade=grade, school=school)\n",
    "\n",
    "    "
   ]
  },
  {
   "cell_type": "markdown",
   "id": "0fe94f0f-cf3b-4122-8c18-204e74890214",
   "metadata": {},
   "source": [
    "#### 5. Write a Python function calculate_price that accepts two positional arguments:\n",
    "\n",
    "- price: The price of a single item.\n",
    "- quantity: The number of items bought.\n",
    "- The function should return the total price by multiplying price and quantity."
   ]
  },
  {
   "cell_type": "code",
   "execution_count": 46,
   "id": "cd6485fa-f7df-49c3-ab84-a000581576dd",
   "metadata": {},
   "outputs": [
    {
     "name": "stdin",
     "output_type": "stream",
     "text": [
      "enter price 10\n",
      "enter quantity 50\n"
     ]
    },
    {
     "data": {
      "text/plain": [
       "500"
      ]
     },
     "execution_count": 46,
     "metadata": {},
     "output_type": "execute_result"
    }
   ],
   "source": [
    "def calculate_price(price,quantity):\n",
    "    return price*quantity\n",
    "\n",
    "price = int(input(\"enter price\"))\n",
    "quantity = int(input(\"enter quantity\"))\n",
    "\n",
    "calculate_price(price,quantity)\n",
    "    "
   ]
  },
  {
   "cell_type": "markdown",
   "id": "f296207b-8c2c-4fed-a439-55c62a4fad48",
   "metadata": {},
   "source": [
    "#### 6. Write a Python function display_prices that takes a product name and an arbitrary number of keyword arguments representing product prices. The function should display each product and its price.\n",
    "\n",
    "- Product: Laptop\n",
    "- Amazon: $800\n",
    "\n",
    "- eBay: $750\n",
    "  \n",
    "- Walmart: $780\n"
   ]
  },
  {
   "cell_type": "code",
   "execution_count": 164,
   "id": "30e97af8-191e-452c-824b-40a48d4531b9",
   "metadata": {},
   "outputs": [
    {
     "name": "stdout",
     "output_type": "stream",
     "text": [
      "product: Laptop\n",
      "Amazon: $800\n",
      "ebay: $750\n",
      "Walmart: $780\n"
     ]
    }
   ],
   "source": [
    "def display_price(**kwargs):\n",
    "    for k in kwargs.items():\n",
    "        print(f'{k[0]}: {k[1]}')\n",
    "display_price(product=\"Laptop\", Amazon=\"$800\", ebay= \"$750\", Walmart= \"$780\")"
   ]
  },
  {
   "cell_type": "markdown",
   "id": "5f1c1d64-058b-4ace-ab15-ac1debdce1a0",
   "metadata": {},
   "source": [
    "#### 7. Write a Python function find_max that takes any number of numerical arguments and returns the maximum number."
   ]
  },
  {
   "cell_type": "code",
   "execution_count": 184,
   "id": "9709c849-0e56-42ee-998e-53706eea8e6e",
   "metadata": {},
   "outputs": [
    {
     "name": "stdin",
     "output_type": "stream",
     "text": [
      "enter your numbers one by one to find max number , press '0' to see the result once you have entered all numbers:  80\n",
      "enter your numbers one by one to find max number , press '0' to see the result once you have entered all numbers:  50\n",
      "enter your numbers one by one to find max number , press '0' to see the result once you have entered all numbers:  88\n",
      "enter your numbers one by one to find max number , press '0' to see the result once you have entered all numbers:  0\n"
     ]
    },
    {
     "name": "stdout",
     "output_type": "stream",
     "text": [
      "The Max number is : 88\n"
     ]
    }
   ],
   "source": [
    "def find_max(*args):\n",
    "    max_num= 1\n",
    "    for arg in args:\n",
    "        for num in arg:\n",
    "            if num >= max_num:\n",
    "                max_num = num\n",
    "    return print(f'The Max number is : {max_num}')\n",
    "\n",
    "num = []\n",
    "p = \" \"\n",
    "while p != 0:\n",
    "    p = int(input(\"enter your numbers one by one to find max number , press '0' to see the result once you have entered all numbers: \"))\n",
    "    if p == 0 :\n",
    "        find_max(num)\n",
    "    else:\n",
    "        num.append(p)"
   ]
  },
  {
   "cell_type": "markdown",
   "id": "133f4fd5-0f8d-4595-88c2-0cd7371c775b",
   "metadata": {},
   "source": [
    "###### 8. Write a Python function display_info that takes:\n",
    "\n",
    "- Positional arguments for the name and age of a person.\n",
    "- Keyword arguments for other personal details like address, phone number, and email.\n",
    "\n",
    "Example Output:\n",
    "\n",
    "- Name: Alice\n",
    "- Age: 30\n",
    "- Other Details:\n",
    "    - address: 123 Main St\n",
    "    - phone: 123-456-7890\n",
    "    - email: alice@example.com\n"
   ]
  },
  {
   "cell_type": "code",
   "execution_count": 203,
   "id": "51618414-015b-4c15-85f3-e44d4ca290e1",
   "metadata": {},
   "outputs": [
    {
     "name": "stdin",
     "output_type": "stream",
     "text": [
      "enter Name:  Naeem\n",
      "enter Age:  20\n",
      "enter address:  Lahore\n",
      "enter Phone:  46546\n",
      "enter Email:  n@hotmail.com\n"
     ]
    },
    {
     "name": "stdout",
     "output_type": "stream",
     "text": [
      "- Name : Naeem\n",
      "- Age : 20\n",
      "- Other Details : \n",
      "    -address  : Lahore\n",
      "    -phone  : 46546\n",
      "    -email  : n@hotmail.com\n"
     ]
    }
   ],
   "source": [
    "def display_info(*args, **kwargs):\n",
    "    print(f'- Name : {args[0]}')\n",
    "    print(f'- Age : {args[1]}')\n",
    "    print(f'- Other Details : ')\n",
    "    for key,value in kwargs.items():\n",
    "        print(f'    -{key}  : {value}')\n",
    "    \n",
    "\n",
    "\n",
    "name = input(\"enter Name: \")\n",
    "age = input(\"enter Age: \")\n",
    "address = input(\"enter address: \")\n",
    "phone = input(\"enter Phone: \")\n",
    "email = input(\"enter Email: \")\n",
    "\n",
    "display_info(name, age, address = address, phone = phone ,email = email)"
   ]
  },
  {
   "cell_type": "markdown",
   "id": "ba32f7dd-8038-4e6d-a785-0244a500313c",
   "metadata": {},
   "source": [
    "#### 9. Write a Python function calculate_rectangle that accepts the length and width of a rectangle as arguments. Inside this function, create two nested functions:\n",
    "\n",
    "- calculate_area: This function should calculate the area of the rectangle.\n",
    "- calculate_perimeter: This function should calculate the perimeter of the rectangle.\n",
    "- The main function should return both the area and the perimeter of the rectangle."
   ]
  },
  {
   "cell_type": "code",
   "execution_count": 224,
   "id": "3a94d5f5-f041-4d7a-a28e-4ed0701f15ad",
   "metadata": {},
   "outputs": [
    {
     "name": "stdin",
     "output_type": "stream",
     "text": [
      "Enter length of rectangle 50\n",
      "Enter Width of rectangle 20\n"
     ]
    },
    {
     "name": "stdout",
     "output_type": "stream",
     "text": [
      "Area: 1000, Perimeter: 140\n"
     ]
    }
   ],
   "source": [
    "def calculate_rectangle(length, width):\n",
    "   \n",
    "    def calculate_area(length,width):\n",
    "        area = width*length\n",
    "        return area\n",
    "    \n",
    "    def calculate_perimeter(length,width):\n",
    "        perimeter = 2*(length+width)\n",
    "        return perimeter\n",
    "    return print(f'Area: {calculate_area(length,width)}, Perimeter: {calculate_perimeter(length,width)}')\n",
    "  \n",
    "        \n",
    "\n",
    "length = int(input(\"Enter length of rectangle\"))\n",
    "width = int(input(\"Enter Width of rectangle\"))\n",
    "\n",
    "calculate_rectangle(length,width)"
   ]
  },
  {
   "cell_type": "markdown",
   "id": "ff60a2fd-df19-4d11-ae27-27443c000e5a",
   "metadata": {},
   "source": [
    "#### Q 10.\n",
    "\n",
    "products = [\n",
    "    {\"name\": \"Laptop\", \"price\": 1200, \"in_stock\": True, \"discount\": 0.1},\n",
    "    {\"name\": \"Smartphone\", \"price\": 800, \"in_stock\": False, \"discount\": 0.05},\n",
    "    {\"name\": \"Headphones\", \"price\": 150, \"in_stock\": True, \"discount\": 0.2},\n",
    "    {\"name\": \"Smartwatch\", \"price\": 300, \"in_stock\": True, \"discount\": 0},\n",
    "    {\"name\": \"Keyboard\", \"price\": 100, \"in_stock\": True, \"discount\": 0.15}\n",
    "]\n",
    "\n",
    "- Get names of in-stock products:\n",
    "\n",
    "  *Use list comprehension to generate a list of names for the products that are in stock.\n",
    "                                            \n",
    "- Calculate final prices for in-stock products after discount:\n",
    "\n",
    "    *For products that have a discount, calculate the final price by applying the discount.\n",
    "\n",
    "  \n",
    "    *For products with no discount, keep the original price.\n",
    "                                            \n",
    "- Generate a list of tuples with the product name and its final price.\n",
    "\n",
    "Example Output:\n",
    "\n",
    "- In-stock product names: ['Laptop', 'Headphones', 'Smartwatch', 'Keyboard']\n",
    "- Discounted prices: [('Laptop', 1080.0), ('Headphones', 120.0), ('Smartwatch', 300), ('Keyboard', 85.0)]\n"
   ]
  },
  {
   "cell_type": "code",
   "execution_count": 283,
   "id": "fd660dd1-11b5-4e4d-b69d-fc8ea4a44f2f",
   "metadata": {},
   "outputs": [
    {
     "name": "stdout",
     "output_type": "stream",
     "text": [
      "-In_stock product names: ['Laptop', 'Headphones', 'Smartwatch', 'Keyboard']\n",
      "-Discounted Products [('Laptop', 1080.0), ('Smartphone', 760.0), ('Headphones', 120.0), ('Keyboard', 85.0)]\n"
     ]
    }
   ],
   "source": [
    "products = [\n",
    "    {\"name\": \"Laptop\", \"price\": 1200, \"in_stock\": True, \"discount\": 0.1},\n",
    "    {\"name\": \"Smartphone\", \"price\": 800, \"in_stock\": False, \"discount\": 0.05},\n",
    "    {\"name\": \"Headphones\", \"price\": 150, \"in_stock\": True, \"discount\": 0.2},\n",
    "    {\"name\": \"Smartwatch\", \"price\": 300, \"in_stock\": True, \"discount\": 0},\n",
    "    {\"name\": \"Keyboard\", \"price\": 100, \"in_stock\": True, \"discount\": 0.15}\n",
    "]\n",
    "\n",
    "In_stock = [product['name'] for product in products if product['in_stock']== True ]\n",
    "print(f'-In_stock product names: {In_stock}')\n",
    "\n",
    "discounted_products_list = []\n",
    "for product in products:    \n",
    "    if product['discount'] > 0:\n",
    "        price = product['price'] - (product['price'] * product['discount'])\n",
    "        discounted_products_list.append((product['name'],price))\n",
    "\n",
    "print(f'-Discounted Products {discounted_products_list}')\n",
    "   "
   ]
  },
  {
   "cell_type": "code",
   "execution_count": null,
   "id": "d166ddd2-d4c8-4ea5-a613-169c59b0091d",
   "metadata": {},
   "outputs": [],
   "source": []
  }
 ],
 "metadata": {
  "kernelspec": {
   "display_name": "Python 3 (ipykernel)",
   "language": "python",
   "name": "python3"
  },
  "language_info": {
   "codemirror_mode": {
    "name": "ipython",
    "version": 3
   },
   "file_extension": ".py",
   "mimetype": "text/x-python",
   "name": "python",
   "nbconvert_exporter": "python",
   "pygments_lexer": "ipython3",
   "version": "3.12.7"
  }
 },
 "nbformat": 4,
 "nbformat_minor": 5
}
