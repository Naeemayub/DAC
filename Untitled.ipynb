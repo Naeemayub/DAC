{
 "cells": [
  {
   "cell_type": "code",
   "execution_count": 11,
   "id": "8734b0fa-c5ad-4c1c-92dd-0f21a3caea37",
   "metadata": {},
   "outputs": [
    {
     "name": "stdout",
     "output_type": "stream",
     "text": [
      "hello world\n"
     ]
    }
   ],
   "source": [
    "print(\"hello world\")"
   ]
  },
  {
   "cell_type": "code",
   "execution_count": 12,
   "id": "c4da4f07-cabd-4f7b-86c9-2d2bdf7e9b24",
   "metadata": {},
   "outputs": [],
   "source": [
    "name = 'naeem'"
   ]
  },
  {
   "cell_type": "code",
   "execution_count": 13,
   "id": "5ec8032b-4418-4490-83ac-ded56de19af5",
   "metadata": {},
   "outputs": [
    {
     "data": {
      "text/plain": [
       "str"
      ]
     },
     "execution_count": 13,
     "metadata": {},
     "output_type": "execute_result"
    }
   ],
   "source": [
    "type(name)"
   ]
  },
  {
   "cell_type": "code",
   "execution_count": 14,
   "id": "826d1917-0fa9-4f10-b2ea-d1d65d9897e4",
   "metadata": {},
   "outputs": [
    {
     "ename": "ValueError",
     "evalue": "invalid literal for int() with base 10: 'naeem'",
     "output_type": "error",
     "traceback": [
      "\u001b[1;31m---------------------------------------------------------------------------\u001b[0m",
      "\u001b[1;31mValueError\u001b[0m                                Traceback (most recent call last)",
      "Cell \u001b[1;32mIn[14], line 1\u001b[0m\n\u001b[1;32m----> 1\u001b[0m \u001b[38;5;28mint\u001b[39m(name)\n",
      "\u001b[1;31mValueError\u001b[0m: invalid literal for int() with base 10: 'naeem'"
     ]
    }
   ],
   "source": [
    "int(name)"
   ]
  },
  {
   "cell_type": "code",
   "execution_count": 15,
   "id": "0b0debd9-127f-4555-8f56-fbf24e0b9d43",
   "metadata": {},
   "outputs": [],
   "source": [
    "a =10"
   ]
  },
  {
   "cell_type": "code",
   "execution_count": 16,
   "id": "0a978516-85bf-45af-8029-76fa8ba843a2",
   "metadata": {},
   "outputs": [
    {
     "ename": "NameError",
     "evalue": "name 'flt' is not defined",
     "output_type": "error",
     "traceback": [
      "\u001b[1;31m---------------------------------------------------------------------------\u001b[0m",
      "\u001b[1;31mNameError\u001b[0m                                 Traceback (most recent call last)",
      "Cell \u001b[1;32mIn[16], line 1\u001b[0m\n\u001b[1;32m----> 1\u001b[0m flt(a)\n",
      "\u001b[1;31mNameError\u001b[0m: name 'flt' is not defined"
     ]
    }
   ],
   "source": [
    "flt(a)"
   ]
  },
  {
   "cell_type": "code",
   "execution_count": 17,
   "id": "f0058eaa-4320-4137-b62a-16a54f0d706a",
   "metadata": {},
   "outputs": [
    {
     "data": {
      "text/plain": [
       "10.0"
      ]
     },
     "execution_count": 17,
     "metadata": {},
     "output_type": "execute_result"
    }
   ],
   "source": [
    "float(a)"
   ]
  },
  {
   "cell_type": "code",
   "execution_count": 18,
   "id": "4a8973ea-cc48-44bd-8f15-632e6f1249ef",
   "metadata": {},
   "outputs": [
    {
     "data": {
      "text/plain": [
       "10"
      ]
     },
     "execution_count": 18,
     "metadata": {},
     "output_type": "execute_result"
    }
   ],
   "source": [
    "a"
   ]
  },
  {
   "cell_type": "code",
   "execution_count": 19,
   "id": "b220b24e-59ea-469f-8a30-06e86229b20e",
   "metadata": {},
   "outputs": [
    {
     "data": {
      "text/plain": [
       "10"
      ]
     },
     "execution_count": 19,
     "metadata": {},
     "output_type": "execute_result"
    }
   ],
   "source": [
    "int(a)"
   ]
  },
  {
   "cell_type": "code",
   "execution_count": 20,
   "id": "e9eaa646-b795-4d5d-b048-0bc9303dd072",
   "metadata": {},
   "outputs": [
    {
     "data": {
      "text/plain": [
       "'10'"
      ]
     },
     "execution_count": 20,
     "metadata": {},
     "output_type": "execute_result"
    }
   ],
   "source": [
    "a = '10'\n",
    "a"
   ]
  },
  {
   "cell_type": "code",
   "execution_count": 21,
   "id": "435ecb69-9c4c-4381-87f5-2c98def580e7",
   "metadata": {},
   "outputs": [
    {
     "ename": "TypeError",
     "evalue": "unsupported operand type(s) for +: 'int' and 'str'",
     "output_type": "error",
     "traceback": [
      "\u001b[1;31m---------------------------------------------------------------------------\u001b[0m",
      "\u001b[1;31mTypeError\u001b[0m                                 Traceback (most recent call last)",
      "Cell \u001b[1;32mIn[21], line 1\u001b[0m\n\u001b[1;32m----> 1\u001b[0m \u001b[38;5;241m10\u001b[39m \u001b[38;5;241m+\u001b[39m a\n",
      "\u001b[1;31mTypeError\u001b[0m: unsupported operand type(s) for +: 'int' and 'str'"
     ]
    }
   ],
   "source": [
    "10 + a"
   ]
  },
  {
   "cell_type": "code",
   "execution_count": 22,
   "id": "f6daff7a-4be5-4fbc-bfb0-76d90d0175a2",
   "metadata": {},
   "outputs": [
    {
     "data": {
      "text/plain": [
       "20"
      ]
     },
     "execution_count": 22,
     "metadata": {},
     "output_type": "execute_result"
    }
   ],
   "source": [
    "10 + int(a)"
   ]
  },
  {
   "cell_type": "code",
   "execution_count": 23,
   "id": "8fb12272-46b3-466b-8ef2-1e23ce1b9c28",
   "metadata": {},
   "outputs": [
    {
     "data": {
      "text/plain": [
       "9"
      ]
     },
     "execution_count": 23,
     "metadata": {},
     "output_type": "execute_result"
    }
   ],
   "source": [
    "4*4+5-3*4"
   ]
  },
  {
   "cell_type": "code",
   "execution_count": 25,
   "id": "e462ea6c-1f5a-411a-a2d7-5f7832f14c84",
   "metadata": {},
   "outputs": [
    {
     "name": "stdout",
     "output_type": "stream",
     "text": [
      "a is not equal 10\n"
     ]
    }
   ],
   "source": [
    "a   = 11\n",
    "\n",
    "if a == 10:\n",
    "    print(\"a is equal 10\")\n",
    "else : \n",
    "    print(\"a is not equal 10\")"
   ]
  },
  {
   "cell_type": "code",
   "execution_count": null,
   "id": "f6c2a015-8874-48db-aa19-544fa9ced15c",
   "metadata": {},
   "outputs": [],
   "source": []
  }
 ],
 "metadata": {
  "kernelspec": {
   "display_name": "Python 3 (ipykernel)",
   "language": "python",
   "name": "python3"
  },
  "language_info": {
   "codemirror_mode": {
    "name": "ipython",
    "version": 3
   },
   "file_extension": ".py",
   "mimetype": "text/x-python",
   "name": "python",
   "nbconvert_exporter": "python",
   "pygments_lexer": "ipython3",
   "version": "3.12.7"
  }
 },
 "nbformat": 4,
 "nbformat_minor": 5
}
