{
 "cells": [
  {
   "cell_type": "code",
   "execution_count": 1,
   "id": "8734b0fa-c5ad-4c1c-92dd-0f21a3caea37",
   "metadata": {},
   "outputs": [
    {
     "name": "stdout",
     "output_type": "stream",
     "text": [
      "hello world\n"
     ]
    }
   ],
   "source": [
    "print(\"hello world\")"
   ]
  },
  {
   "cell_type": "code",
   "execution_count": 2,
   "id": "c4da4f07-cabd-4f7b-86c9-2d2bdf7e9b24",
   "metadata": {},
   "outputs": [],
   "source": [
    "name = 'naeem'"
   ]
  },
  {
   "cell_type": "code",
   "execution_count": 3,
   "id": "5ec8032b-4418-4490-83ac-ded56de19af5",
   "metadata": {},
   "outputs": [
    {
     "data": {
      "text/plain": [
       "str"
      ]
     },
     "execution_count": 3,
     "metadata": {},
     "output_type": "execute_result"
    }
   ],
   "source": [
    "type(name)"
   ]
  },
  {
   "cell_type": "code",
   "execution_count": 33,
   "id": "826d1917-0fa9-4f10-b2ea-d1d65d9897e4",
   "metadata": {},
   "outputs": [
    {
     "name": "stdin",
     "output_type": "stream",
     "text": [
      "Enter your string sdfskljlkdog\n"
     ]
    },
    {
     "data": {
      "text/plain": [
       "True"
      ]
     },
     "execution_count": 33,
     "metadata": {},
     "output_type": "execute_result"
    }
   ],
   "source": [
    "pwd = input(\"Enter your string\")\n",
    "pwd.endswith('dog')"
   ]
  },
  {
   "cell_type": "code",
   "execution_count": 47,
   "id": "0b0debd9-127f-4555-8f56-fbf24e0b9d43",
   "metadata": {},
   "outputs": [
    {
     "name": "stdin",
     "output_type": "stream",
     "text": [
      "input price 555\n"
     ]
    },
    {
     "name": "stdout",
     "output_type": "stream",
     "text": [
      "555.00\n"
     ]
    }
   ],
   "source": [
    "text = \"{Price:.2f}\"\n",
    "price = int(input(\"input price\"))\n",
    "print(text.format(Price=price))  "
   ]
  },
  {
   "cell_type": "code",
   "execution_count": 52,
   "id": "e58c9d86-1898-44d9-8654-74a6f0555636",
   "metadata": {},
   "outputs": [
    {
     "name": "stdin",
     "output_type": "stream",
     "text": [
      "enter your text my anme is gulta\n"
     ]
    },
    {
     "name": "stdout",
     "output_type": "stream",
     "text": [
      "here is encodedd version of your text:  b'my anme is gulta'\n"
     ]
    }
   ],
   "source": [
    "text =input(\"enter your text\")\n",
    "x = text.encode()\n",
    "print(\"here is encodedd version of your text: \", x)"
   ]
  },
  {
   "cell_type": "markdown",
   "id": "d9c1be99-148a-4023-a188-bfff320c9a02",
   "metadata": {},
   "source": [
    "##### flt(a)"
   ]
  },
  {
   "cell_type": "code",
   "execution_count": null,
   "id": "f0058eaa-4320-4137-b62a-16a54f0d706a",
   "metadata": {},
   "outputs": [],
   "source": [
    "float(a)"
   ]
  },
  {
   "cell_type": "code",
   "execution_count": null,
   "id": "4a8973ea-cc48-44bd-8f15-632e6f1249ef",
   "metadata": {},
   "outputs": [],
   "source": [
    "a"
   ]
  },
  {
   "cell_type": "code",
   "execution_count": null,
   "id": "b220b24e-59ea-469f-8a30-06e86229b20e",
   "metadata": {},
   "outputs": [],
   "source": [
    "int(a)"
   ]
  },
  {
   "cell_type": "code",
   "execution_count": null,
   "id": "e9eaa646-b795-4d5d-b048-0bc9303dd072",
   "metadata": {},
   "outputs": [],
   "source": [
    "a = '10'\n",
    "a"
   ]
  },
  {
   "cell_type": "code",
   "execution_count": null,
   "id": "435ecb69-9c4c-4381-87f5-2c98def580e7",
   "metadata": {},
   "outputs": [],
   "source": [
    "10 + a"
   ]
  },
  {
   "cell_type": "code",
   "execution_count": null,
   "id": "f6daff7a-4be5-4fbc-bfb0-76d90d0175a2",
   "metadata": {},
   "outputs": [],
   "source": [
    "10 + int(a)"
   ]
  },
  {
   "cell_type": "code",
   "execution_count": null,
   "id": "8fb12272-46b3-466b-8ef2-1e23ce1b9c28",
   "metadata": {},
   "outputs": [],
   "source": [
    "4*4+5-3*4"
   ]
  },
  {
   "cell_type": "code",
   "execution_count": null,
   "id": "e462ea6c-1f5a-411a-a2d7-5f7832f14c84",
   "metadata": {},
   "outputs": [],
   "source": [
    "a   = 11\n",
    "\n",
    "if a == 10:\n",
    "    print(\"a is equal 10\")\n",
    "else : \n",
    "    print(\"a is not equal 10\")"
   ]
  },
  {
   "cell_type": "code",
   "execution_count": 5,
   "id": "f6c2a015-8874-48db-aa19-544fa9ced15c",
   "metadata": {},
   "outputs": [
    {
     "data": {
      "text/plain": [
       "['__add__',\n",
       " '__class__',\n",
       " '__class_getitem__',\n",
       " '__contains__',\n",
       " '__delattr__',\n",
       " '__delitem__',\n",
       " '__dir__',\n",
       " '__doc__',\n",
       " '__eq__',\n",
       " '__format__',\n",
       " '__ge__',\n",
       " '__getattribute__',\n",
       " '__getitem__',\n",
       " '__getstate__',\n",
       " '__gt__',\n",
       " '__hash__',\n",
       " '__iadd__',\n",
       " '__imul__',\n",
       " '__init__',\n",
       " '__init_subclass__',\n",
       " '__iter__',\n",
       " '__le__',\n",
       " '__len__',\n",
       " '__lt__',\n",
       " '__mul__',\n",
       " '__ne__',\n",
       " '__new__',\n",
       " '__reduce__',\n",
       " '__reduce_ex__',\n",
       " '__repr__',\n",
       " '__reversed__',\n",
       " '__rmul__',\n",
       " '__setattr__',\n",
       " '__setitem__',\n",
       " '__sizeof__',\n",
       " '__str__',\n",
       " '__subclasshook__',\n",
       " 'append',\n",
       " 'clear',\n",
       " 'copy',\n",
       " 'count',\n",
       " 'extend',\n",
       " 'index',\n",
       " 'insert',\n",
       " 'pop',\n",
       " 'remove',\n",
       " 'reverse',\n",
       " 'sort']"
      ]
     },
     "execution_count": 5,
     "metadata": {},
     "output_type": "execute_result"
    }
   ],
   "source": [
    "dir([])"
   ]
  },
  {
   "cell_type": "code",
   "execution_count": 6,
   "id": "3c132ef3-7736-45da-9964-481a846d3ff9",
   "metadata": {},
   "outputs": [],
   "source": [
    "salaries = [100,200,300,400]"
   ]
  },
  {
   "cell_type": "code",
   "execution_count": 7,
   "id": "41b71f4f-d215-4846-b644-f6df45d7523b",
   "metadata": {},
   "outputs": [
    {
     "data": {
      "text/plain": [
       "[100, 200, 300, 400]"
      ]
     },
     "execution_count": 7,
     "metadata": {},
     "output_type": "execute_result"
    }
   ],
   "source": [
    "salaries"
   ]
  },
  {
   "cell_type": "code",
   "execution_count": 8,
   "id": "bae08d30-67bf-46d0-8a3d-ac7fbdf92899",
   "metadata": {},
   "outputs": [],
   "source": [
    "test_salaries   = salaries.copy()"
   ]
  },
  {
   "cell_type": "code",
   "execution_count": 10,
   "id": "273ce9ce-faa6-490c-8059-a7435c6388da",
   "metadata": {},
   "outputs": [
    {
     "data": {
      "text/plain": [
       "[100, 200, 300, 400]"
      ]
     },
     "execution_count": 10,
     "metadata": {},
     "output_type": "execute_result"
    }
   ],
   "source": [
    "test_salaries"
   ]
  },
  {
   "cell_type": "code",
   "execution_count": 14,
   "id": "cb4db67d-e93c-4e91-a5c9-e71fe80b65b2",
   "metadata": {},
   "outputs": [
    {
     "data": {
      "text/plain": [
       "1"
      ]
     },
     "execution_count": 14,
     "metadata": {},
     "output_type": "execute_result"
    }
   ],
   "source": [
    "salaries.count(400)"
   ]
  },
  {
   "cell_type": "code",
   "execution_count": 15,
   "id": "516d08cc-2c27-48ba-9c76-bca214879469",
   "metadata": {},
   "outputs": [],
   "source": [
    "salaries.extend([50,150,250,350])"
   ]
  },
  {
   "cell_type": "code",
   "execution_count": 16,
   "id": "d137bb48-a9a5-438d-9d55-c8178ecc6485",
   "metadata": {},
   "outputs": [
    {
     "data": {
      "text/plain": [
       "[100, 200, 300, 400, 50, 150, 250, 350]"
      ]
     },
     "execution_count": 16,
     "metadata": {},
     "output_type": "execute_result"
    }
   ],
   "source": [
    "salaries"
   ]
  },
  {
   "cell_type": "code",
   "execution_count": 19,
   "id": "121a357a-30b4-4f5f-9459-3cb82efb67f2",
   "metadata": {},
   "outputs": [
    {
     "data": {
      "text/plain": [
       "7"
      ]
     },
     "execution_count": 19,
     "metadata": {},
     "output_type": "execute_result"
    }
   ],
   "source": [
    "salaries.index(350)"
   ]
  },
  {
   "cell_type": "code",
   "execution_count": 20,
   "id": "aafe35cf-ce8d-4b1b-92be-7c876d90add5",
   "metadata": {},
   "outputs": [
    {
     "data": {
      "text/plain": [
       "['__add__',\n",
       " '__class__',\n",
       " '__class_getitem__',\n",
       " '__contains__',\n",
       " '__delattr__',\n",
       " '__delitem__',\n",
       " '__dir__',\n",
       " '__doc__',\n",
       " '__eq__',\n",
       " '__format__',\n",
       " '__ge__',\n",
       " '__getattribute__',\n",
       " '__getitem__',\n",
       " '__getstate__',\n",
       " '__gt__',\n",
       " '__hash__',\n",
       " '__iadd__',\n",
       " '__imul__',\n",
       " '__init__',\n",
       " '__init_subclass__',\n",
       " '__iter__',\n",
       " '__le__',\n",
       " '__len__',\n",
       " '__lt__',\n",
       " '__mul__',\n",
       " '__ne__',\n",
       " '__new__',\n",
       " '__reduce__',\n",
       " '__reduce_ex__',\n",
       " '__repr__',\n",
       " '__reversed__',\n",
       " '__rmul__',\n",
       " '__setattr__',\n",
       " '__setitem__',\n",
       " '__sizeof__',\n",
       " '__str__',\n",
       " '__subclasshook__',\n",
       " 'append',\n",
       " 'clear',\n",
       " 'copy',\n",
       " 'count',\n",
       " 'extend',\n",
       " 'index',\n",
       " 'insert',\n",
       " 'pop',\n",
       " 'remove',\n",
       " 'reverse',\n",
       " 'sort']"
      ]
     },
     "execution_count": 20,
     "metadata": {},
     "output_type": "execute_result"
    }
   ],
   "source": [
    "dir([])"
   ]
  },
  {
   "cell_type": "code",
   "execution_count": 21,
   "id": "cc2e9e7c-c9fd-41a7-99a7-8b89cb5d830d",
   "metadata": {},
   "outputs": [],
   "source": [
    "salaries.insert(0,25)"
   ]
  },
  {
   "cell_type": "code",
   "execution_count": 23,
   "id": "63bca6ef-7ded-41bb-b369-2cd28ba8c154",
   "metadata": {},
   "outputs": [
    {
     "data": {
      "text/plain": [
       "[25, 100, 200, 300, 400, 50, 150, 250, 350]"
      ]
     },
     "execution_count": 23,
     "metadata": {},
     "output_type": "execute_result"
    }
   ],
   "source": [
    "salaries"
   ]
  },
  {
   "cell_type": "code",
   "execution_count": 24,
   "id": "6c54ee6d-7346-4d7a-8966-2fcbb8a070f3",
   "metadata": {},
   "outputs": [
    {
     "data": {
      "text/plain": [
       "25"
      ]
     },
     "execution_count": 24,
     "metadata": {},
     "output_type": "execute_result"
    }
   ],
   "source": [
    "salaries.pop(0)"
   ]
  },
  {
   "cell_type": "code",
   "execution_count": 25,
   "id": "aaa7979d-a66d-41cf-b6de-e61e2a652a64",
   "metadata": {},
   "outputs": [
    {
     "data": {
      "text/plain": [
       "[100, 200, 300, 400, 50, 150, 250, 350]"
      ]
     },
     "execution_count": 25,
     "metadata": {},
     "output_type": "execute_result"
    }
   ],
   "source": [
    "salaries"
   ]
  },
  {
   "cell_type": "code",
   "execution_count": 26,
   "id": "76e71e4d-ac74-43fe-8593-e9e26a779aca",
   "metadata": {},
   "outputs": [],
   "source": [
    "salaries.insert(0,100)"
   ]
  },
  {
   "cell_type": "code",
   "execution_count": 27,
   "id": "137e795d-9010-4a4f-9fa9-ae50ca75cc71",
   "metadata": {},
   "outputs": [
    {
     "data": {
      "text/plain": [
       "[100, 100, 200, 300, 400, 50, 150, 250, 350]"
      ]
     },
     "execution_count": 27,
     "metadata": {},
     "output_type": "execute_result"
    }
   ],
   "source": [
    "salaries"
   ]
  },
  {
   "cell_type": "code",
   "execution_count": 28,
   "id": "8dfbb665-d5d6-4443-9c11-302de917ab5e",
   "metadata": {},
   "outputs": [],
   "source": [
    "salaries.remove(100)"
   ]
  },
  {
   "cell_type": "code",
   "execution_count": 29,
   "id": "345d3cbc-1aa8-4e2d-8f3f-332bb6d82f7f",
   "metadata": {},
   "outputs": [
    {
     "data": {
      "text/plain": [
       "[100, 200, 300, 400, 50, 150, 250, 350]"
      ]
     },
     "execution_count": 29,
     "metadata": {},
     "output_type": "execute_result"
    }
   ],
   "source": [
    "salaries"
   ]
  },
  {
   "cell_type": "code",
   "execution_count": 30,
   "id": "9286c309-bc68-4f35-bbe6-35b89c20fa3d",
   "metadata": {},
   "outputs": [
    {
     "data": {
      "text/plain": [
       "['__add__',\n",
       " '__class__',\n",
       " '__class_getitem__',\n",
       " '__contains__',\n",
       " '__delattr__',\n",
       " '__delitem__',\n",
       " '__dir__',\n",
       " '__doc__',\n",
       " '__eq__',\n",
       " '__format__',\n",
       " '__ge__',\n",
       " '__getattribute__',\n",
       " '__getitem__',\n",
       " '__getstate__',\n",
       " '__gt__',\n",
       " '__hash__',\n",
       " '__iadd__',\n",
       " '__imul__',\n",
       " '__init__',\n",
       " '__init_subclass__',\n",
       " '__iter__',\n",
       " '__le__',\n",
       " '__len__',\n",
       " '__lt__',\n",
       " '__mul__',\n",
       " '__ne__',\n",
       " '__new__',\n",
       " '__reduce__',\n",
       " '__reduce_ex__',\n",
       " '__repr__',\n",
       " '__reversed__',\n",
       " '__rmul__',\n",
       " '__setattr__',\n",
       " '__setitem__',\n",
       " '__sizeof__',\n",
       " '__str__',\n",
       " '__subclasshook__',\n",
       " 'append',\n",
       " 'clear',\n",
       " 'copy',\n",
       " 'count',\n",
       " 'extend',\n",
       " 'index',\n",
       " 'insert',\n",
       " 'pop',\n",
       " 'remove',\n",
       " 'reverse',\n",
       " 'sort']"
      ]
     },
     "execution_count": 30,
     "metadata": {},
     "output_type": "execute_result"
    }
   ],
   "source": [
    "dir([])"
   ]
  },
  {
   "cell_type": "code",
   "execution_count": 32,
   "id": "b3fe9553-2856-49cf-8111-60ed39a4680f",
   "metadata": {},
   "outputs": [],
   "source": [
    "salaries.sort(reverse=False)"
   ]
  },
  {
   "cell_type": "code",
   "execution_count": 33,
   "id": "1fdbac1a-ac19-40fb-a4c6-7503c2fdcafa",
   "metadata": {},
   "outputs": [
    {
     "data": {
      "text/plain": [
       "[50, 100, 150, 200, 250, 300, 350, 400]"
      ]
     },
     "execution_count": 33,
     "metadata": {},
     "output_type": "execute_result"
    }
   ],
   "source": [
    "salaries"
   ]
  },
  {
   "cell_type": "code",
   "execution_count": 35,
   "id": "9592cff4-2bf0-470f-83a0-d0003c2591a1",
   "metadata": {},
   "outputs": [],
   "source": [
    "s2 = [500,600]"
   ]
  },
  {
   "cell_type": "code",
   "execution_count": 36,
   "id": "8c1b5b92-970b-4416-9fa9-c7b19e128fb7",
   "metadata": {},
   "outputs": [],
   "source": [
    "salaries.append(s2)"
   ]
  },
  {
   "cell_type": "code",
   "execution_count": 37,
   "id": "aac1b51f-4e43-4d93-8a7e-f85cc0fd2814",
   "metadata": {},
   "outputs": [
    {
     "data": {
      "text/plain": [
       "[50, 100, 150, 200, 250, 300, 350, 400, [500, 600]]"
      ]
     },
     "execution_count": 37,
     "metadata": {},
     "output_type": "execute_result"
    }
   ],
   "source": [
    "salaries"
   ]
  },
  {
   "cell_type": "code",
   "execution_count": 38,
   "id": "df4e026e-390d-4301-b0c4-d65ec4955fdf",
   "metadata": {},
   "outputs": [
    {
     "data": {
      "text/plain": [
       "[500, 600]"
      ]
     },
     "execution_count": 38,
     "metadata": {},
     "output_type": "execute_result"
    }
   ],
   "source": [
    "s2"
   ]
  },
  {
   "cell_type": "code",
   "execution_count": 39,
   "id": "2c0de602-1615-4afb-ade3-6e4fbc0fca37",
   "metadata": {},
   "outputs": [],
   "source": [
    "salaries.extend(s2)"
   ]
  },
  {
   "cell_type": "code",
   "execution_count": 41,
   "id": "e2eacac8-cd8a-49e5-b352-d084a8310e44",
   "metadata": {},
   "outputs": [
    {
     "data": {
      "text/plain": [
       "[50, 100, 150, 200, 250, 300, 350, 400, [500, 600], 500, 600]"
      ]
     },
     "execution_count": 41,
     "metadata": {},
     "output_type": "execute_result"
    }
   ],
   "source": [
    "salaries"
   ]
  },
  {
   "cell_type": "code",
   "execution_count": 42,
   "id": "1c57d6d3-7d88-446f-a3d5-645775280887",
   "metadata": {},
   "outputs": [
    {
     "data": {
      "text/plain": [
       "500"
      ]
     },
     "execution_count": 42,
     "metadata": {},
     "output_type": "execute_result"
    }
   ],
   "source": [
    "salaries.pop(-2)"
   ]
  },
  {
   "cell_type": "code",
   "execution_count": 43,
   "id": "d84ba5d7-99c2-4c1a-9d2a-683ad8713f1f",
   "metadata": {},
   "outputs": [
    {
     "data": {
      "text/plain": [
       "400"
      ]
     },
     "execution_count": 43,
     "metadata": {},
     "output_type": "execute_result"
    }
   ],
   "source": [
    "salaries.pop(-3)"
   ]
  },
  {
   "cell_type": "code",
   "execution_count": 44,
   "id": "ed2b030b-e6e6-49c4-bce7-92d8318818d9",
   "metadata": {},
   "outputs": [
    {
     "data": {
      "text/plain": [
       "[500, 600]"
      ]
     },
     "execution_count": 44,
     "metadata": {},
     "output_type": "execute_result"
    }
   ],
   "source": [
    "salaries.pop(-2)"
   ]
  },
  {
   "cell_type": "code",
   "execution_count": 46,
   "id": "32b5e6b6-2a7f-457e-8d4c-6452b4feac09",
   "metadata": {},
   "outputs": [
    {
     "data": {
      "text/plain": [
       "[50, 100, 150, 200, 250, 300, 350, 600]"
      ]
     },
     "execution_count": 46,
     "metadata": {},
     "output_type": "execute_result"
    }
   ],
   "source": [
    "salaries"
   ]
  },
  {
   "cell_type": "code",
   "execution_count": 47,
   "id": "49f6ee27-d4c8-49ed-9292-a99c970c33e6",
   "metadata": {},
   "outputs": [],
   "source": [
    "salaries.insert(-2, 400)"
   ]
  },
  {
   "cell_type": "code",
   "execution_count": 48,
   "id": "f5f923af-ebb6-407c-b0f6-5fd45137ddea",
   "metadata": {},
   "outputs": [
    {
     "data": {
      "text/plain": [
       "[50, 100, 150, 200, 250, 300, 400, 350, 600]"
      ]
     },
     "execution_count": 48,
     "metadata": {},
     "output_type": "execute_result"
    }
   ],
   "source": [
    "salaries"
   ]
  },
  {
   "cell_type": "code",
   "execution_count": 49,
   "id": "15423cb6-28bd-4887-96de-8c13887a0bf5",
   "metadata": {},
   "outputs": [],
   "source": [
    "salaries.insert(2, 150)"
   ]
  },
  {
   "cell_type": "code",
   "execution_count": 50,
   "id": "ecc094c0-08cd-4068-8d7d-5983d6a26f0e",
   "metadata": {},
   "outputs": [
    {
     "data": {
      "text/plain": [
       "[50, 100, 150, 150, 200, 250, 300, 400, 350, 600]"
      ]
     },
     "execution_count": 50,
     "metadata": {},
     "output_type": "execute_result"
    }
   ],
   "source": [
    "salaries"
   ]
  },
  {
   "cell_type": "code",
   "execution_count": 53,
   "id": "bcbe7d4d-2e72-4f17-a008-d61cdbc60c96",
   "metadata": {},
   "outputs": [],
   "source": [
    "mystr = \"i am naeem and i am in canada\""
   ]
  },
  {
   "cell_type": "code",
   "execution_count": 54,
   "id": "d98f4aa7-7b1c-49a8-9166-16557054eb35",
   "metadata": {},
   "outputs": [
    {
     "data": {
      "text/plain": [
       "'i am naeem and i am in canada'"
      ]
     },
     "execution_count": 54,
     "metadata": {},
     "output_type": "execute_result"
    }
   ],
   "source": [
    "mystr"
   ]
  },
  {
   "cell_type": "code",
   "execution_count": 55,
   "id": "9a4d1e00-6e82-4bab-b132-138b3cc90e02",
   "metadata": {},
   "outputs": [
    {
     "data": {
      "text/plain": [
       "['__add__',\n",
       " '__class__',\n",
       " '__contains__',\n",
       " '__delattr__',\n",
       " '__dir__',\n",
       " '__doc__',\n",
       " '__eq__',\n",
       " '__format__',\n",
       " '__ge__',\n",
       " '__getattribute__',\n",
       " '__getitem__',\n",
       " '__getnewargs__',\n",
       " '__getstate__',\n",
       " '__gt__',\n",
       " '__hash__',\n",
       " '__init__',\n",
       " '__init_subclass__',\n",
       " '__iter__',\n",
       " '__le__',\n",
       " '__len__',\n",
       " '__lt__',\n",
       " '__mod__',\n",
       " '__mul__',\n",
       " '__ne__',\n",
       " '__new__',\n",
       " '__reduce__',\n",
       " '__reduce_ex__',\n",
       " '__repr__',\n",
       " '__rmod__',\n",
       " '__rmul__',\n",
       " '__setattr__',\n",
       " '__sizeof__',\n",
       " '__str__',\n",
       " '__subclasshook__',\n",
       " 'capitalize',\n",
       " 'casefold',\n",
       " 'center',\n",
       " 'count',\n",
       " 'encode',\n",
       " 'endswith',\n",
       " 'expandtabs',\n",
       " 'find',\n",
       " 'format',\n",
       " 'format_map',\n",
       " 'index',\n",
       " 'isalnum',\n",
       " 'isalpha',\n",
       " 'isascii',\n",
       " 'isdecimal',\n",
       " 'isdigit',\n",
       " 'isidentifier',\n",
       " 'islower',\n",
       " 'isnumeric',\n",
       " 'isprintable',\n",
       " 'isspace',\n",
       " 'istitle',\n",
       " 'isupper',\n",
       " 'join',\n",
       " 'ljust',\n",
       " 'lower',\n",
       " 'lstrip',\n",
       " 'maketrans',\n",
       " 'partition',\n",
       " 'removeprefix',\n",
       " 'removesuffix',\n",
       " 'replace',\n",
       " 'rfind',\n",
       " 'rindex',\n",
       " 'rjust',\n",
       " 'rpartition',\n",
       " 'rsplit',\n",
       " 'rstrip',\n",
       " 'split',\n",
       " 'splitlines',\n",
       " 'startswith',\n",
       " 'strip',\n",
       " 'swapcase',\n",
       " 'title',\n",
       " 'translate',\n",
       " 'upper',\n",
       " 'zfill']"
      ]
     },
     "execution_count": 55,
     "metadata": {},
     "output_type": "execute_result"
    }
   ],
   "source": [
    "dir(str)"
   ]
  },
  {
   "cell_type": "code",
   "execution_count": 59,
   "id": "3f2d768e-75ec-4fa0-85b7-bf572acf34fa",
   "metadata": {},
   "outputs": [],
   "source": [
    "mystr = mystr.capitalize()"
   ]
  },
  {
   "cell_type": "code",
   "execution_count": 60,
   "id": "21c0e0e8-7c69-4f6e-95d0-e178c0e624e8",
   "metadata": {},
   "outputs": [
    {
     "data": {
      "text/plain": [
       "'I am naeem and i am in canada'"
      ]
     },
     "execution_count": 60,
     "metadata": {},
     "output_type": "execute_result"
    }
   ],
   "source": [
    "mystr"
   ]
  },
  {
   "cell_type": "code",
   "execution_count": 61,
   "id": "039fc3c9-0f35-44ce-b472-dbdba6c49a7e",
   "metadata": {},
   "outputs": [
    {
     "data": {
      "text/plain": [
       "'i am naeem and i am in canada'"
      ]
     },
     "execution_count": 61,
     "metadata": {},
     "output_type": "execute_result"
    }
   ],
   "source": [
    "mystr.casefold()"
   ]
  },
  {
   "cell_type": "code",
   "execution_count": 76,
   "id": "63145cf2-4fae-48dc-b6db-903d9b3add14",
   "metadata": {},
   "outputs": [
    {
     "data": {
      "text/plain": [
       "'                         I am naeem and i am in canada                          '"
      ]
     },
     "execution_count": 76,
     "metadata": {},
     "output_type": "execute_result"
    }
   ],
   "source": [
    "mystr.center(80)\n"
   ]
  },
  {
   "cell_type": "code",
   "execution_count": 83,
   "id": "5c82307c-16f1-4f7c-98e4-7f4ca435a2a6",
   "metadata": {},
   "outputs": [
    {
     "data": {
      "text/plain": [
       "2"
      ]
     },
     "execution_count": 83,
     "metadata": {},
     "output_type": "execute_result"
    }
   ],
   "source": [
    "mystr.count(' am ')"
   ]
  },
  {
   "cell_type": "code",
   "execution_count": 91,
   "id": "83cf6648-2ef8-4b96-95ed-b85f414b3b8c",
   "metadata": {},
   "outputs": [
    {
     "data": {
      "text/plain": [
       "b'I am naeem and i am in canada'"
      ]
     },
     "execution_count": 91,
     "metadata": {},
     "output_type": "execute_result"
    }
   ],
   "source": [
    "mystr.encode(encoding ='utf-8')"
   ]
  },
  {
   "cell_type": "code",
   "execution_count": 100,
   "id": "37283b61-275e-457d-b55f-868314894486",
   "metadata": {},
   "outputs": [
    {
     "data": {
      "text/plain": [
       "True"
      ]
     },
     "execution_count": 100,
     "metadata": {},
     "output_type": "execute_result"
    }
   ],
   "source": [
    "mystr.endswith('a')"
   ]
  },
  {
   "cell_type": "code",
   "execution_count": 109,
   "id": "7d2ce6e3-f137-4667-b57a-d775fde0c565",
   "metadata": {},
   "outputs": [
    {
     "data": {
      "text/plain": [
       "21"
      ]
     },
     "execution_count": 109,
     "metadata": {},
     "output_type": "execute_result"
    }
   ],
   "source": [
    "mystr.find('n ')"
   ]
  },
  {
   "cell_type": "code",
   "execution_count": 28,
   "id": "ad3bfca0-5960-42ec-807a-017078c2138d",
   "metadata": {},
   "outputs": [
    {
     "data": {
      "text/plain": [
       "True"
      ]
     },
     "execution_count": 28,
     "metadata": {},
     "output_type": "execute_result"
    }
   ],
   "source": [
    "a = [2,4,5,6]\n",
    "b = a[2]\n",
    "c= [2,4,5,6]\n",
    "b is a[2]\n",
    "#print(id(b), id(a[2]))"
   ]
  },
  {
   "cell_type": "code",
   "execution_count": 29,
   "id": "dc212a8a-09ee-4bf8-a70d-cb31c7949311",
   "metadata": {},
   "outputs": [
    {
     "ename": "SyntaxError",
     "evalue": "invalid syntax (4154981922.py, line 1)",
     "output_type": "error",
     "traceback": [
      "\u001b[1;36m  Cell \u001b[1;32mIn[29], line 1\u001b[1;36m\u001b[0m\n\u001b[1;33m    dir(is)\u001b[0m\n\u001b[1;37m        ^\u001b[0m\n\u001b[1;31mSyntaxError\u001b[0m\u001b[1;31m:\u001b[0m invalid syntax\n"
     ]
    }
   ],
   "source": []
  },
  {
   "cell_type": "code",
   "execution_count": 19,
   "id": "fbfa970b-477f-4060-8db9-292e87884132",
   "metadata": {},
   "outputs": [],
   "source": [
    "x = [2,3,4]\n"
   ]
  },
  {
   "cell_type": "code",
   "execution_count": 21,
   "id": "906234fd-bc0e-42d2-9199-d8d7b55e4ebb",
   "metadata": {},
   "outputs": [
    {
     "data": {
      "text/plain": [
       "['__add__',\n",
       " '__class__',\n",
       " '__class_getitem__',\n",
       " '__contains__',\n",
       " '__delattr__',\n",
       " '__delitem__',\n",
       " '__dir__',\n",
       " '__doc__',\n",
       " '__eq__',\n",
       " '__format__',\n",
       " '__ge__',\n",
       " '__getattribute__',\n",
       " '__getitem__',\n",
       " '__getstate__',\n",
       " '__gt__',\n",
       " '__hash__',\n",
       " '__iadd__',\n",
       " '__imul__',\n",
       " '__init__',\n",
       " '__init_subclass__',\n",
       " '__iter__',\n",
       " '__le__',\n",
       " '__len__',\n",
       " '__lt__',\n",
       " '__mul__',\n",
       " '__ne__',\n",
       " '__new__',\n",
       " '__reduce__',\n",
       " '__reduce_ex__',\n",
       " '__repr__',\n",
       " '__reversed__',\n",
       " '__rmul__',\n",
       " '__setattr__',\n",
       " '__setitem__',\n",
       " '__sizeof__',\n",
       " '__str__',\n",
       " '__subclasshook__',\n",
       " 'append',\n",
       " 'clear',\n",
       " 'copy',\n",
       " 'count',\n",
       " 'extend',\n",
       " 'index',\n",
       " 'insert',\n",
       " 'pop',\n",
       " 'remove',\n",
       " 'reverse',\n",
       " 'sort']"
      ]
     },
     "execution_count": 21,
     "metadata": {},
     "output_type": "execute_result"
    }
   ],
   "source": [
    "dir(list)"
   ]
  },
  {
   "cell_type": "code",
   "execution_count": null,
   "id": "e86de38c-6299-4a1c-9081-9c8cc7fd52cc",
   "metadata": {},
   "outputs": [],
   "source": [
    "x"
   ]
  },
  {
   "cell_type": "code",
   "execution_count": null,
   "id": "9c66f0d7-88a4-41fb-9c9d-5a474fd916b5",
   "metadata": {},
   "outputs": [],
   "source": []
  }
 ],
 "metadata": {
  "kernelspec": {
   "display_name": "Python 3 (ipykernel)",
   "language": "python",
   "name": "python3"
  },
  "language_info": {
   "codemirror_mode": {
    "name": "ipython",
    "version": 3
   },
   "file_extension": ".py",
   "mimetype": "text/x-python",
   "name": "python",
   "nbconvert_exporter": "python",
   "pygments_lexer": "ipython3",
   "version": "3.12.7"
  }
 },
 "nbformat": 4,
 "nbformat_minor": 5
}
