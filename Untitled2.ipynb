{
 "cells": [
  {
   "cell_type": "code",
   "execution_count": 3,
   "id": "9d8e4c02-f088-4e75-b609-55809230f39a",
   "metadata": {},
   "outputs": [
    {
     "data": {
      "text/plain": [
       "['__add__',\n",
       " '__class__',\n",
       " '__class_getitem__',\n",
       " '__contains__',\n",
       " '__delattr__',\n",
       " '__dir__',\n",
       " '__doc__',\n",
       " '__eq__',\n",
       " '__format__',\n",
       " '__ge__',\n",
       " '__getattribute__',\n",
       " '__getitem__',\n",
       " '__getnewargs__',\n",
       " '__getstate__',\n",
       " '__gt__',\n",
       " '__hash__',\n",
       " '__init__',\n",
       " '__init_subclass__',\n",
       " '__iter__',\n",
       " '__le__',\n",
       " '__len__',\n",
       " '__lt__',\n",
       " '__mul__',\n",
       " '__ne__',\n",
       " '__new__',\n",
       " '__reduce__',\n",
       " '__reduce_ex__',\n",
       " '__repr__',\n",
       " '__rmul__',\n",
       " '__setattr__',\n",
       " '__sizeof__',\n",
       " '__str__',\n",
       " '__subclasshook__',\n",
       " 'count',\n",
       " 'index']"
      ]
     },
     "execution_count": 3,
     "metadata": {},
     "output_type": "execute_result"
    }
   ],
   "source": [
    "dir(())"
   ]
  },
  {
   "cell_type": "code",
   "execution_count": 3,
   "id": "14ac1488-9853-45fc-8fbf-ccf1e476bd68",
   "metadata": {},
   "outputs": [
    {
     "data": {
      "text/plain": [
       "(1, 3, '3', 'r', 5)"
      ]
     },
     "execution_count": 3,
     "metadata": {},
     "output_type": "execute_result"
    }
   ],
   "source": [
    "a = (1,3,'3','r',5)\n",
    "a"
   ]
  },
  {
   "cell_type": "code",
   "execution_count": 4,
   "id": "4c7be5f6-88bc-4eae-8ec3-abc5b35ba9f6",
   "metadata": {},
   "outputs": [
    {
     "data": {
      "text/plain": [
       "1"
      ]
     },
     "execution_count": 4,
     "metadata": {},
     "output_type": "execute_result"
    }
   ],
   "source": [
    "a.count('3')"
   ]
  },
  {
   "cell_type": "code",
   "execution_count": 5,
   "id": "28aabbdd-1e6a-4867-a13c-80e77708eeb7",
   "metadata": {},
   "outputs": [
    {
     "data": {
      "text/plain": [
       "1"
      ]
     },
     "execution_count": 5,
     "metadata": {},
     "output_type": "execute_result"
    }
   ],
   "source": [
    "a.index(3)"
   ]
  },
  {
   "cell_type": "code",
   "execution_count": 6,
   "id": "42b747bd-3818-411d-b2ff-b3060c146dc5",
   "metadata": {},
   "outputs": [],
   "source": [
    "tup1 = a\n",
    "tup2 = a+a"
   ]
  },
  {
   "cell_type": "code",
   "execution_count": 12,
   "id": "99311c7e-d79f-4cd7-908c-d226523ca934",
   "metadata": {},
   "outputs": [],
   "source": [
    "tup3 = tup1 + tup2 *2"
   ]
  },
  {
   "cell_type": "code",
   "execution_count": 13,
   "id": "6689033d-d096-42b2-a8bf-ddaf234c2570",
   "metadata": {},
   "outputs": [
    {
     "data": {
      "text/plain": [
       "(1,\n",
       " 3,\n",
       " '3',\n",
       " 'r',\n",
       " 5,\n",
       " 1,\n",
       " 3,\n",
       " '3',\n",
       " 'r',\n",
       " 5,\n",
       " 1,\n",
       " 3,\n",
       " '3',\n",
       " 'r',\n",
       " 5,\n",
       " 1,\n",
       " 3,\n",
       " '3',\n",
       " 'r',\n",
       " 5,\n",
       " 1,\n",
       " 3,\n",
       " '3',\n",
       " 'r',\n",
       " 5)"
      ]
     },
     "execution_count": 13,
     "metadata": {},
     "output_type": "execute_result"
    }
   ],
   "source": [
    "tup3"
   ]
  },
  {
   "cell_type": "code",
   "execution_count": 17,
   "id": "f4d4a438-336f-46c7-ac0e-1cdc3d09122d",
   "metadata": {},
   "outputs": [
    {
     "ename": "TypeError",
     "evalue": "'tuple' object does not support item assignment",
     "output_type": "error",
     "traceback": [
      "\u001b[1;31m---------------------------------------------------------------------------\u001b[0m",
      "\u001b[1;31mTypeError\u001b[0m                                 Traceback (most recent call last)",
      "Cell \u001b[1;32mIn[17], line 1\u001b[0m\n\u001b[1;32m----> 1\u001b[0m tup1[\u001b[38;5;241m1\u001b[39m]  \u001b[38;5;241m=\u001b[39m \u001b[38;5;241m4\u001b[39m\n",
      "\u001b[1;31mTypeError\u001b[0m: 'tuple' object does not support item assignment"
     ]
    }
   ],
   "source": [
    "tup1[1]  = 4"
   ]
  },
  {
   "cell_type": "code",
   "execution_count": 23,
   "id": "b6936fd3-235e-4315-a874-0527878f7102",
   "metadata": {},
   "outputs": [],
   "source": [
    "tup4 = (3,2,4,[4,4,5], (3,5))"
   ]
  },
  {
   "cell_type": "code",
   "execution_count": 24,
   "id": "0b7d7024-068b-4763-92ea-fbda2cc07dc1",
   "metadata": {},
   "outputs": [
    {
     "ename": "TypeError",
     "evalue": "'tuple' object does not support item assignment",
     "output_type": "error",
     "traceback": [
      "\u001b[1;31m---------------------------------------------------------------------------\u001b[0m",
      "\u001b[1;31mTypeError\u001b[0m                                 Traceback (most recent call last)",
      "Cell \u001b[1;32mIn[24], line 1\u001b[0m\n\u001b[1;32m----> 1\u001b[0m tup4[\u001b[38;5;241m-\u001b[39m\u001b[38;5;241m1\u001b[39m][\u001b[38;5;241m0\u001b[39m] \u001b[38;5;241m=\u001b[39m \u001b[38;5;241m9\u001b[39m\n",
      "\u001b[1;31mTypeError\u001b[0m: 'tuple' object does not support item assignment"
     ]
    }
   ],
   "source": [
    "tup4[-1][0] = 9"
   ]
  },
  {
   "cell_type": "code",
   "execution_count": 25,
   "id": "5c56376a-a0ee-4251-b465-29ba08a6e5e9",
   "metadata": {},
   "outputs": [],
   "source": [
    "tup4[-2][2] =10 "
   ]
  },
  {
   "cell_type": "code",
   "execution_count": 26,
   "id": "7ca7412b-ba6b-4029-ba3c-8c26fc6f930a",
   "metadata": {},
   "outputs": [
    {
     "data": {
      "text/plain": [
       "(3, 2, 4, [4, 4, 10], (3, 5))"
      ]
     },
     "execution_count": 26,
     "metadata": {},
     "output_type": "execute_result"
    }
   ],
   "source": [
    "tup4"
   ]
  },
  {
   "cell_type": "code",
   "execution_count": 29,
   "id": "cabba4f3-1039-411d-b760-fae9de9319eb",
   "metadata": {},
   "outputs": [
    {
     "ename": "ValueError",
     "evalue": "not enough values to unpack (expected 6, got 5)",
     "output_type": "error",
     "traceback": [
      "\u001b[1;31m---------------------------------------------------------------------------\u001b[0m",
      "\u001b[1;31mValueError\u001b[0m                                Traceback (most recent call last)",
      "Cell \u001b[1;32mIn[29], line 2\u001b[0m\n\u001b[0;32m      1\u001b[0m \u001b[38;5;66;03m#unpacking\u001b[39;00m\n\u001b[1;32m----> 2\u001b[0m a,b,c,d,e,g \u001b[38;5;241m=\u001b[39m tup4\n",
      "\u001b[1;31mValueError\u001b[0m: not enough values to unpack (expected 6, got 5)"
     ]
    }
   ],
   "source": [
    "#unpacking\n",
    "a,b,c,d,e,g = tup4"
   ]
  },
  {
   "cell_type": "code",
   "execution_count": 30,
   "id": "54edf4c1-a61f-424b-ac0c-681c423938cf",
   "metadata": {},
   "outputs": [],
   "source": [
    "#unpacking\n",
    "a,b,c,d,e= tup4"
   ]
  },
  {
   "cell_type": "code",
   "execution_count": 31,
   "id": "7a4a6079-51c2-4880-9137-d70c3a6b1246",
   "metadata": {},
   "outputs": [
    {
     "data": {
      "text/plain": [
       "5"
      ]
     },
     "execution_count": 31,
     "metadata": {},
     "output_type": "execute_result"
    }
   ],
   "source": [
    "len(tup4)"
   ]
  },
  {
   "cell_type": "code",
   "execution_count": 32,
   "id": "73d970f9-7766-48bf-8392-65b66ee449f3",
   "metadata": {},
   "outputs": [],
   "source": [
    "a,b,*c = tup4"
   ]
  },
  {
   "cell_type": "code",
   "execution_count": 33,
   "id": "83f2591e-2316-4f27-a8ef-5275ee63e0dc",
   "metadata": {},
   "outputs": [
    {
     "data": {
      "text/plain": [
       "[4, [4, 4, 10], (3, 5)]"
      ]
     },
     "execution_count": 33,
     "metadata": {},
     "output_type": "execute_result"
    }
   ],
   "source": [
    "c"
   ]
  },
  {
   "cell_type": "code",
   "execution_count": 34,
   "id": "0f1861ca-d508-485e-bfcb-0e7b516c99db",
   "metadata": {},
   "outputs": [
    {
     "ename": "TypeError",
     "evalue": "'tuple' object does not support item assignment",
     "output_type": "error",
     "traceback": [
      "\u001b[1;31m---------------------------------------------------------------------------\u001b[0m",
      "\u001b[1;31mTypeError\u001b[0m                                 Traceback (most recent call last)",
      "Cell \u001b[1;32mIn[34], line 1\u001b[0m\n\u001b[1;32m----> 1\u001b[0m c[\u001b[38;5;241m-\u001b[39m\u001b[38;5;241m1\u001b[39m][\u001b[38;5;241m-\u001b[39m\u001b[38;5;241m1\u001b[39m]  \u001b[38;5;241m=\u001b[39m \u001b[38;5;241m30\u001b[39m\n",
      "\u001b[1;31mTypeError\u001b[0m: 'tuple' object does not support item assignment"
     ]
    }
   ],
   "source": [
    "c[-1][-1]  = 30"
   ]
  },
  {
   "cell_type": "code",
   "execution_count": 35,
   "id": "ec63e573-6d66-427a-b6bb-02ab3e995531",
   "metadata": {},
   "outputs": [],
   "source": [
    "values = list(tup4)"
   ]
  },
  {
   "cell_type": "code",
   "execution_count": 36,
   "id": "d5c570f5-88a4-4d57-b710-b751e98ad7c8",
   "metadata": {},
   "outputs": [
    {
     "data": {
      "text/plain": [
       "[3, 2, 4, [4, 4, 10], (3, 5)]"
      ]
     },
     "execution_count": 36,
     "metadata": {},
     "output_type": "execute_result"
    }
   ],
   "source": [
    "values"
   ]
  },
  {
   "cell_type": "code",
   "execution_count": 37,
   "id": "b2f8f269-41d2-43a7-9677-a54565983e58",
   "metadata": {},
   "outputs": [],
   "source": [
    "tup5 = tuple(values)"
   ]
  },
  {
   "cell_type": "code",
   "execution_count": 38,
   "id": "de783196-25b9-4cd1-b856-dd772b1e3948",
   "metadata": {},
   "outputs": [
    {
     "data": {
      "text/plain": [
       "(3, 2, 4, [4, 4, 10], (3, 5))"
      ]
     },
     "execution_count": 38,
     "metadata": {},
     "output_type": "execute_result"
    }
   ],
   "source": [
    "tup5"
   ]
  },
  {
   "cell_type": "code",
   "execution_count": 47,
   "id": "ed93e7e3-1d8f-413f-8601-0865adbe5089",
   "metadata": {},
   "outputs": [],
   "source": [
    "# a,b,c,*c= tup5"
   ]
  },
  {
   "cell_type": "code",
   "execution_count": 48,
   "id": "cf434b50-6d3e-41ea-a0ce-5ba8491cf31e",
   "metadata": {},
   "outputs": [
    {
     "data": {
      "text/plain": [
       "[[4, 4, 10], (3, 5)]"
      ]
     },
     "execution_count": 48,
     "metadata": {},
     "output_type": "execute_result"
    }
   ],
   "source": [
    "c"
   ]
  },
  {
   "cell_type": "code",
   "execution_count": 49,
   "id": "a195a167-667a-4be4-8c51-49624fadbd3f",
   "metadata": {},
   "outputs": [],
   "source": [
    "#Dictionary"
   ]
  },
  {
   "cell_type": "code",
   "execution_count": 67,
   "id": "3d566a8b-747b-423d-965b-d211ead9a580",
   "metadata": {},
   "outputs": [],
   "source": [
    "dic1 = {\n",
    "        \"name\" : \"naeem\",\n",
    "        \"age\" : 43,\n",
    "        \"country\": \"pakistan\",\n",
    "        }"
   ]
  },
  {
   "cell_type": "code",
   "execution_count": 54,
   "id": "7aae6ac4-77fe-4293-a9bd-586aae6f88e6",
   "metadata": {},
   "outputs": [
    {
     "data": {
      "text/plain": [
       "'naeem'"
      ]
     },
     "execution_count": 54,
     "metadata": {},
     "output_type": "execute_result"
    }
   ],
   "source": [
    "dic1[\"name\"]"
   ]
  },
  {
   "cell_type": "code",
   "execution_count": 55,
   "id": "a08ad846-9280-4219-9be9-0506f08ed972",
   "metadata": {},
   "outputs": [],
   "source": [
    "dic1[\"naeem\"] = \"Naeem Ayub\""
   ]
  },
  {
   "cell_type": "code",
   "execution_count": 59,
   "id": "e1a4c564-de50-4033-bc77-6b0923ec04d2",
   "metadata": {},
   "outputs": [
    {
     "data": {
      "text/plain": [
       "'Naeem Ayub'"
      ]
     },
     "execution_count": 59,
     "metadata": {},
     "output_type": "execute_result"
    }
   ],
   "source": [
    "dic1.pop(\"naeem\")"
   ]
  },
  {
   "cell_type": "code",
   "execution_count": 60,
   "id": "c65b4418-48f9-42b0-b9d7-e7e725ce9fdb",
   "metadata": {},
   "outputs": [
    {
     "data": {
      "text/plain": [
       "{'name': 'naeem', 'age': 43, 'country': 'pakistan'}"
      ]
     },
     "execution_count": 60,
     "metadata": {},
     "output_type": "execute_result"
    }
   ],
   "source": [
    "dic1"
   ]
  },
  {
   "cell_type": "code",
   "execution_count": 61,
   "id": "4c48c9ea-8c25-4ffc-bee4-7c7518193f9a",
   "metadata": {},
   "outputs": [],
   "source": [
    "dic1[\"name\"] = \"Naeem Ayub\""
   ]
  },
  {
   "cell_type": "code",
   "execution_count": 62,
   "id": "94acb060-b3b3-4e22-8808-ae84fb1fc620",
   "metadata": {},
   "outputs": [
    {
     "data": {
      "text/plain": [
       "{'name': 'Naeem Ayub', 'age': 43, 'country': 'pakistan'}"
      ]
     },
     "execution_count": 62,
     "metadata": {},
     "output_type": "execute_result"
    }
   ],
   "source": [
    "dic1"
   ]
  },
  {
   "cell_type": "code",
   "execution_count": 63,
   "id": "07f94fe3-c1e7-4c32-ada0-3ad7f17a5a94",
   "metadata": {},
   "outputs": [
    {
     "data": {
      "text/plain": [
       "['__class__',\n",
       " '__class_getitem__',\n",
       " '__contains__',\n",
       " '__delattr__',\n",
       " '__delitem__',\n",
       " '__dir__',\n",
       " '__doc__',\n",
       " '__eq__',\n",
       " '__format__',\n",
       " '__ge__',\n",
       " '__getattribute__',\n",
       " '__getitem__',\n",
       " '__getstate__',\n",
       " '__gt__',\n",
       " '__hash__',\n",
       " '__init__',\n",
       " '__init_subclass__',\n",
       " '__ior__',\n",
       " '__iter__',\n",
       " '__le__',\n",
       " '__len__',\n",
       " '__lt__',\n",
       " '__ne__',\n",
       " '__new__',\n",
       " '__or__',\n",
       " '__reduce__',\n",
       " '__reduce_ex__',\n",
       " '__repr__',\n",
       " '__reversed__',\n",
       " '__ror__',\n",
       " '__setattr__',\n",
       " '__setitem__',\n",
       " '__sizeof__',\n",
       " '__str__',\n",
       " '__subclasshook__',\n",
       " 'clear',\n",
       " 'copy',\n",
       " 'fromkeys',\n",
       " 'get',\n",
       " 'items',\n",
       " 'keys',\n",
       " 'pop',\n",
       " 'popitem',\n",
       " 'setdefault',\n",
       " 'update',\n",
       " 'values']"
      ]
     },
     "execution_count": 63,
     "metadata": {},
     "output_type": "execute_result"
    }
   ],
   "source": [
    "dir({})"
   ]
  },
  {
   "cell_type": "code",
   "execution_count": 71,
   "id": "84a317c9-62fe-4446-b7a1-06651b48c7ad",
   "metadata": {},
   "outputs": [],
   "source": [
    "#makes new copy at new memory location\n",
    "a = dic1.copy()"
   ]
  },
  {
   "cell_type": "code",
   "execution_count": 73,
   "id": "cda9a787-c9e1-4301-bbd1-2aa31b6ddaee",
   "metadata": {},
   "outputs": [
    {
     "data": {
      "text/plain": [
       "2932610592512"
      ]
     },
     "execution_count": 73,
     "metadata": {},
     "output_type": "execute_result"
    }
   ],
   "source": [
    "id(a)"
   ]
  },
  {
   "cell_type": "code",
   "execution_count": 74,
   "id": "f6c4cbb4-de98-4131-895c-a38957a8562f",
   "metadata": {},
   "outputs": [
    {
     "data": {
      "text/plain": [
       "2932611179264"
      ]
     },
     "execution_count": 74,
     "metadata": {},
     "output_type": "execute_result"
    }
   ],
   "source": [
    "id(dic1)"
   ]
  },
  {
   "cell_type": "code",
   "execution_count": 75,
   "id": "7b81bfff-a25e-451d-8ccc-161041601266",
   "metadata": {},
   "outputs": [],
   "source": [
    "#makes copy by reference only. no new memory location is used. \n",
    "b  = dic1"
   ]
  },
  {
   "cell_type": "code",
   "execution_count": 76,
   "id": "25e53432-e51d-4fba-be77-3ac9a8c66bb6",
   "metadata": {},
   "outputs": [
    {
     "data": {
      "text/plain": [
       "2932611179264"
      ]
     },
     "execution_count": 76,
     "metadata": {},
     "output_type": "execute_result"
    }
   ],
   "source": [
    "id(b)"
   ]
  },
  {
   "cell_type": "code",
   "execution_count": 91,
   "id": "2c15cb49-3b44-486f-8bbb-c83e67f3fced",
   "metadata": {},
   "outputs": [],
   "source": [
    "x = (\"key1\",\"key2\", \"key3\")\n",
    "y = (2,3,4)\n",
    "dic2 = {}\n",
    "c = dic2.fromkeys(x,y)"
   ]
  },
  {
   "cell_type": "code",
   "execution_count": 92,
   "id": "3e69922b-65c2-4255-9f36-eb4d708117dc",
   "metadata": {},
   "outputs": [
    {
     "data": {
      "text/plain": [
       "{'key1': (2, 3, 4), 'key2': (2, 3, 4), 'key3': (2, 3, 4)}"
      ]
     },
     "execution_count": 92,
     "metadata": {},
     "output_type": "execute_result"
    }
   ],
   "source": [
    "c"
   ]
  },
  {
   "cell_type": "code",
   "execution_count": 93,
   "id": "9c6e55a5-2c6a-422c-820f-984c38169355",
   "metadata": {},
   "outputs": [
    {
     "data": {
      "text/plain": [
       "(2, 3, 4)"
      ]
     },
     "execution_count": 93,
     "metadata": {},
     "output_type": "execute_result"
    }
   ],
   "source": [
    "c.get(\"key1\")"
   ]
  },
  {
   "cell_type": "code",
   "execution_count": 95,
   "id": "8ff4d7eb-1dc0-443f-8a26-095ccad9b2e4",
   "metadata": {},
   "outputs": [
    {
     "data": {
      "text/plain": [
       "dict_items([('key1', (2, 3, 4)), ('key2', (2, 3, 4)), ('key3', (2, 3, 4))])"
      ]
     },
     "execution_count": 95,
     "metadata": {},
     "output_type": "execute_result"
    }
   ],
   "source": [
    "d = c.items()\n",
    "d"
   ]
  },
  {
   "cell_type": "code",
   "execution_count": null,
   "id": "f6b18f71-fae1-46c8-877f-0e7df40c0586",
   "metadata": {},
   "outputs": [],
   "source": []
  }
 ],
 "metadata": {
  "kernelspec": {
   "display_name": "Python 3 (ipykernel)",
   "language": "python",
   "name": "python3"
  },
  "language_info": {
   "codemirror_mode": {
    "name": "ipython",
    "version": 3
   },
   "file_extension": ".py",
   "mimetype": "text/x-python",
   "name": "python",
   "nbconvert_exporter": "python",
   "pygments_lexer": "ipython3",
   "version": "3.12.7"
  }
 },
 "nbformat": 4,
 "nbformat_minor": 5
}
