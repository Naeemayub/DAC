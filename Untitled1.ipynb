{
 "cells": [
  {
   "cell_type": "code",
   "execution_count": 3,
   "id": "8ddfedf3-0c71-4d1b-a222-2effbb7933f8",
   "metadata": {},
   "outputs": [
    {
     "name": "stdout",
     "output_type": "stream",
     "text": [
      "programming\n"
     ]
    }
   ],
   "source": [
    "s = ini love programming\"\n",
    "words = s.split()\n",
    "res = \"\"\n",
    "for word in words:\n",
    "    if len(word) > len(res):\n",
    "        res = word\n",
    "print(res)"
   ]
  },
  {
   "cell_type": "code",
   "execution_count": 1,
   "id": "6d753e2c-446e-48cd-a11e-0bd283822070",
   "metadata": {},
   "outputs": [],
   "source": [
    "a = 10\n",
    "b = 20\n",
    "c = 30\n",
    "d = 40"
   ]
  },
  {
   "cell_type": "code",
   "execution_count": 3,
   "id": "8fe7be7c-3231-43f2-83d1-bb0f9fe8929f",
   "metadata": {},
   "outputs": [
    {
     "data": {
      "text/plain": [
       "False"
      ]
     },
     "execution_count": 3,
     "metadata": {},
     "output_type": "execute_result"
    }
   ],
   "source": [
    "not a<b"
   ]
  },
  {
   "cell_type": "code",
   "execution_count": 4,
   "id": "f63ae0d3-2616-4cc7-8055-d3f9c92daf42",
   "metadata": {},
   "outputs": [
    {
     "data": {
      "text/plain": [
       "False"
      ]
     },
     "execution_count": 4,
     "metadata": {},
     "output_type": "execute_result"
    }
   ],
   "source": [
    "not (b<=c)"
   ]
  },
  {
   "cell_type": "code",
   "execution_count": 14,
   "id": "aca06dd2-c12a-4005-b76f-fea12b91b639",
   "metadata": {},
   "outputs": [
    {
     "data": {
      "text/plain": [
       "False"
      ]
     },
     "execution_count": 14,
     "metadata": {},
     "output_type": "execute_result"
    }
   ],
   "source": [
    "not (a<b) or not (b<c)"
   ]
  },
  {
   "cell_type": "code",
   "execution_count": 16,
   "id": "dd5266cd-4645-4b70-b66c-488c08a4e8ed",
   "metadata": {},
   "outputs": [
    {
     "name": "stdout",
     "output_type": "stream",
     "text": [
      "z is hello\n"
     ]
    }
   ],
   "source": [
    "z = 'hello'\n",
    "if not z == 'hello':\n",
    "    print( \"z is hello\")\n",
    "else:\n",
    "    print('z is not hello')    "
   ]
  },
  {
   "cell_type": "code",
   "execution_count": 17,
   "id": "d388f957-c189-4ab5-a853-765f5e489d1d",
   "metadata": {},
   "outputs": [
    {
     "ename": "SyntaxError",
     "evalue": "leading zeros in decimal integer literals are not permitted; use an 0o prefix for octal integers (3197305269.py, line 1)",
     "output_type": "error",
     "traceback": [
      "\u001b[1;36m  Cell \u001b[1;32mIn[17], line 1\u001b[1;36m\u001b[0m\n\u001b[1;33m    p = 004\u001b[0m\n\u001b[1;37m        ^\u001b[0m\n\u001b[1;31mSyntaxError\u001b[0m\u001b[1;31m:\u001b[0m leading zeros in decimal integer literals are not permitted; use an 0o prefix for octal integers\n"
     ]
    }
   ],
   "source": [
    "p = 004\n",
    "p"
   ]
  },
  {
   "cell_type": "code",
   "execution_count": 31,
   "id": "e26ec238-ef1a-4bdf-8f77-c9180a43c4aa",
   "metadata": {},
   "outputs": [
    {
     "data": {
      "text/plain": [
       "False"
      ]
     },
     "execution_count": 31,
     "metadata": {},
     "output_type": "execute_result"
    }
   ],
   "source": [
    "z = 'hello&'\n",
    "z.isalnum()"
   ]
  },
  {
   "cell_type": "code",
   "execution_count": 37,
   "id": "1abe5227-30e6-468d-9ec4-2f466cb5fb83",
   "metadata": {},
   "outputs": [
    {
     "name": "stdout",
     "output_type": "stream",
     "text": [
      "True\n",
      "140720989678008\n",
      "140720989678008\n"
     ]
    }
   ],
   "source": [
    "a = 1\n",
    "b = 1\n",
    "print(a is b)\n",
    "print(id(a))\n",
    "print(id(b))"
   ]
  },
  {
   "cell_type": "code",
   "execution_count": 43,
   "id": "28649900-e53c-439a-afc1-2c2b32aa9088",
   "metadata": {},
   "outputs": [
    {
     "name": "stdout",
     "output_type": "stream",
     "text": [
      "False\n",
      "1634238297264\n",
      "1634238293424\n"
     ]
    }
   ],
   "source": [
    "x = 'naeem ayub'\n",
    "u = 'naeem ayub'\n",
    "print(x is u)\n",
    "print(id(x))\n",
    "print(id(u))"
   ]
  },
  {
   "cell_type": "code",
   "execution_count": 68,
   "id": "b769c252-8963-4e2a-9aca-f7837d8a2951",
   "metadata": {},
   "outputs": [
    {
     "name": "stdin",
     "output_type": "stream",
     "text": [
      "please enter your name :  256\n",
      "please enter your name :  256\n"
     ]
    },
    {
     "name": "stdout",
     "output_type": "stream",
     "text": [
      "140720989686168\n",
      "140720989686168\n"
     ]
    }
   ],
   "source": [
    "x = int(input(\"please enter your name : \"))\n",
    "u  = int(input(\"please enter your name : \"))\n",
    "print(id(x))\n",
    "print(id(u))\n",
    "      "
   ]
  },
  {
   "cell_type": "code",
   "execution_count": 87,
   "id": "23a2b8c9-501e-482c-a49b-2aa6bac931a7",
   "metadata": {},
   "outputs": [
    {
     "name": "stdout",
     "output_type": "stream",
     "text": [
      "[2, 3, 4]\n",
      "True\n",
      "True\n",
      "[2, 3, 4, 5]\n"
     ]
    }
   ],
   "source": [
    "a = [2,3,4]\n",
    "b = [2,3,4]\n",
    "c = a\n",
    "print(c)\n",
    "print(a is c)\n",
    "c.append(5)\n",
    "print(a is c)\n",
    "print(c)"
   ]
  },
  {
   "cell_type": "code",
   "execution_count": 91,
   "id": "99a31656-e22f-4642-b558-99ff7dcec091",
   "metadata": {},
   "outputs": [
    {
     "name": "stderr",
     "output_type": "stream",
     "text": [
      "ERROR: Could not find a version that satisfies the requirement sys (from versions: none)\n",
      "ERROR: No matching distribution found for sys\n"
     ]
    }
   ],
   "source": [
    "!pip install sys"
   ]
  },
  {
   "cell_type": "code",
   "execution_count": 92,
   "id": "79c7031c-93c3-47ad-9657-d457dc49ab60",
   "metadata": {},
   "outputs": [],
   "source": [
    "import sys"
   ]
  },
  {
   "cell_type": "code",
   "execution_count": 98,
   "id": "e00e44b5-c6c4-4c2f-a94a-1238253bc2ba",
   "metadata": {},
   "outputs": [
    {
     "name": "stdout",
     "output_type": "stream",
     "text": [
      "45 byte\n"
     ]
    }
   ],
   "source": [
    "x = [1,3,4]\n",
    "a =\"byte\"\n",
    "print(sys.getsizeof(a), a)"
   ]
  },
  {
   "cell_type": "code",
   "execution_count": 100,
   "id": "ee6a694c-5c31-4116-8cdd-e63f742f2e3e",
   "metadata": {},
   "outputs": [
    {
     "data": {
      "text/plain": [
       "False"
      ]
     },
     "execution_count": 100,
     "metadata": {},
     "output_type": "execute_result"
    }
   ],
   "source": [
    "a = 5\n",
    "a in x"
   ]
  },
  {
   "cell_type": "code",
   "execution_count": 123,
   "id": "4b3757b4-40ec-4c8c-8aa8-0e3f314f3b5a",
   "metadata": {},
   "outputs": [
    {
     "data": {
      "text/plain": [
       "True"
      ]
     },
     "execution_count": 123,
     "metadata": {},
     "output_type": "execute_result"
    }
   ],
   "source": [
    "a  = ['dog','apple','cat']\n",
    "b = ['apple','cat','dog' ]\n",
    "a[0] in b"
   ]
  },
  {
   "cell_type": "code",
   "execution_count": 153,
   "id": "dafe4550-56e5-4f36-a77f-b650384205bf",
   "metadata": {},
   "outputs": [
    {
     "data": {
      "text/plain": [
       "True"
      ]
     },
     "execution_count": 153,
     "metadata": {},
     "output_type": "execute_result"
    }
   ],
   "source": [
    "a = [0,2]\n",
    "0 in a"
   ]
  },
  {
   "cell_type": "code",
   "execution_count": 154,
   "id": "54826543-ba89-4da7-b3df-8162a02dcea1",
   "metadata": {},
   "outputs": [
    {
     "data": {
      "text/plain": [
       "False"
      ]
     },
     "execution_count": 154,
     "metadata": {},
     "output_type": "execute_result"
    }
   ],
   "source": [
    "a = [0,2]\n",
    "[0] in a"
   ]
  },
  {
   "cell_type": "code",
   "execution_count": 160,
   "id": "186c6045-656b-4d40-be7f-8a0455f3222f",
   "metadata": {},
   "outputs": [
    {
     "data": {
      "text/plain": [
       "['__add__',\n",
       " '__class__',\n",
       " '__class_getitem__',\n",
       " '__contains__',\n",
       " '__delattr__',\n",
       " '__dir__',\n",
       " '__doc__',\n",
       " '__eq__',\n",
       " '__format__',\n",
       " '__ge__',\n",
       " '__getattribute__',\n",
       " '__getitem__',\n",
       " '__getnewargs__',\n",
       " '__getstate__',\n",
       " '__gt__',\n",
       " '__hash__',\n",
       " '__init__',\n",
       " '__init_subclass__',\n",
       " '__iter__',\n",
       " '__le__',\n",
       " '__len__',\n",
       " '__lt__',\n",
       " '__mul__',\n",
       " '__ne__',\n",
       " '__new__',\n",
       " '__reduce__',\n",
       " '__reduce_ex__',\n",
       " '__repr__',\n",
       " '__rmul__',\n",
       " '__setattr__',\n",
       " '__sizeof__',\n",
       " '__str__',\n",
       " '__subclasshook__',\n",
       " 'count',\n",
       " 'index']"
      ]
     },
     "execution_count": 160,
     "metadata": {},
     "output_type": "execute_result"
    }
   ],
   "source": [
    "a = (10,2)\n",
    "dir(a)"
   ]
  },
  {
   "cell_type": "code",
   "execution_count": 199,
   "id": "20e02791-231e-4996-bd18-4cf6be3c9c92",
   "metadata": {},
   "outputs": [],
   "source": [
    "a = ('a','a', 15, 'a4',99)"
   ]
  },
  {
   "cell_type": "code",
   "execution_count": 222,
   "id": "cd903a9f-f5ac-4a4c-a101-505a7fa88c30",
   "metadata": {},
   "outputs": [
    {
     "data": {
      "text/plain": [
       "(15, 'a4', 99)"
      ]
     },
     "execution_count": 222,
     "metadata": {},
     "output_type": "execute_result"
    }
   ],
   "source": [
    "a[-3:]"
   ]
  },
  {
   "cell_type": "code",
   "execution_count": null,
   "id": "bfeb65d9-40bc-432d-9b9e-c748ebbbda90",
   "metadata": {},
   "outputs": [],
   "source": []
  },
  {
   "cell_type": "code",
   "execution_count": null,
   "id": "b3ebfe9f-cb33-4b70-9858-219d098e22a6",
   "metadata": {},
   "outputs": [],
   "source": []
  },
  {
   "cell_type": "code",
   "execution_count": null,
   "id": "bf5cb935-e96a-4c08-a6a7-f05a98f1f0eb",
   "metadata": {},
   "outputs": [],
   "source": []
  }
 ],
 "metadata": {
  "kernelspec": {
   "display_name": "Python 3 (ipykernel)",
   "language": "python",
   "name": "python3"
  },
  "language_info": {
   "codemirror_mode": {
    "name": "ipython",
    "version": 3
   },
   "file_extension": ".py",
   "mimetype": "text/x-python",
   "name": "python",
   "nbconvert_exporter": "python",
   "pygments_lexer": "ipython3",
   "version": "3.12.7"
  }
 },
 "nbformat": 4,
 "nbformat_minor": 5
}
