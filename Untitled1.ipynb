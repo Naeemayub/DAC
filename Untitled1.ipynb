{
 "cells": [
  {
   "cell_type": "code",
   "execution_count": 3,
   "id": "8ddfedf3-0c71-4d1b-a222-2effbb7933f8",
   "metadata": {},
   "outputs": [
    {
     "name": "stdout",
     "output_type": "stream",
     "text": [
      "programming\n"
     ]
    }
   ],
   "source": [
    "s = ini love programming\"\n",
    "words = s.split()\n",
    "res = \"\"\n",
    "for word in words:\n",
    "    if len(word) > len(res):\n",
    "        res = word\n",
    "print(res)"
   ]
  },
  {
   "cell_type": "code",
   "execution_count": 1,
   "id": "6d753e2c-446e-48cd-a11e-0bd283822070",
   "metadata": {},
   "outputs": [],
   "source": [
    "a = 10\n",
    "b = 20\n",
    "c = 30\n",
    "d = 40"
   ]
  },
  {
   "cell_type": "code",
   "execution_count": 3,
   "id": "8fe7be7c-3231-43f2-83d1-bb0f9fe8929f",
   "metadata": {},
   "outputs": [
    {
     "data": {
      "text/plain": [
       "False"
      ]
     },
     "execution_count": 3,
     "metadata": {},
     "output_type": "execute_result"
    }
   ],
   "source": [
    "not a<b"
   ]
  },
  {
   "cell_type": "code",
   "execution_count": 4,
   "id": "f63ae0d3-2616-4cc7-8055-d3f9c92daf42",
   "metadata": {},
   "outputs": [
    {
     "data": {
      "text/plain": [
       "False"
      ]
     },
     "execution_count": 4,
     "metadata": {},
     "output_type": "execute_result"
    }
   ],
   "source": [
    "not (b<=c)"
   ]
  },
  {
   "cell_type": "code",
   "execution_count": 14,
   "id": "aca06dd2-c12a-4005-b76f-fea12b91b639",
   "metadata": {},
   "outputs": [
    {
     "data": {
      "text/plain": [
       "False"
      ]
     },
     "execution_count": 14,
     "metadata": {},
     "output_type": "execute_result"
    }
   ],
   "source": [
    "not (a<b) or not (b<c)"
   ]
  },
  {
   "cell_type": "code",
   "execution_count": 16,
   "id": "dd5266cd-4645-4b70-b66c-488c08a4e8ed",
   "metadata": {},
   "outputs": [
    {
     "name": "stdout",
     "output_type": "stream",
     "text": [
      "z is hello\n"
     ]
    }
   ],
   "source": [
    "z = 'hello'\n",
    "if not z == 'hello':\n",
    "    print( \"z is hello\")\n",
    "else:\n",
    "    print('z is not hello')    "
   ]
  },
  {
   "cell_type": "code",
   "execution_count": 17,
   "id": "d388f957-c189-4ab5-a853-765f5e489d1d",
   "metadata": {},
   "outputs": [
    {
     "ename": "SyntaxError",
     "evalue": "leading zeros in decimal integer literals are not permitted; use an 0o prefix for octal integers (3197305269.py, line 1)",
     "output_type": "error",
     "traceback": [
      "\u001b[1;36m  Cell \u001b[1;32mIn[17], line 1\u001b[1;36m\u001b[0m\n\u001b[1;33m    p = 004\u001b[0m\n\u001b[1;37m        ^\u001b[0m\n\u001b[1;31mSyntaxError\u001b[0m\u001b[1;31m:\u001b[0m leading zeros in decimal integer literals are not permitted; use an 0o prefix for octal integers\n"
     ]
    }
   ],
   "source": [
    "p = 004\n",
    "p"
   ]
  },
  {
   "cell_type": "code",
   "execution_count": 31,
   "id": "e26ec238-ef1a-4bdf-8f77-c9180a43c4aa",
   "metadata": {},
   "outputs": [
    {
     "data": {
      "text/plain": [
       "False"
      ]
     },
     "execution_count": 31,
     "metadata": {},
     "output_type": "execute_result"
    }
   ],
   "source": [
    "z = 'hello&'\n",
    "z.isalnum()"
   ]
  },
  {
   "cell_type": "code",
   "execution_count": 37,
   "id": "1abe5227-30e6-468d-9ec4-2f466cb5fb83",
   "metadata": {},
   "outputs": [
    {
     "name": "stdout",
     "output_type": "stream",
     "text": [
      "True\n",
      "140720989678008\n",
      "140720989678008\n"
     ]
    }
   ],
   "source": [
    "a = 1\n",
    "b = 1\n",
    "print(a is b)\n",
    "print(id(a))\n",
    "print(id(b))"
   ]
  },
  {
   "cell_type": "code",
   "execution_count": 43,
   "id": "28649900-e53c-439a-afc1-2c2b32aa9088",
   "metadata": {},
   "outputs": [
    {
     "name": "stdout",
     "output_type": "stream",
     "text": [
      "False\n",
      "1634238297264\n",
      "1634238293424\n"
     ]
    }
   ],
   "source": [
    "x = 'naeem ayub'\n",
    "u = 'naeem ayub'\n",
    "print(x is u)\n",
    "print(id(x))\n",
    "print(id(u))"
   ]
  },
  {
   "cell_type": "code",
   "execution_count": 68,
   "id": "b769c252-8963-4e2a-9aca-f7837d8a2951",
   "metadata": {},
   "outputs": [
    {
     "name": "stdin",
     "output_type": "stream",
     "text": [
      "please enter your name :  256\n",
      "please enter your name :  256\n"
     ]
    },
    {
     "name": "stdout",
     "output_type": "stream",
     "text": [
      "140720989686168\n",
      "140720989686168\n"
     ]
    }
   ],
   "source": [
    "x = int(input(\"please enter your name : \"))\n",
    "u  = int(input(\"please enter your name : \"))\n",
    "print(id(x))\n",
    "print(id(u))\n",
    "      "
   ]
  },
  {
   "cell_type": "code",
   "execution_count": 87,
   "id": "23a2b8c9-501e-482c-a49b-2aa6bac931a7",
   "metadata": {},
   "outputs": [
    {
     "name": "stdout",
     "output_type": "stream",
     "text": [
      "[2, 3, 4]\n",
      "True\n",
      "True\n",
      "[2, 3, 4, 5]\n"
     ]
    }
   ],
   "source": [
    "a = [2,3,4]\n",
    "b = [2,3,4]\n",
    "c = a\n",
    "print(c)\n",
    "print(a is c)\n",
    "c.append(5)\n",
    "print(a is c)\n",
    "print(c)"
   ]
  },
  {
   "cell_type": "code",
   "execution_count": 91,
   "id": "99a31656-e22f-4642-b558-99ff7dcec091",
   "metadata": {},
   "outputs": [
    {
     "name": "stderr",
     "output_type": "stream",
     "text": [
      "ERROR: Could not find a version that satisfies the requirement sys (from versions: none)\n",
      "ERROR: No matching distribution found for sys\n"
     ]
    }
   ],
   "source": [
    "!pip install sys"
   ]
  },
  {
   "cell_type": "code",
   "execution_count": 92,
   "id": "79c7031c-93c3-47ad-9657-d457dc49ab60",
   "metadata": {},
   "outputs": [],
   "source": [
    "import sys"
   ]
  },
  {
   "cell_type": "code",
   "execution_count": 98,
   "id": "e00e44b5-c6c4-4c2f-a94a-1238253bc2ba",
   "metadata": {},
   "outputs": [
    {
     "name": "stdout",
     "output_type": "stream",
     "text": [
      "45 byte\n"
     ]
    }
   ],
   "source": [
    "x = [1,3,4]\n",
    "a =\"byte\"\n",
    "print(sys.getsizeof(a), a)"
   ]
  },
  {
   "cell_type": "code",
   "execution_count": 100,
   "id": "ee6a694c-5c31-4116-8cdd-e63f742f2e3e",
   "metadata": {},
   "outputs": [
    {
     "data": {
      "text/plain": [
       "False"
      ]
     },
     "execution_count": 100,
     "metadata": {},
     "output_type": "execute_result"
    }
   ],
   "source": [
    "a = 5\n",
    "a in x"
   ]
  },
  {
   "cell_type": "code",
   "execution_count": 123,
   "id": "4b3757b4-40ec-4c8c-8aa8-0e3f314f3b5a",
   "metadata": {},
   "outputs": [
    {
     "data": {
      "text/plain": [
       "True"
      ]
     },
     "execution_count": 123,
     "metadata": {},
     "output_type": "execute_result"
    }
   ],
   "source": [
    "a  = ['dog','apple','cat']\n",
    "b = ['apple','cat','dog' ]\n",
    "a[0] in b"
   ]
  },
  {
   "cell_type": "code",
   "execution_count": 153,
   "id": "dafe4550-56e5-4f36-a77f-b650384205bf",
   "metadata": {},
   "outputs": [
    {
     "data": {
      "text/plain": [
       "True"
      ]
     },
     "execution_count": 153,
     "metadata": {},
     "output_type": "execute_result"
    }
   ],
   "source": [
    "a = [0,2]\n",
    "0 in a"
   ]
  },
  {
   "cell_type": "code",
   "execution_count": 154,
   "id": "54826543-ba89-4da7-b3df-8162a02dcea1",
   "metadata": {},
   "outputs": [
    {
     "data": {
      "text/plain": [
       "False"
      ]
     },
     "execution_count": 154,
     "metadata": {},
     "output_type": "execute_result"
    }
   ],
   "source": [
    "a = [0,2]\n",
    "[0] in a"
   ]
  },
  {
   "cell_type": "code",
   "execution_count": 160,
   "id": "186c6045-656b-4d40-be7f-8a0455f3222f",
   "metadata": {},
   "outputs": [
    {
     "data": {
      "text/plain": [
       "['__add__',\n",
       " '__class__',\n",
       " '__class_getitem__',\n",
       " '__contains__',\n",
       " '__delattr__',\n",
       " '__dir__',\n",
       " '__doc__',\n",
       " '__eq__',\n",
       " '__format__',\n",
       " '__ge__',\n",
       " '__getattribute__',\n",
       " '__getitem__',\n",
       " '__getnewargs__',\n",
       " '__getstate__',\n",
       " '__gt__',\n",
       " '__hash__',\n",
       " '__init__',\n",
       " '__init_subclass__',\n",
       " '__iter__',\n",
       " '__le__',\n",
       " '__len__',\n",
       " '__lt__',\n",
       " '__mul__',\n",
       " '__ne__',\n",
       " '__new__',\n",
       " '__reduce__',\n",
       " '__reduce_ex__',\n",
       " '__repr__',\n",
       " '__rmul__',\n",
       " '__setattr__',\n",
       " '__sizeof__',\n",
       " '__str__',\n",
       " '__subclasshook__',\n",
       " 'count',\n",
       " 'index']"
      ]
     },
     "execution_count": 160,
     "metadata": {},
     "output_type": "execute_result"
    }
   ],
   "source": [
    "a = (10,2)\n",
    "dir(a)"
   ]
  },
  {
   "cell_type": "code",
   "execution_count": 199,
   "id": "20e02791-231e-4996-bd18-4cf6be3c9c92",
   "metadata": {},
   "outputs": [],
   "source": [
    "a = ('a','a', 15, 'a4',99)"
   ]
  },
  {
   "cell_type": "code",
   "execution_count": 222,
   "id": "cd903a9f-f5ac-4a4c-a101-505a7fa88c30",
   "metadata": {},
   "outputs": [
    {
     "data": {
      "text/plain": [
       "(15, 'a4', 99)"
      ]
     },
     "execution_count": 222,
     "metadata": {},
     "output_type": "execute_result"
    }
   ],
   "source": [
    "a[-3:]"
   ]
  },
  {
   "cell_type": "code",
   "execution_count": 16,
   "id": "bfeb65d9-40bc-432d-9b9e-c748ebbbda90",
   "metadata": {},
   "outputs": [
    {
     "name": "stdout",
     "output_type": "stream",
     "text": [
      "1\n",
      "2\n",
      "3\n",
      "4\n",
      "5\n",
      "6\n",
      "aapple\n",
      "banana\n",
      "cherry\n",
      "7\n",
      "8\n",
      "9\n",
      "(1, 2, 3, 7, 8, 9)\n"
     ]
    }
   ],
   "source": [
    "my_tuple = ((1,2,3),[4,5,6],(\"aapple\",\"banana\",\"cherry\"),[7,8,9])\n",
    "\n",
    "for i in my_tuple:\n",
    "    for p in range(0,len(i)):\n",
    "        print(i[p])\n",
    "\n",
    "my_new_tup = my_tuple[0] +  tuple(my_tuple[-1])\n",
    "print(my_new_tup)\n"
   ]
  },
  {
   "cell_type": "code",
   "execution_count": 22,
   "id": "b3ebfe9f-cb33-4b70-9858-219d098e22a6",
   "metadata": {},
   "outputs": [
    {
     "name": "stdout",
     "output_type": "stream",
     "text": [
      "1\n",
      "2\n",
      "3\n",
      "4\n",
      "5\n",
      "6\n",
      "aapple\n",
      "banana\n",
      "cherry\n",
      "7\n",
      "8\n",
      "9\n"
     ]
    }
   ],
   "source": [
    "my_tuple = [(1,2,3),[4,5,6],(\"aapple\",\"banana\",\"cherry\"),[7,8,9]]\n",
    "\n",
    "for i in my_tuple:\n",
    "    for a in i:\n",
    "        print(a)\n",
    "    \n",
    "    "
   ]
  },
  {
   "cell_type": "code",
   "execution_count": 29,
   "id": "bf5cb935-e96a-4c08-a6a7-f05a98f1f0eb",
   "metadata": {},
   "outputs": [
    {
     "name": "stdout",
     "output_type": "stream",
     "text": [
      "name : Laptop\n",
      "price : 1200\n",
      "in_stock : True\n",
      "discount : 0.1\n",
      "name : Smartphone\n",
      "price : 800\n",
      "in_stock : False\n",
      "discount : 0.05\n",
      "name : Headphones\n",
      "price : 150\n",
      "in_stock : True\n",
      "discount : 0.2\n",
      "name : Smartwatch\n",
      "price : 300\n",
      "in_stock : True\n",
      "discount : 0\n",
      "name : Keyboard\n",
      "price : 100\n",
      "in_stock : True\n",
      "discount : 0.15\n"
     ]
    }
   ],
   "source": [
    "products = [\n",
    "    {\"name\": \"Laptop\", \"price\": 1200, \"in_stock\": True, \"discount\": 0.1},\n",
    "    {\"name\": \"Smartphone\", \"price\": 800, \"in_stock\": False, \"discount\": 0.05},\n",
    "    {\"name\": \"Headphones\", \"price\": 150, \"in_stock\": True, \"discount\": 0.2},\n",
    "    {\"name\": \"Smartwatch\", \"price\": 300, \"in_stock\": True, \"discount\": 0},\n",
    "    {\"name\": \"Keyboard\", \"price\": 100, \"in_stock\": True, \"discount\": 0.15}\n",
    "]\n",
    "\n",
    "\n",
    "\n",
    "for p in products:\n",
    "    for q,v in p.items():\n",
    "        print(q,\":\", v)\n",
    "   "
   ]
  },
  {
   "cell_type": "code",
   "execution_count": 35,
   "id": "fb8c7db3-6a86-4542-bc1e-0ab456e57c3f",
   "metadata": {},
   "outputs": [
    {
     "data": {
      "text/plain": [
       "13"
      ]
     },
     "execution_count": 35,
     "metadata": {},
     "output_type": "execute_result"
    }
   ],
   "source": [
    "a = [2,4,5]\n",
    "sum(a,2)"
   ]
  },
  {
   "cell_type": "code",
   "execution_count": 36,
   "id": "d76dbda0-5039-49a3-a39d-0ed13851605b",
   "metadata": {},
   "outputs": [
    {
     "data": {
      "text/plain": [
       "builtin_function_or_method"
      ]
     },
     "execution_count": 36,
     "metadata": {},
     "output_type": "execute_result"
    }
   ],
   "source": [
    "sum(_"
   ]
  },
  {
   "cell_type": "code",
   "execution_count": 43,
   "id": "7d37dc01-c52e-466f-8d1c-9e0609b578df",
   "metadata": {},
   "outputs": [
    {
     "data": {
      "text/plain": [
       "7"
      ]
     },
     "execution_count": 43,
     "metadata": {},
     "output_type": "execute_result"
    }
   ],
   "source": [
    "sum([3], start=4)"
   ]
  },
  {
   "cell_type": "code",
   "execution_count": 54,
   "id": "ece4b5db-5074-4ab3-8b8e-0df2e54e866b",
   "metadata": {},
   "outputs": [
    {
     "name": "stdout",
     "output_type": "stream",
     "text": [
      "{'name': 'Naeem'}\n",
      "('gul',)\n"
     ]
    }
   ],
   "source": [
    "def greet(*args, **kwargs):\n",
    "    print(kwargs)\n",
    "    print(args)\n",
    "\n",
    "greet(\"gul\", name='Naeem')"
   ]
  },
  {
   "cell_type": "code",
   "execution_count": 56,
   "id": "34f42e4b-a4f3-4ece-8a20-ed76bae9cbf9",
   "metadata": {},
   "outputs": [
    {
     "name": "stdout",
     "output_type": "stream",
     "text": [
      "{'name': 'naeem', 'age': 30, 'school': 'katas'}\n"
     ]
    }
   ],
   "source": [
    "a = {\n",
    "    'name':'naeem',\n",
    "    'age': 30,\n",
    "    'school': 'katas'\n",
    "}\n",
    "print(a)\n"
   ]
  },
  {
   "cell_type": "code",
   "execution_count": 57,
   "id": "8e8a261c-88ec-4a27-a13d-dff789981576",
   "metadata": {},
   "outputs": [
    {
     "data": {
      "text/plain": [
       "dict"
      ]
     },
     "execution_count": 57,
     "metadata": {},
     "output_type": "execute_result"
    }
   ],
   "source": [
    "type(a)"
   ]
  },
  {
   "cell_type": "code",
   "execution_count": 58,
   "id": "ee801b96-0a82-4590-a3d5-f47c0b6b0b10",
   "metadata": {},
   "outputs": [
    {
     "data": {
      "text/plain": [
       "dict_items([('name', 'naeem'), ('age', 30), ('school', 'katas')])"
      ]
     },
     "execution_count": 58,
     "metadata": {},
     "output_type": "execute_result"
    }
   ],
   "source": [
    "a.items()"
   ]
  },
  {
   "cell_type": "code",
   "execution_count": 60,
   "id": "60434b1d-bb76-4ca1-88b4-2604ae15507a",
   "metadata": {},
   "outputs": [
    {
     "name": "stdout",
     "output_type": "stream",
     "text": [
      "karachi : islamabad\n",
      "karachi : multan\n",
      "karachi : faisalabad\n",
      "karachi : quetta\n",
      "karachi : peshawar\n",
      "hyderabad : islamabad\n",
      "hyderabad : multan\n",
      "hyderabad : faisalabad\n",
      "hyderabad : quetta\n",
      "hyderabad : peshawar\n",
      "islamabad : islamabad\n",
      "islamabad : multan\n",
      "islamabad : faisalabad\n",
      "islamabad : quetta\n",
      "islamabad : peshawar\n",
      "quetta : islamabad\n",
      "quetta : multan\n",
      "quetta : faisalabad\n",
      "quetta : quetta\n",
      "quetta : peshawar\n",
      "lahore : islamabad\n",
      "lahore : multan\n",
      "lahore : faisalabad\n",
      "lahore : quetta\n",
      "lahore : peshawar\n"
     ]
    }
   ],
   "source": [
    "cities = ('karachi', 'hyderabad', 'islamabad', 'quetta', 'lahore')\n",
    "visited_cities = ('islamabad', 'multan', 'faisalabad', 'quetta', 'peshawar')\n",
    "\n",
    "i = 0\n",
    "while i < len(cities):\n",
    "    p = 0\n",
    "    while p <len(visited_cities):\n",
    "        print(f\"{cities[i]} : {visited_cities[p]}\")\n",
    "        p+=1\n",
    "    i+=1\n"
   ]
  },
  {
   "cell_type": "code",
   "execution_count": 61,
   "id": "75f96ff7-3244-4375-9b82-da706c24bd6c",
   "metadata": {},
   "outputs": [
    {
     "data": {
      "text/plain": [
       "2672094257104"
      ]
     },
     "execution_count": 61,
     "metadata": {},
     "output_type": "execute_result"
    }
   ],
   "source": [
    "id(cities)"
   ]
  },
  {
   "cell_type": "code",
   "execution_count": 62,
   "id": "b4451966-f31e-44f7-a54e-82cab5d823f7",
   "metadata": {},
   "outputs": [
    {
     "data": {
      "text/plain": [
       "2672107258240"
      ]
     },
     "execution_count": 62,
     "metadata": {},
     "output_type": "execute_result"
    }
   ],
   "source": [
    "id(visited_cities)"
   ]
  },
  {
   "cell_type": "code",
   "execution_count": 63,
   "id": "f84e5050-224b-43ec-80c4-69275889f93a",
   "metadata": {},
   "outputs": [
    {
     "data": {
      "text/plain": [
       "tuple"
      ]
     },
     "execution_count": 63,
     "metadata": {},
     "output_type": "execute_result"
    }
   ],
   "source": [
    "type(cities)"
   ]
  },
  {
   "cell_type": "code",
   "execution_count": 68,
   "id": "7454764c-efb7-46c6-92dd-b4ac1c75fb93",
   "metadata": {},
   "outputs": [
    {
     "name": "stdout",
     "output_type": "stream",
     "text": [
      "10\n",
      "20\n",
      "10\n"
     ]
    }
   ],
   "source": [
    "a = 10\n",
    "def func():\n",
    "    a = 20\n",
    "    return print(a)\n",
    "print(a)\n",
    "func()\n",
    "print(a)"
   ]
  },
  {
   "cell_type": "code",
   "execution_count": 80,
   "id": "82ec10d6-4a3d-4e27-911c-691e36426c48",
   "metadata": {},
   "outputs": [
    {
     "data": {
      "text/plain": [
       "9"
      ]
     },
     "execution_count": 80,
     "metadata": {},
     "output_type": "execute_result"
    }
   ],
   "source": [
    "#### lambda functions\n",
    "\n",
    "(lambda x,y:x+y)(4,5)\n",
    "\n"
   ]
  },
  {
   "cell_type": "code",
   "execution_count": 91,
   "id": "5460a4e6-8042-4a4f-a07d-a804e8f22c2d",
   "metadata": {},
   "outputs": [
    {
     "name": "stdout",
     "output_type": "stream",
     "text": [
      "[16, 25, 36, 49, 64, 81, 100, 121, 169, 225, 400]\n"
     ]
    }
   ],
   "source": [
    "new_list = [4,5,6,7,8,9,10,11,13,15,20]\n",
    "def my_func(l_func, new_list):\n",
    "    updated_list = []\n",
    "    for i in new_list:\n",
    "        updated_list.append(l_func(i))\n",
    "    return print(updated_list)\n",
    "\n",
    "my_func(lambda x:x**2, new_list)\n",
    "        \n",
    "    "
   ]
  },
  {
   "cell_type": "code",
   "execution_count": 110,
   "id": "b47144b2-2386-4352-94b1-eadd20884768",
   "metadata": {},
   "outputs": [
    {
     "name": "stdout",
     "output_type": "stream",
     "text": [
      "[4, 6, 8, 10, 20]\n",
      "[8, 6, 12, 8, 16, 10, 20, 12, 14, 16, 40]\n",
      "[2, 3, 4, 5, 10]\n"
     ]
    }
   ],
   "source": [
    "new_list = [4,5,6,7,8,9,10,11,13,15,20]\n",
    "evens = [l for l in new_list if l%2==0]\n",
    "print(evens)\n",
    "\n",
    "# if else with list comprehension:\n",
    "\n",
    "k = [o*2 if o%2==0 else o+1 for o in new_list]\n",
    "print(k)\n",
    "\n",
    "# only if with list comprehension:\n",
    "evens = [num//2 for num in new_list if num%2==0]\n",
    "print(evens)\n",
    "\n"
   ]
  },
  {
   "cell_type": "code",
   "execution_count": 115,
   "id": "898cfce5-f611-4d58-ba85-83f8067b7a32",
   "metadata": {},
   "outputs": [
    {
     "name": "stdout",
     "output_type": "stream",
     "text": [
      "[4, 6, 6, 8, 8, 10, 10, 12, 14, 16, 20]\n"
     ]
    }
   ],
   "source": [
    "new_list = [4,5,6,7,8,9,10,11,13,15,20]\n",
    "\n",
    "def make_even(num):\n",
    "    if num%2 ==1:\n",
    "        return num+1\n",
    "    else:\n",
    "        return num\n",
    "\n",
    "\n",
    "y = list(map(make_even, new_list))\n",
    "print(y)\n"
   ]
  },
  {
   "cell_type": "code",
   "execution_count": null,
   "id": "9c7598e3-1e1a-40ce-976f-d4733b280bd5",
   "metadata": {},
   "outputs": [],
   "source": [
    "\n",
    "    \n"
   ]
  }
 ],
 "metadata": {
  "kernelspec": {
   "display_name": "Python 3 (ipykernel)",
   "language": "python",
   "name": "python3"
  },
  "language_info": {
   "codemirror_mode": {
    "name": "ipython",
    "version": 3
   },
   "file_extension": ".py",
   "mimetype": "text/x-python",
   "name": "python",
   "nbconvert_exporter": "python",
   "pygments_lexer": "ipython3",
   "version": "3.12.7"
  }
 },
 "nbformat": 4,
 "nbformat_minor": 5
}
