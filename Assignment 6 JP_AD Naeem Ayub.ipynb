{
 "cells": [
  {
   "cell_type": "markdown",
   "id": "3ecd7974-c0c4-4800-9e12-ef0e8691d16f",
   "metadata": {},
   "source": [
    "#### Question 1:\n",
    "In a transportation system, we have two classes:\n",
    " ElectricVehicle: A class that has a method charge() to charge the vehicle.\n",
    " GasolineVehicle: A class that has a method fuel_up() to refuel the vehicle.\n",
    "Create a class HybridCar that inherits from both ElectricVehicle and GasolineVehicle. The HybridCar\n",
    "class should have a method drive() that prints a message showing the car is being driven. Instantiate\n",
    "an object of class HybridCar and demonstrate the usage of charge(), fuel_up(), and drive().\n",
    "Expected Output:\n",
    " Charging the electric vehicle.\n",
    " Filling up the gasoline tank.\n",
    " Driving the hybrid car."
   ]
  },
  {
   "cell_type": "code",
   "execution_count": 9,
   "id": "18092989-2214-4fc1-bc77-0a84c9763906",
   "metadata": {},
   "outputs": [
    {
     "name": "stdout",
     "output_type": "stream",
     "text": [
      "Charging the Electric Vehicle\n",
      "None\n",
      "Filling up the gasoline tank\n",
      "None\n",
      "Driving the Hybrid Car\n",
      "None\n"
     ]
    }
   ],
   "source": [
    "class ElectricVehicle:\n",
    "    def charge():\n",
    "        return print(\"Charging the Electric Vehicle\")\n",
    "        \n",
    "        \n",
    "class GasolineVehicle:\n",
    "    def fuel_up():\n",
    "        return print(\"Filling up the gasoline tank\")\n",
    "\n",
    "\n",
    "class HybridCar(ElectricVehicle, GasolineVehicle):\n",
    "    def drive():\n",
    "        return print(\"Driving the Hybrid Car\")\n",
    "\n",
    "My_HybridCar = HybridCar\n",
    "print(My_HybridCar.charge())\n",
    "print(My_HybridCar.fuel_up())\n",
    "print(My_HybridCar.drive())"
   ]
  },
  {
   "cell_type": "code",
   "execution_count": 10,
   "id": "ef5c6569-0d3f-4332-9298-4c1d0508d282",
   "metadata": {},
   "outputs": [
    {
     "name": "stdout",
     "output_type": "stream",
     "text": [
      "hello\n"
     ]
    }
   ],
   "source": [
    "print(\"hello\")\n"
   ]
  },
  {
   "cell_type": "code",
   "execution_count": null,
   "id": "d7fddd8a-f356-407a-8992-e256e4db8ec1",
   "metadata": {},
   "outputs": [],
   "source": []
  },
  {
   "cell_type": "code",
   "execution_count": null,
   "id": "ac5ff8e7-746f-4e1f-a94f-fbab115284a1",
   "metadata": {},
   "outputs": [],
   "source": []
  }
 ],
 "metadata": {
  "kernelspec": {
   "display_name": "Python 3 (ipykernel)",
   "language": "python",
   "name": "python3"
  },
  "language_info": {
   "codemirror_mode": {
    "name": "ipython",
    "version": 3
   },
   "file_extension": ".py",
   "mimetype": "text/x-python",
   "name": "python",
   "nbconvert_exporter": "python",
   "pygments_lexer": "ipython3",
   "version": "3.12.7"
  }
 },
 "nbformat": 4,
 "nbformat_minor": 5
}
