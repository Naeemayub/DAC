{
 "cells": [
  {
   "cell_type": "code",
   "execution_count": 64,
   "id": "8b0338a7-aa5e-4269-89a2-2a4977807837",
   "metadata": {},
   "outputs": [
    {
     "name": "stdout",
     "output_type": "stream",
     "text": [
      "Helo, Naeem\n"
     ]
    }
   ],
   "source": [
    "def greet():\n",
    "    print(\"Helo, Naeem\")\n",
    "\n",
    "greet()"
   ]
  },
  {
   "cell_type": "code",
   "execution_count": 65,
   "id": "17b24303-fec8-4ccb-9bad-3ba06e2a631b",
   "metadata": {},
   "outputs": [
    {
     "name": "stdout",
     "output_type": "stream",
     "text": [
      "Hello, naeem\n"
     ]
    }
   ],
   "source": [
    "def greet(name):\n",
    "    print(f'Hello, {name}')\n",
    "greet('naeem')\n"
   ]
  },
  {
   "cell_type": "code",
   "execution_count": 66,
   "id": "1d9d09dc-3d51-41b5-a4e7-0948fcb5b468",
   "metadata": {},
   "outputs": [
    {
     "name": "stdin",
     "output_type": "stream",
     "text": [
      "Please enter your name naeem\n"
     ]
    },
    {
     "name": "stdout",
     "output_type": "stream",
     "text": [
      "Hello naeem\n"
     ]
    }
   ],
   "source": [
    "def greet(name):\n",
    "    print(f'Hello {name}')\n",
    "name = input(\"Please enter your name\")\n",
    "\n",
    "greet(name)"
   ]
  },
  {
   "cell_type": "code",
   "execution_count": 67,
   "id": "5d4fd6eb-69cc-4adc-8407-261ea7d73b85",
   "metadata": {},
   "outputs": [
    {
     "ename": "NameError",
     "evalue": "name 'age' is not defined",
     "output_type": "error",
     "traceback": [
      "\u001b[1;31m---------------------------------------------------------------------------\u001b[0m",
      "\u001b[1;31mNameError\u001b[0m                                 Traceback (most recent call last)",
      "Cell \u001b[1;32mIn[67], line 5\u001b[0m\n\u001b[0;32m      2\u001b[0m     \u001b[38;5;28;01mreturn\u001b[39;00m name, age,nationality\n\u001b[0;32m      4\u001b[0m greet(\u001b[38;5;124m'\u001b[39m\u001b[38;5;124mnaeem\u001b[39m\u001b[38;5;124m'\u001b[39m, \u001b[38;5;241m20\u001b[39m, \u001b[38;5;124m'\u001b[39m\u001b[38;5;124mpakistani\u001b[39m\u001b[38;5;124m'\u001b[39m)\n\u001b[1;32m----> 5\u001b[0m \u001b[38;5;28mprint\u001b[39m(age)\n",
      "\u001b[1;31mNameError\u001b[0m: name 'age' is not defined"
     ]
    }
   ],
   "source": [
    "def greet(name, age, nationality):\n",
    "    return name, age,nationality\n",
    "\n",
    "greet('naeem', 20, 'pakistani')\n",
    "print(age)"
   ]
  },
  {
   "cell_type": "code",
   "execution_count": null,
   "id": "8c191568-b2fc-4c8f-9969-900be3972bd5",
   "metadata": {},
   "outputs": [],
   "source": [
    "def fwd(x,y,z):\n",
    "    print(x,y)\n",
    "def greet(name, age, nationality):\n",
    "    fwd(name,age,nationality)\n",
    "\n",
    "greet('naeem', 20, 'pakistani')\n",
    "\n",
    "print('hello')\n",
    "\n",
    "def fwd(x,y,z):\n",
    "    print(x,y)"
   ]
  },
  {
   "cell_type": "code",
   "execution_count": null,
   "id": "3e2450ff-5d52-4ccb-b7f5-f34411177748",
   "metadata": {},
   "outputs": [],
   "source": [
    "def greet(name, *arg):\n",
    "    print(type(arg), type(name))\n",
    "    print(arg)\n",
    "greet('naeem','ayub','samih', 'nargis')"
   ]
  },
  {
   "cell_type": "code",
   "execution_count": null,
   "id": "0203c8e2-37a4-43fb-abed-f41709525835",
   "metadata": {},
   "outputs": [],
   "source": [
    "def greet(**kwargs):\n",
    "    print(kwargs)\n",
    "    print(type(kwargs))\n",
    "    return kwargs\n",
    "greet(name='naeem', age = 20, citizenship = 'pakistan')\n",
    "    "
   ]
  },
  {
   "cell_type": "code",
   "execution_count": null,
   "id": "4d8cd05b-2ab1-4f61-9374-e60e18f801a0",
   "metadata": {},
   "outputs": [],
   "source": [
    "def greet(name='naeem',age,citizenship):\n",
    "    print(name,age,citizenship)\n",
    "greet(age= 40,name='naeem',c='pakistan')"
   ]
  },
  {
   "cell_type": "code",
   "execution_count": null,
   "id": "543a6cdc-003a-4fd4-8d24-dfbe8678772c",
   "metadata": {},
   "outputs": [],
   "source": [
    "def greet(name,age,citizenship='pakistan'):\n",
    "    print(name,age,citizenship)\n",
    "greet(age= 40,name='naeem')"
   ]
  },
  {
   "cell_type": "code",
   "execution_count": null,
   "id": "5138be7c-7f9a-4cba-86e4-30b8ed2e4ec6",
   "metadata": {},
   "outputs": [],
   "source": [
    "def greet(name,age,citizenship):\n",
    "    print(name,age,citizenship)\n",
    "greet(age= 40,name='naeem','pakistan')"
   ]
  },
  {
   "cell_type": "code",
   "execution_count": null,
   "id": "93589ecf-e07b-4763-ba09-7ab6b15413bf",
   "metadata": {},
   "outputs": [],
   "source": [
    "def greet(citizenship,name,age):\n",
    "    print(name,age,citizenship)\n",
    "    print(type(name),type(age), type(citizenship))\n",
    "greet('pakistan',age= 40,name='naeem')"
   ]
  },
  {
   "cell_type": "code",
   "execution_count": null,
   "id": "d8c6dd20-541c-4bf4-962a-1082efe3c685",
   "metadata": {},
   "outputs": [],
   "source": [
    "def greet(citizenship,name,age):\n",
    "    print(name,age,citizenship)\n",
    "greet('pakistan',age= 40,name='naeem')\n"
   ]
  },
  {
   "cell_type": "code",
   "execution_count": null,
   "id": "f38a0cd9-8326-4b8a-93b7-f992d68b7337",
   "metadata": {},
   "outputs": [],
   "source": [
    "sum((4,5,6),2)"
   ]
  },
  {
   "cell_type": "code",
   "execution_count": 70,
   "id": "124e38c2-09ba-4bbc-aa0c-01d5ff668818",
   "metadata": {},
   "outputs": [
    {
     "name": "stdin",
     "output_type": "stream",
     "text": [
      "enter a number 5\n"
     ]
    },
    {
     "data": {
      "text/plain": [
       "[0,\n",
       " 5,\n",
       " 10,\n",
       " 15,\n",
       " 20,\n",
       " 25,\n",
       " 30,\n",
       " 35,\n",
       " 40,\n",
       " 45,\n",
       " 50,\n",
       " 55,\n",
       " 60,\n",
       " 65,\n",
       " 70,\n",
       " 75,\n",
       " 80,\n",
       " 85,\n",
       " 90,\n",
       " 95,\n",
       " 100]"
      ]
     },
     "execution_count": 70,
     "metadata": {},
     "output_type": "execute_result"
    }
   ],
   "source": [
    "q = int(input(\"enter a number\"))\n",
    "t = [q*i for i in range(0,21)]\n",
    "t\n"
   ]
  },
  {
   "cell_type": "code",
   "execution_count": 80,
   "id": "a7e27d0c-cdea-4cc7-b76f-c150699f8ddd",
   "metadata": {},
   "outputs": [],
   "source": [
    "z = lambda a: a*5"
   ]
  },
  {
   "cell_type": "code",
   "execution_count": 84,
   "id": "1d02fea0-e25d-46e2-b2f2-e049c9527eba",
   "metadata": {},
   "outputs": [
    {
     "name": "stdout",
     "output_type": "stream",
     "text": [
      "25\n"
     ]
    }
   ],
   "source": [
    "print(z(a=5))\n"
   ]
  },
  {
   "cell_type": "code",
   "execution_count": null,
   "id": "44d049d9-952e-4ac0-82dd-d4df3e260792",
   "metadata": {},
   "outputs": [],
   "source": []
  },
  {
   "cell_type": "code",
   "execution_count": null,
   "id": "7989e8f1-9dab-4a52-ac86-b8c4a33de6ae",
   "metadata": {},
   "outputs": [],
   "source": []
  }
 ],
 "metadata": {
  "kernelspec": {
   "display_name": "Python 3 (ipykernel)",
   "language": "python",
   "name": "python3"
  },
  "language_info": {
   "codemirror_mode": {
    "name": "ipython",
    "version": 3
   },
   "file_extension": ".py",
   "mimetype": "text/x-python",
   "name": "python",
   "nbconvert_exporter": "python",
   "pygments_lexer": "ipython3",
   "version": "3.12.7"
  }
 },
 "nbformat": 4,
 "nbformat_minor": 5
}
