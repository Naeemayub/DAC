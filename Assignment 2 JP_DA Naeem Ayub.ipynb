{
 "cells": [
  {
   "cell_type": "markdown",
   "id": "3b4ca2b5-c221-4ab8-b687-5d83df67a941",
   "metadata": {},
   "source": [
    "#### Question 1: Age Group Classification\n",
    "Write a Python program that takes the age of a person as input and classifies them into one of the\n",
    "following age groups:\n",
    "&quot;Child&quot; if the age is between 0 and 12 (inclusive).\n",
    "&quot;Teenager&quot; if the age is between 13 and 19 (inclusive).\n",
    "&quot;Adult&quot; if the age is between 20 and 64 (inclusive).\n",
    "&quot;Senior&quot; if the age is 65 or older."
   ]
  },
  {
   "cell_type": "code",
   "execution_count": 32,
   "id": "88585cc1-5635-44f4-bf66-0da48f77426c",
   "metadata": {},
   "outputs": [
    {
     "name": "stdin",
     "output_type": "stream",
     "text": [
      "Please entre age 5\n"
     ]
    },
    {
     "name": "stdout",
     "output_type": "stream",
     "text": [
      "Child\n"
     ]
    }
   ],
   "source": [
    "i = int(input(\"Please entre age\"))\n",
    "if i>=0 and i <=12:\n",
    "    print(\"Child\")\n",
    "elif i>=13 and i <=19:\n",
    "    print(\"Teenager\")\n",
    "elif i>=20 and i <=64:\n",
    "    print(\"Adult\")\n",
    "elif i>=65:\n",
    "    print(\"Senior\")\n",
    "else:\n",
    "    print(\"not positive integer\")"
   ]
  },
  {
   "cell_type": "markdown",
   "id": "f68fdb61-61a8-4045-b6d6-ccf9e4463366",
   "metadata": {},
   "source": [
    "#### Question 2: Checking for Eligibility for Discount\n",
    "Write a Python program that determines if a customer is eligible for a discount. The program should\n",
    "take the customer&#39;s membership status and purchase amount as input and check the following\n",
    "conditions:\n",
    "The customer is a &quot;premium&quot; member and the purchase amount is greater than or equal to 1000.\n",
    "The customer is a &quot;regular&quot; member and the purchase amount is greater than or equal to 2000.\n",
    "If the customer meets either of the above conditions, print &quot;Eligible for discount&quot;, otherwise print\n",
    "&quot;Not eligible for discount&quot;."
   ]
  },
  {
   "cell_type": "code",
   "execution_count": 38,
   "id": "6c8dabc4-9367-4c88-b431-06b6350f9290",
   "metadata": {},
   "outputs": [
    {
     "name": "stdin",
     "output_type": "stream",
     "text": [
      "please enter your membership category regular\n",
      "plese enter purchase amount 1999\n"
     ]
    },
    {
     "name": "stdout",
     "output_type": "stream",
     "text": [
      "you are not eligible for discount\n"
     ]
    }
   ],
   "source": [
    "customer_status = input(\"please enter your membership category\")\n",
    "purchase_amount = int(input(\"plese enter purchase amount\"))\n",
    "if customer_status == \"premium\" and purchase_amount >= 1000 or customer_status == \"regular\" and purchase_amount >=2000:\n",
    "    print(\"You are eligible for discount\")\n",
    "else:\n",
    "    print(\"you are not eligible for discount\")\n",
    "\n",
    "\n"
   ]
  },
  {
   "cell_type": "markdown",
   "id": "5985d36f-2023-466d-994c-e452ed2e279f",
   "metadata": {},
   "source": [
    "#### Question 3: Voting Eligibility Check\n",
    "Write a Python program that checks if a person is eligible to vote based on their age and citizenship\n",
    "status. The program should take the following inputs:\n",
    "Age (an integer).\n",
    "Citizenship status (a string: either &quot;citizen&quot; or &quot;non-citizen&quot;).\n",
    "\n",
    "The eligibility conditions are:\n",
    "The person must be at least 18 years old and a &quot;citizen&quot; to be eligible to vote.\n",
    "Alternatively, the person can be at least 16 years old and a &quot;citizen&quot; of a special region where voting is\n",
    "allowed from age 16.\n",
    "\n",
    "If the person meets either of the conditions, print &quot;Eligible to vote&quot;, otherwise print &quot;Not eligible to\n",
    "vote&quot;."
   ]
  },
  {
   "cell_type": "code",
   "execution_count": 42,
   "id": "0f71ee28-35ae-4fff-bc85-1c580eba08eb",
   "metadata": {},
   "outputs": [
    {
     "name": "stdin",
     "output_type": "stream",
     "text": [
      "please enter your age 15\n",
      "please select if you are \"citizen or \"non-citizen\" non citizen\n"
     ]
    },
    {
     "name": "stdout",
     "output_type": "stream",
     "text": [
      "Not Eligible to vote\n"
     ]
    }
   ],
   "source": [
    "age = int(input(\"please enter your age\"))\n",
    "citizenship_status = input('please select if you are \"citizen or \"non-citizen\"')\n",
    "\n",
    "if age >=16 and citizenship_status == \"citizen\":\n",
    "    print( \"Eligible to vote\")\n",
    "else:\n",
    "    print( \"Not Eligible to vote\")\n",
    "\n",
    "          "
   ]
  },
  {
   "cell_type": "markdown",
   "id": "e60f44b8-a11e-4201-be31-6ab8721caea6",
   "metadata": {},
   "source": [
    "#### Question 4: Employee Salary Bonus Eligibility\n",
    "Write a Python program that determines if an employee is eligible for a salary bonus based on the\n",
    "following conditions:\n",
    "The employee&#39;s performance rating is &quot;Excellent&quot; and their years of service are greater than or equal\n",
    "to 5 years.\n",
    "The employee&#39;s performance rating is &quot;Good&quot; and their years of service are greater than or equal to\n",
    "10 years.\n",
    "The employee&#39;s performance rating is &quot;Satisfactory&quot; or their years of service are greater than or\n",
    "equal to 15 years.\n",
    "The employee is not eligible for a bonus if neither of these conditions is met.\n",
    "The program should print one of the following:\n",
    "&quot;Eligible for bonus&quot; if the employee meets any of the criteria.\n",
    "&quot;Not eligible for bonus&quot; if none of the conditions apply."
   ]
  },
  {
   "cell_type": "code",
   "execution_count": 48,
   "id": "e036080a-8c84-4ab9-8203-f7ebdd68d35f",
   "metadata": {},
   "outputs": [
    {
     "name": "stdin",
     "output_type": "stream",
     "text": [
      "please choose performance 'Excellent' , 'Good' , 'Satisfactory'  Good\n",
      "please enter years of service 15\n"
     ]
    },
    {
     "name": "stdout",
     "output_type": "stream",
     "text": [
      "Eligible for bonus\n"
     ]
    }
   ],
   "source": [
    "performance = input(\"please choose performance 'Excellent' , 'Good' , 'Satisfactory' \" )\n",
    "year_of_service = int(input(\"please enter years of service\"))\n",
    "\n",
    "if  performance == \"Excellent\" and year_of_service >=5:\n",
    "    print(\"Eligible for bonus\")\n",
    "elif  performance == \"Good\" and year_of_service >=10:\n",
    "    print(\"Eligible for bonus\")\n",
    "elif  performance == \"Satisfactory\" and year_of_service >=15:\n",
    "    print(\"Eligible for bonus\")\n",
    "else:\n",
    "    print(\"Not elegible for bonus\")\n",
    "\n",
    "                    "
   ]
  },
  {
   "cell_type": "markdown",
   "id": "96fd74a9-4246-4233-9aa5-277df56647a7",
   "metadata": {},
   "source": [
    "#### Question 5. Write a program that replaces spaces with underscores, counts how many underscores are\n",
    "there, and finds the position of the first underscore.\n",
    "Use text: I'm learning Python programming."
   ]
  },
  {
   "cell_type": "code",
   "execution_count": 79,
   "id": "4f4b2f4f-ced0-4e31-b4e0-f47be6c3c3d4",
   "metadata": {},
   "outputs": [
    {
     "name": "stdout",
     "output_type": "stream",
     "text": [
      "I'm_learning_python_programming\n",
      "first under score is at 3\n"
     ]
    }
   ],
   "source": [
    "phrase = \"I'm learning python programming\"\n",
    "len(phrase)\n",
    "new_str = \"\"\n",
    "\n",
    "for i in range(31):\n",
    "    if  phrase[i] == \" \":\n",
    "        new_str = new_str + '_' \n",
    "    else:\n",
    "        new_str = new_str + phrase[i]\n",
    "print(new_str)\n",
    "for i in range(31):\n",
    "    if new_str[i] == '_':\n",
    "        print(\"first under score is at\", i) \n",
    "        break\n",
    "\n",
    "\n",
    "        "
   ]
  },
  {
   "cell_type": "markdown",
   "id": "2ea1c41d-0811-4883-ba23-7b66faaaf0a4",
   "metadata": {},
   "source": [
    "#### Question 6:\n",
    "Write a Python program that:\n",
    " Takes a string as input.\n",
    " Prints all characters of the string except the last 3 using slicing.\n",
    " Prints every second character of the string using slicing.\n",
    " Prints the string in reverse using slicing\n"
   ]
  },
  {
   "cell_type": "code",
   "execution_count": 139,
   "id": "7da6a885-3cab-4ee2-a936-f821dbc170d9",
   "metadata": {},
   "outputs": [
    {
     "name": "stdin",
     "output_type": "stream",
     "text": [
      "please entre any word or phrase naeem ayub\n"
     ]
    },
    {
     "name": "stdout",
     "output_type": "stream",
     "text": [
      "naeem a\n",
      "nemau\n",
      "buya meean\n"
     ]
    }
   ],
   "source": [
    "str1 = input('please entre any word or phrase')\n",
    "print(str1[:-3])\n",
    "print(str1[0: :2])\n",
    "print(str1[::-1])\n"
   ]
  },
  {
   "cell_type": "markdown",
   "id": "9de0c72a-23ac-4118-a91f-67207eae1f2a",
   "metadata": {},
   "source": [
    "#### Question 7. Given a sentence, you need to reverse the order of the words in the sentence while\n",
    "preserving their original capitalization and spaces.\n",
    "Use text : Hello World, We are learning Python;"
   ]
  },
  {
   "cell_type": "code",
   "execution_count": 142,
   "id": "0ba999b9-93d9-4d94-bae0-b6dcbeca4e4a",
   "metadata": {},
   "outputs": [
    {
     "name": "stdout",
     "output_type": "stream",
     "text": [
      "nohtyP gninrael era eW ,dlroW olleH\n"
     ]
    }
   ],
   "source": [
    "str2 = 'Hello World, We are learning Python'\n",
    "print(str2[::-1])"
   ]
  },
  {
   "cell_type": "markdown",
   "id": "5ba39302-18ec-43f0-8706-7cde74b135eb",
   "metadata": {},
   "source": [
    "#### Question 8. You have a product code that follows the format &quot;SKU-12345-XYZ&quot;. You need to:\n",
    "Remove the &quot;SKU-&quot; and the &quot;-XYZ&quot; from the product code. Extract and return the number"
   ]
  },
  {
   "cell_type": "markdown",
   "id": "ba9e01d8-7fd6-48ba-ba5b-ec63dd1df26e",
   "metadata": {},
   "source": [
    "#### Question 8. You have a product code that follows the format &quot;SKU-12345-XYZ&quot;. You need to:\n",
    "Remove the &quot;SKU-&quot; and the &quot;-XYZ&quot; from the product code. Extract and return the number\n"
   ]
  },
  {
   "cell_type": "code",
   "execution_count": 153,
   "id": "5219222a-317c-4193-ab12-e50366bc344a",
   "metadata": {},
   "outputs": [
    {
     "name": "stdin",
     "output_type": "stream",
     "text": [
      "please enter SKU in formate 'XXX-12345-xxx' sss-23534-fdf\n"
     ]
    },
    {
     "name": "stdout",
     "output_type": "stream",
     "text": [
      "23534\n"
     ]
    }
   ],
   "source": [
    "sku = input(\"please enter SKU in formate 'XXX-12345-xxx'\")\n",
    "\n",
    "print(sku[4:-4])"
   ]
  },
  {
   "cell_type": "markdown",
   "id": "a107af32-b9e1-4a8d-ab2a-befbcc969edd",
   "metadata": {},
   "source": [
    "#### Question 9. Write a Python program to check user password has following:\n",
    "Whether the string contains any uppercase characters. Whether the string contains any lowercase\n",
    "characters. Whether the string contains any spaces. Whether the string contains any special\n",
    "characters (anything other than letters, digits, and spaces).\n"
   ]
  },
  {
   "cell_type": "code",
   "execution_count": 281,
   "id": "6f9ca373-a5bb-49c9-ba4c-6ba21a2f3b32",
   "metadata": {},
   "outputs": [
    {
     "name": "stdin",
     "output_type": "stream",
     "text": [
      "please enter a valid password G my Dear\n"
     ]
    },
    {
     "name": "stdout",
     "output_type": "stream",
     "text": [
      "2 2 5\n"
     ]
    }
   ],
   "source": [
    "pwd = input(\"please enter a valid password\")\n",
    "space = 0\n",
    "u_case = 0\n",
    "l_case = 0\n",
    "s_ch  = 0\n",
    "for i in range(len(pwd)):\n",
    "    if pwd[i] == ' ':\n",
    "        space = space+1\n",
    "    if pwd[i].isupper() == True:\n",
    "        u_case = u_case+1\n",
    "    if pwd[i].islower() == True:\n",
    "        l_case=l_case+1\n",
    "    \n",
    "print(space, u_case, l_case)     \n",
    "    "
   ]
  },
  {
   "cell_type": "markdown",
   "id": "0753f7b7-227d-4049-a722-442bf2a1b6ea",
   "metadata": {},
   "source": [
    "#### Question 10: Find the Longest Word\n",
    "Write a Python program that finds the longest word in a given string.\n",
    "Example:\n",
    "Input: &quot;I love programming in Python&quot;\n",
    "Output: &quot;programming&quot;\n"
   ]
  },
  {
   "cell_type": "code",
   "execution_count": 234,
   "id": "775cc880-6916-45d5-ab25-fe921905abf5",
   "metadata": {},
   "outputs": [
    {
     "name": "stdin",
     "output_type": "stream",
     "text": [
      "enter a phrase, program will tell longest word in your phrase  meri jan pakistsan zinda baad\n"
     ]
    },
    {
     "name": "stdout",
     "output_type": "stream",
     "text": [
      "length of the longest word: 9\n",
      "longest word:  pakistsan\n"
     ]
    }
   ],
   "source": [
    "p1 = input(\"enter a phrase, program will tell longest word in your phrase \")\n",
    "p1 = p1 + ' '\n",
    "c = 0\n",
    "w = ''\n",
    "last_word = ''\n",
    "last_word_length = 0\n",
    "\n",
    "for i in range(len(p1)):\n",
    "    if p1[i] != ' ':\n",
    "        w = w + p1[i]\n",
    "        c+=1\n",
    "    else:\n",
    "        if last_word_length < c:\n",
    "            last_word_length = c\n",
    "            last_word = w\n",
    "            c= 0\n",
    "            w=''\n",
    "        else: \n",
    "            c = 0\n",
    "            w =''\n",
    "print(\"length of the longest word:\", last_word_length)\n",
    "print(\"longest word: \",last_word)"
   ]
  },
  {
   "cell_type": "code",
   "execution_count": null,
   "id": "f463309f-abee-47c0-9ff6-1deab26382e1",
   "metadata": {},
   "outputs": [],
   "source": []
  }
 ],
 "metadata": {
  "kernelspec": {
   "display_name": "Python 3 (ipykernel)",
   "language": "python",
   "name": "python3"
  },
  "language_info": {
   "codemirror_mode": {
    "name": "ipython",
    "version": 3
   },
   "file_extension": ".py",
   "mimetype": "text/x-python",
   "name": "python",
   "nbconvert_exporter": "python",
   "pygments_lexer": "ipython3",
   "version": "3.12.7"
  }
 },
 "nbformat": 4,
 "nbformat_minor": 5
}
