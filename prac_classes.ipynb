{
 "cells": [
  {
   "cell_type": "code",
   "execution_count": 31,
   "id": "d4325820-2ec4-4fed-99e8-57b2a73d6370",
   "metadata": {},
   "outputs": [],
   "source": [
    "class Employee:\n",
    "    def __init__(self, name, gender,salary):\n",
    "        self.name = name\n",
    "        self.gender = gender\n",
    "        self.salary = salary\n",
    "    def work(self):\n",
    "        print(f'{self.name} is working')\n",
    "    def details(self):\n",
    "        print(f'{self.name} is {self.gender} and their salary is {self.salary}')\n",
    "class Manager(Employee):\n",
    "    def __init__(self, name, gender,salary, title):\n",
    "        super().__init__(name,gender,salary)\n",
    "        self.title = title\n",
    " \n",
    "        \n",
    "        \n",
    "        \n"
   ]
  },
  {
   "cell_type": "code",
   "execution_count": 32,
   "id": "705178db-6697-4649-ba75-3ceeff6b1615",
   "metadata": {},
   "outputs": [],
   "source": [
    "naeem = Employee"
   ]
  },
  {
   "cell_type": "code",
   "execution_count": 33,
   "id": "d2befe33-0ea0-428e-8957-70c5d4bba6f9",
   "metadata": {},
   "outputs": [],
   "source": [
    "naeem = Employee('naeem', 'M', 500)"
   ]
  },
  {
   "cell_type": "code",
   "execution_count": 34,
   "id": "a6904fb6-f23e-4967-ae9e-8b837d937987",
   "metadata": {},
   "outputs": [],
   "source": [
    "ayub = Employee('ayub', 'M', 1000)"
   ]
  },
  {
   "cell_type": "code",
   "execution_count": 35,
   "id": "b219ec4a-7e47-4fb5-8d82-b79908f79a7e",
   "metadata": {},
   "outputs": [
    {
     "name": "stdout",
     "output_type": "stream",
     "text": [
      "ayub is M and their salary is 1000\n"
     ]
    }
   ],
   "source": [
    "ayub.details()"
   ]
  },
  {
   "cell_type": "code",
   "execution_count": 36,
   "id": "cc5cd298-fafb-4174-9c1b-6a676cd0fe51",
   "metadata": {},
   "outputs": [
    {
     "name": "stdout",
     "output_type": "stream",
     "text": [
      "naeem is M and their salary is 500\n"
     ]
    }
   ],
   "source": [
    "naeem.details()"
   ]
  },
  {
   "cell_type": "code",
   "execution_count": 37,
   "id": "f07ac2b8-9391-4c8e-8d85-f69eb377402d",
   "metadata": {},
   "outputs": [
    {
     "name": "stdout",
     "output_type": "stream",
     "text": [
      "naeem is working\n"
     ]
    }
   ],
   "source": [
    "naeem.work()"
   ]
  },
  {
   "cell_type": "code",
   "execution_count": 38,
   "id": "71bce166-d13a-444f-b6c4-e64de170df07",
   "metadata": {},
   "outputs": [],
   "source": [
    "naeemayub = Manager('naeemayub','M', 5000, 'Manager')"
   ]
  },
  {
   "cell_type": "code",
   "execution_count": 39,
   "id": "60b5597c-c315-4518-ad7c-3e26355952b5",
   "metadata": {},
   "outputs": [
    {
     "name": "stdout",
     "output_type": "stream",
     "text": [
      "naeemayub is M and their salary is 5000\n"
     ]
    }
   ],
   "source": [
    "naeemayub.details()"
   ]
  },
  {
   "cell_type": "code",
   "execution_count": 40,
   "id": "67921295-a0f9-4cd8-9b2f-3a24134a0709",
   "metadata": {},
   "outputs": [
    {
     "data": {
      "text/plain": [
       "'Manager'"
      ]
     },
     "execution_count": 40,
     "metadata": {},
     "output_type": "execute_result"
    }
   ],
   "source": [
    "naeemayub.title"
   ]
  },
  {
   "cell_type": "code",
   "execution_count": 41,
   "id": "f86e49c5-a012-46c2-a38c-d03a00081ca7",
   "metadata": {},
   "outputs": [
    {
     "ename": "AttributeError",
     "evalue": "'Employee' object has no attribute 'title'",
     "output_type": "error",
     "traceback": [
      "\u001b[1;31m---------------------------------------------------------------------------\u001b[0m",
      "\u001b[1;31mAttributeError\u001b[0m                            Traceback (most recent call last)",
      "Cell \u001b[1;32mIn[41], line 1\u001b[0m\n\u001b[1;32m----> 1\u001b[0m naeem\u001b[38;5;241m.\u001b[39mtitle\n",
      "\u001b[1;31mAttributeError\u001b[0m: 'Employee' object has no attribute 'title'"
     ]
    }
   ],
   "source": [
    "naeem.title"
   ]
  },
  {
   "cell_type": "code",
   "execution_count": null,
   "id": "8581224e-6a53-4e06-b452-048cc2b2085d",
   "metadata": {},
   "outputs": [],
   "source": []
  }
 ],
 "metadata": {
  "kernelspec": {
   "display_name": "Python 3 (ipykernel)",
   "language": "python",
   "name": "python3"
  },
  "language_info": {
   "codemirror_mode": {
    "name": "ipython",
    "version": 3
   },
   "file_extension": ".py",
   "mimetype": "text/x-python",
   "name": "python",
   "nbconvert_exporter": "python",
   "pygments_lexer": "ipython3",
   "version": "3.12.7"
  }
 },
 "nbformat": 4,
 "nbformat_minor": 5
}
