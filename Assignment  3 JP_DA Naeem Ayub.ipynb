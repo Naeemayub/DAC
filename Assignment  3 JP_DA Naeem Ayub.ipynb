{
 "cells": [
  {
   "cell_type": "markdown",
   "id": "f6213ff9-ad36-4cf3-9909-61a3cfdcbcc3",
   "metadata": {},
   "source": [
    "#### Q1. Write program to check a person’s eligibility for a loan based on age, credit score, and income. This time, the\n",
    "eligibility criteria will be:\n",
    "\n",
    "The person must be 18 years or older. The person must have a credit score of 650 or higher. The person must have\n",
    "an annual income of at least 30000 dollars If the person has a credit score of 700 or higher, they may still be eligible\n",
    "with an income of 25000 dollars or more."
   ]
  },
  {
   "cell_type": "code",
   "execution_count": 22,
   "id": "b75499c1-16e8-4a7b-8faa-17596c194181",
   "metadata": {},
   "outputs": [
    {
     "name": "stdin",
     "output_type": "stream",
     "text": [
      "please enter your age 18\n",
      "Please enter your credit score 651\n",
      "olease enter your annual income 310000\n"
     ]
    },
    {
     "name": "stdout",
     "output_type": "stream",
     "text": [
      "Congrat, you are eligible for loan\n"
     ]
    }
   ],
   "source": [
    "###### print( \":please fill in below info to assess your eligibility for loand\")\n",
    "age = int(input(\"please enter your age\"))\n",
    "credit_score = int(input(\"Please enter your credit score\"))\n",
    "income = int(input(\"olease enter your annual income\"))\n",
    "if age >= 18 and credit_score >=650:\n",
    "    if  income >=30000:\n",
    "        print( \"Congrat, you are eligible for loan\")\n",
    "    elif credit_score >=700 and income >=25000:\n",
    "        print(\" Although your annual income is low but you are still eligible\")\n",
    "    else:\n",
    "        print(\" Sorry you do not qualify for loadn due to low annual income\")\n",
    "        \n",
    "else:\n",
    "    print(\"Sorry, You are not eligible due to age factor\")\n"
   ]
  },
  {
   "cell_type": "markdown",
   "id": "e7e33628-fa5f-476d-8804-8f5894430322",
   "metadata": {},
   "source": [
    "#### Q2. Write a Python program that checks if a person is an adult (age ≥ 18).\n",
    "\n",
    "Take the age as input.\n",
    "If the person is underage (age &lt; 18), show message: &quot;You are underage&quot; and don&#39;t ask for experience.\n",
    "\n",
    "If the person is an adult, take years of experience as input and print:\n",
    "&quot;You have a lot of experience.&quot; (10+ years)\n",
    "&quot;You have moderate experience.&quot; (5-9 years)\n",
    "&quot;You are relatively new.&quot; (2-4 years)\n",
    "&quot;You are just starting out.&quot; (less than 2 years)"
   ]
  },
  {
   "cell_type": "code",
   "execution_count": 43,
   "id": "a0f0ff63-b619-450c-90b5-73a585cb4c1f",
   "metadata": {},
   "outputs": [
    {
     "name": "stdin",
     "output_type": "stream",
     "text": [
      "please enter your age 18\n",
      "Enter years of experience 2\n"
     ]
    },
    {
     "name": "stdout",
     "output_type": "stream",
     "text": [
      " You are relatively new\n"
     ]
    }
   ],
   "source": [
    "age = int(input(\"please enter your age\"))\n",
    "\n",
    "\n",
    "if age <18:\n",
    "    print(\"You are under age\")\n",
    "else:\n",
    "    years_of_exp = int(input(\"Enter years of experience\"))\n",
    "    if years_of_exp >= 10:\n",
    "        print(\"You have alot of expereince\")\n",
    "    elif years_of_exp >=5 and years_of_exp <=9:\n",
    "        print( \"you have moderate Expereince\")\n",
    "    elif years_of_exp >=2 and years_of_exp <=4:\n",
    "        print(\" You are relatively new\")\n",
    "    else:\n",
    "        print(\"you are Just starting\")\n"
   ]
  },
  {
   "cell_type": "markdown",
   "id": "e57d2636-066e-4596-96c6-9770d2345646",
   "metadata": {},
   "source": [
    "#### Q3. Write a program to explore below variables\n",
    "\n",
    "a) Print their memory address (to check if python assigns same address of different variables having same element)\n",
    "b) Find memory size and append them in a list, use this list to find data type having least memory size\n",
    "c) Print final name of data type which has lowest memory\n",
    "Result will help a programmer to decide which variable is storing less memory and variable locations"
   ]
  },
  {
   "cell_type": "code",
   "execution_count": 80,
   "id": "3b9284f2-fc2e-4116-b46d-f4f814221fb0",
   "metadata": {},
   "outputs": [
    {
     "name": "stdout",
     "output_type": "stream",
     "text": [
      "A: num1 and num2 have same value but difference memory address 2099790976048 2099790974800\n",
      "B: [28, 28, 24, 67, 88, 72]\n",
      "Least memory consumed by variable is:  24 byte\n",
      "C: Float consumes least memory, which is:  24 bytes\n"
     ]
    }
   ],
   "source": [
    "import sys\n",
    "num1 = 258\n",
    "num2 = 258\n",
    "flt = 9.5\n",
    "s = \"Python programing language\"\n",
    "l1 = [15,20,30,40]\n",
    "t1 = (20,30,40,50)\n",
    "result = []\n",
    "\n",
    "print(\"A: num1 and num2 have same value but difference memory address\", id(num1), id(numb2))\n",
    "result.append(sys.getsizeof(num1))\n",
    "result.append(sys.getsizeof(num2))\n",
    "result.append(sys.getsizeof(flt))\n",
    "result.append(sys.getsizeof(s))\n",
    "result.append(sys.getsizeof(l1))\n",
    "result.append(sys.getsizeof(t1))\n",
    "print(\"B:\", result)\n",
    "result.sort()\n",
    "print(\"Least memory consumed by variable is: \", result[0], \"byte\")\n",
    "if sys.getsizeof(num1) == result[0]:\n",
    "    print(\"C: int consumes least memory, which is: \", result[0], \"bytes\")\n",
    "elif sys.getsizeof(flt) == result[0]:\n",
    "    print(\"C: Float consumes least memory, which is: \", result[0], \"bytes\")\n",
    "elif sys.getsizeof(s) == result[0]:\n",
    "    print(\"C: String takes least memory, which is: \", result[0], \"bytes\")\n",
    "elif sys.getsizeof(l1) == result[0]:\n",
    "    print(\"C: List takes least memory, which is: \", result[0], \"bytes\")\n",
    "elif sys.getsizeof(t1) == result[0]:\n",
    "    print(\"C: list takes least memory, which is: \", result[0], \"bytes\")\n",
    "    \n"
   ]
  },
  {
   "cell_type": "markdown",
   "id": "80cfac8c-01f5-49ca-83c0-52e8cd87b92e",
   "metadata": {},
   "source": [
    "#### Q4. Write a Python program that asks the user to enter an email address. The program should check if the email\n",
    "contains the characters @ and &quot;.&quot; (ignoring case). If either character is present, print &quot;Email format is valid.&quot;\n",
    "Otherwise, print &quot;Invalid email format.&quot;"
   ]
  },
  {
   "cell_type": "code",
   "execution_count": 89,
   "id": "5a249efa-c568-420a-8131-4e6fb197dd1c",
   "metadata": {},
   "outputs": [
    {
     "name": "stdin",
     "output_type": "stream",
     "text": [
      "Please enter your email adress G@\n"
     ]
    },
    {
     "name": "stdout",
     "output_type": "stream",
     "text": [
      "email address is valid\n"
     ]
    }
   ],
   "source": [
    "i = input(\"Please enter your email adress\")\n",
    "if '@' in i or '.' in i:\n",
    "    print(\"email address is valid\")\n",
    "else:\n",
    "    print(\"email adddress is not valid\")"
   ]
  },
  {
   "cell_type": "markdown",
   "id": "498b654b-de3a-4e24-a053-102a58c4c20a",
   "metadata": {},
   "source": [
    "#### Q5. Write a python program to know data type of each element stored in a tuple, append the data types in a list.\n",
    "Show final output in a list as data types of tuple elements\n",
    "x = (11,22.333,&#39;apple&#39;,[1,2,3],(&#39;a&#39;,&#39;b&#39;))"
   ]
  },
  {
   "cell_type": "code",
   "execution_count": 95,
   "id": "f94fd802-9980-4ce9-a391-55fd8a10b2bb",
   "metadata": {},
   "outputs": [
    {
     "name": "stdout",
     "output_type": "stream",
     "text": [
      "[<class 'int'>, <class 'float'>, <class 'str'>, <class 'list'>, <class 'tuple'>]\n"
     ]
    }
   ],
   "source": [
    "x = (11,22.333,'apple',[1,2,3],('a','b'))\n",
    "import sys\n",
    "new_list = []\n",
    "new_list.append(type(x[0]))\n",
    "new_list.append(type(x[1]))\n",
    "new_list.append(type(x[2]))\n",
    "new_list.append(type(x[3]))\n",
    "new_list.append(type(x[4]))\n",
    "print(new_list)"
   ]
  },
  {
   "cell_type": "markdown",
   "id": "25b92528-7362-496a-ae56-b62d3560f57e",
   "metadata": {},
   "source": [
    "#### Q6. Write a Python program that:\n",
    "Checks if a given username exists in a list of active users.\n",
    "Verifies if the user is the admin using identity operators.\n",
    "Hints:\n",
    "Use a list of tuples where each tuple contains a username and role\n",
    "[(&quot;alice&quot;, &quot;admin&quot;),\n",
    "(&quot;bob&quot;, &quot;user&quot;),\n",
    "(&quot;charlie&quot;, &quot;moderator&quot;)]\n",
    "Use the in operator to check if the username exists in the list.\n",
    "Use the is operator to check if the user is the admin (admin is a specific reference, e.g., (&quot;alice&quot;, &quot;admin&quot;))."
   ]
  },
  {
   "cell_type": "code",
   "execution_count": 212,
   "id": "15ce8b81-e8b7-4ddb-aa6d-a09ab487919c",
   "metadata": {},
   "outputs": [
    {
     "name": "stdin",
     "output_type": "stream",
     "text": [
      "Please enter the user name bob\n"
     ]
    },
    {
     "name": "stdout",
     "output_type": "stream",
     "text": [
      "bob is Not admin , actually he is : user\n",
      "None\n"
     ]
    }
   ],
   "source": [
    "users = [(\"alice\", \"admin\"), (\"bob\", \"user\"), (\"charlie\", \"moderator\")]\n",
    "check_user = input(\"Please enter the user name\")\n",
    "\n",
    "if check_user in users[0]:\n",
    "    if users[0][1] == \"admin\":\n",
    "        print(users[0][0], \"is admin\")\n",
    "    else:\n",
    "        print(print(users[0][0], \"is Not admin , actually he is :\", users[0][1]))\n",
    "elif check_user in users[1]:\n",
    "    if users[1][1] == 'admin':\n",
    "        print(users[1][0], \"is admin\")\n",
    "    else:\n",
    "        print(print(users[1][0], \"is Not admin , actually he is :\", users[1][1]))\n",
    "elif check_user in users[2]:\n",
    "    if users[2][1] == 'admin':\n",
    "        print(users[2][0], \"is admin\")\n",
    "    else: \n",
    "        print(print(users[2][0], \"is Not admin, actually he is :\", users[2][1]))\n",
    "else:\n",
    "    print(\"user is not active\")"
   ]
  },
  {
   "cell_type": "markdown",
   "id": "103ab985-ab80-401d-9eb0-ca22e3a7676c",
   "metadata": {},
   "source": [
    "#### Q7. person1 has same family as of person2, write a program to print relation between person1 and person2, if their\n",
    "data is [&#39;father name&#39;,&#39;mother name&#39;,&#39;district&#39;,&#39;family number&#39;] same (Print relation &#39;Siblings&#39;) also check person1\n",
    "data with person3 which is cousin of person1 (Print relation &#39;Cousin&#39;)\n",
    "                                              "
   ]
  },
  {
   "cell_type": "code",
   "execution_count": 218,
   "id": "682d7cf4-867d-43c0-95a3-8a9727c528e1",
   "metadata": {},
   "outputs": [
    {
     "name": "stdin",
     "output_type": "stream",
     "text": [
      "enter your father name naeem\n",
      "enter your mother name ayub\n",
      "enter your district a\n",
      "inter your family number a\n"
     ]
    },
    {
     "name": "stdout",
     "output_type": "stream",
     "text": [
      "P1 and P2 are siblings\n"
     ]
    }
   ],
   "source": [
    "p1_fname = input(\"enter your father name\")\n",
    "p1_mname = input(\"enter your mother name\")\n",
    "p1_d = input(\"enter your district\")\n",
    "p1_fnum = input(\"enter your family number\")\n",
    "p1 = [p1_fname, p1_mname, p1_d, p1_fnum]\n",
    "\n",
    "p2 = p1\n",
    "\n",
    "if id(p2)==id(p1):\n",
    "    print(\"P1 and P2 are siblings\")\n",
    "else:\n",
    "    print(\"p1 and P2 are not siblings\")\n",
    "\n",
    "# p3_fname = input(\"enter your father name\")\n",
    "# p3_mname = input(\"enter your mother name\")\n",
    "# p3_d = input(\"enter your district\")\n",
    "# p3_fnum = input(\"enter your family number\")\n",
    "\n"
   ]
  },
  {
   "cell_type": "markdown",
   "id": "0c3752c3-3bef-4250-9438-bda10ecf35f1",
   "metadata": {},
   "source": [
    "#### Q8. Write a Python program to store and display a book&#39;s title, author, year of publication, and price using a tuple.\n",
    "\n",
    "Instructions:\n",
    "Create a tuple to store the book details.\n",
    "Ask the user for the book&#39;s title, author, year, and price.\n",
    "Display the stored book information."
   ]
  },
  {
   "cell_type": "code",
   "execution_count": 223,
   "id": "1c9abc55-1215-4f0e-8760-7592cf4c8092",
   "metadata": {},
   "outputs": [
    {
     "name": "stdin",
     "output_type": "stream",
     "text": [
      "Enter book title python Basics\n",
      "Enter name of Book's author xyz\n",
      "Enter published year 2010\n",
      "Enter Price 2000\n"
     ]
    },
    {
     "name": "stdout",
     "output_type": "stream",
     "text": [
      "This book is available ('python Basics', 'xyz', 2010, 2000)\n"
     ]
    }
   ],
   "source": [
    "book = (\"python Basics\", \"xyz\",2010, 2000)\n",
    "title = input(\"Enter book title\")\n",
    "author = input(\"Enter name of Book's author\")\n",
    "year = int(input(\"Enter published year\"))\n",
    "price = int(input( \"Enter Price\"))\n",
    "if title == book[0] and author == book[1] and year == book[2] and price == book[3]:\n",
    "    print(\"This book is available\", book)\n",
    "else:\n",
    "    print(\"sorry required book is not available\")\n"
   ]
  },
  {
   "cell_type": "markdown",
   "id": "e55d4373-69f0-4b60-967f-7527044a8071",
   "metadata": {},
   "source": [
    "#### Q9. Write a program to check if a user’s chosen subject is available in the list of offered subjects.\n",
    "Instructions:\n",
    "Given a list of subjects, ask the user to input a subject.\n",
    "Display whether the subject is available or not."
   ]
  },
  {
   "cell_type": "code",
   "execution_count": 226,
   "id": "86ec300b-b8dd-4dac-8ec5-91ce154aae16",
   "metadata": {},
   "outputs": [
    {
     "name": "stdin",
     "output_type": "stream",
     "text": [
      "please enter required subject english\n"
     ]
    },
    {
     "name": "stdout",
     "output_type": "stream",
     "text": [
      "Subject is being offered\n"
     ]
    }
   ],
   "source": [
    "subs = [\"math\", \"stat\", \"english\", \"computer\"]\n",
    "user_sub = input(\"please enter required subject\")\n",
    "\n",
    "if user_sub in subs:\n",
    "    print(\"Subject is being offered\")\n",
    "else:\n",
    "    print(\"Sorry, Subject is not available\")"
   ]
  },
  {
   "cell_type": "markdown",
   "id": "21eb4674-a1b9-4a6a-9473-89daf99bb204",
   "metadata": {},
   "source": [
    "#### Q10. Write a Python program that performs the following tasks using tuple methods\n",
    "Create a tuple with multiple integer values, including duplicates.\n",
    "Prompt the user to input a number and find the index of its first occurrence in the tuple.\n",
    "Ask the user for another number and count how many times it appears in the tuple.\n",
    "Display appropriate messages based on the results"
   ]
  },
  {
   "cell_type": "code",
   "execution_count": 239,
   "id": "5f6b2b90-3c91-4f34-a506-0a87ace24fe3",
   "metadata": {},
   "outputs": [
    {
     "name": "stdin",
     "output_type": "stream",
     "text": [
      "Enter the number you want to check 90\n"
     ]
    },
    {
     "name": "stdout",
     "output_type": "stream",
     "text": [
      "here is index of your value in tupple :  7\n"
     ]
    },
    {
     "name": "stdin",
     "output_type": "stream",
     "text": [
      "please enter another number to check 10\n"
     ]
    },
    {
     "name": "stdout",
     "output_type": "stream",
     "text": [
      "Your number is available in tupple :  2 times\n"
     ]
    }
   ],
   "source": [
    "tup = (10,20,10,30,50,20,60,90)\n",
    "q1 = int(input(\"Enter the number you want to check\"))\n",
    "if q1 in tup:\n",
    "    print(\"here is index of your value in tupple : \", tup.index(q1))\n",
    "else:\n",
    "    print(\" Your number in not present in tupple\")\n",
    "\n",
    "q2 = int(input(\"please enter another number to check\"))\n",
    "\n",
    "if q2 in tup:\n",
    "    print(\"Your number is available in tupple : \", tup.count(q2), \"times\")\n",
    "else:\n",
    "    print(\"number is not present in tupple\")        \n",
    "    "
   ]
  },
  {
   "cell_type": "markdown",
   "id": "c451ad9f-6b64-4ce5-9ad9-b23b18bbb2d7",
   "metadata": {},
   "source": [
    "#### Question for Hard working learners (Not Mandatory)\n",
    "Write a Python program that asks the user to enter the current temperature in Celsius and checks whether it&#39;s\n",
    "freezing, normal, or hot based on predefined temperature values.&quot;\n",
    "Assignment Requirements:\n",
    "Input: The user will be asked to enter the current temperature in Celsius.\n",
    "Predefined values:\n",
    "Freezing: -5\n",
    "Normal: 25\n",
    "Hot: 40"
   ]
  },
  {
   "cell_type": "code",
   "execution_count": 301,
   "id": "8594d062-3d40-4c7b-a042-34290fef2553",
   "metadata": {},
   "outputs": [
    {
     "name": "stdin",
     "output_type": "stream",
     "text": [
      "please enter the temperature -6\n"
     ]
    },
    {
     "name": "stdout",
     "output_type": "stream",
     "text": [
      "it is freezing\n"
     ]
    }
   ],
   "source": [
    "#using simple if/elif\n",
    "\n",
    "temp = int(input(\"please enter the temperature\"))\n",
    "if temp >= 40:\n",
    "    if temp>=55:\n",
    "        print(\"it is too hot\")\n",
    "    else:\n",
    "        print(\" its hot\")\n",
    "elif temp >=-4 and temp <=39:\n",
    "    print(\"it is normal\")\n",
    "elif temp <= -5:\n",
    "    if temp <=-40:\n",
    "        print(\"Run\")\n",
    "    else:\n",
    "        print(\"it is freezing\")\n",
    "        \n",
    "    "
   ]
  },
  {
   "cell_type": "code",
   "execution_count": 332,
   "id": "63cfbbd8-04d5-4759-ad71-91bedff3820f",
   "metadata": {},
   "outputs": [
    {
     "name": "stdin",
     "output_type": "stream",
     "text": [
      "please enter the temperature -50\n"
     ]
    },
    {
     "name": "stdout",
     "output_type": "stream",
     "text": [
      "Freezing\n"
     ]
    }
   ],
   "source": [
    "# Using Tupple:\n",
    "temp = int(input(\"please enter the temperature\"))\n",
    "pred_temp = ((40, \"Hot\"), (25, \"Normal\"), (-5, \"Freezing\"))\n",
    "\n",
    "if temp >= pred_temp[0][0]:\n",
    "    print(pred_temp[0][1])\n",
    "elif temp >= -4 and temp <=pred_temp[1][0]+14:\n",
    "    print(pred_temp[1][1])\n",
    "elif temp <=-5:\n",
    "    print(pred_temp[2][1])"
   ]
  },
  {
   "cell_type": "code",
   "execution_count": null,
   "id": "da65e4f8-fc5e-4892-9a5b-51bd4e18e285",
   "metadata": {},
   "outputs": [],
   "source": []
  }
 ],
 "metadata": {
  "kernelspec": {
   "display_name": "Python 3 (ipykernel)",
   "language": "python",
   "name": "python3"
  },
  "language_info": {
   "codemirror_mode": {
    "name": "ipython",
    "version": 3
   },
   "file_extension": ".py",
   "mimetype": "text/x-python",
   "name": "python",
   "nbconvert_exporter": "python",
   "pygments_lexer": "ipython3",
   "version": "3.12.7"
  }
 },
 "nbformat": 4,
 "nbformat_minor": 5
}
