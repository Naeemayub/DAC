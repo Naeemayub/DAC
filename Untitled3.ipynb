{
 "cells": [
  {
   "cell_type": "code",
   "execution_count": 169,
   "id": "32282c46-8ca2-42f4-9825-491202de01be",
   "metadata": {},
   "outputs": [],
   "source": [
    "class Insan:\n",
    "    def __init__(self, name,color,height, status='alive', profession='nil'):\n",
    "        self.name = name\n",
    "        self.color = color\n",
    "        self.height = height\n",
    "        self.__status = status\n",
    "        self.profession = profession\n",
    "    def kill_insan(self):\n",
    "        self.__status = \"died\"\n",
    "    def display_insan(self):\n",
    "        return print(self.name, self.color,self.height, self.profession,\":\" ,self.__status)\n",
    "        \n",
    "class Create_professional_insan(Insan):\n",
    "    def __init__(self, name, color, height, profession):\n",
    "        super().__init__(name,color,height)\n",
    "        self.profession = profession\n",
    "        return print(f\"{profession} {name} has been created\")\n",
    "        \n",
    "\n",
    "\n",
    "\n"
   ]
  },
  {
   "cell_type": "code",
   "execution_count": 170,
   "id": "1d159adb-de9b-469a-af19-c2986c0da274",
   "metadata": {},
   "outputs": [
    {
     "name": "stdout",
     "output_type": "stream",
     "text": [
      "Doctor abdullah has been created\n"
     ]
    }
   ],
   "source": [
    "abdullah = Create_professional_insan(\"abdullah\", 'brown', '20cm', \"Doctor\")"
   ]
  },
  {
   "cell_type": "code",
   "execution_count": 171,
   "id": "38a4112e-311a-4e94-96f6-935dc04d81e3",
   "metadata": {},
   "outputs": [
    {
     "name": "stdout",
     "output_type": "stream",
     "text": [
      "abdullah brown 20cm Doctor : alive\n"
     ]
    }
   ],
   "source": [
    "abdullah.display_insan()"
   ]
  },
  {
   "cell_type": "code",
   "execution_count": 172,
   "id": "98f25a6f-cbea-4976-b95a-41c24082ead3",
   "metadata": {},
   "outputs": [
    {
     "name": "stdout",
     "output_type": "stream",
     "text": [
      "engineer noor has been created\n"
     ]
    }
   ],
   "source": [
    "noor = Create_professional_insan(\"noor\",'brown','40cm','engineer')"
   ]
  },
  {
   "cell_type": "code",
   "execution_count": 173,
   "id": "346b656e-47a4-42ca-b8ff-30fd8214668f",
   "metadata": {},
   "outputs": [
    {
     "name": "stdout",
     "output_type": "stream",
     "text": [
      "noor brown 40cm engineer : alive\n"
     ]
    }
   ],
   "source": [
    "noor.display_insan()"
   ]
  },
  {
   "cell_type": "code",
   "execution_count": 174,
   "id": "978a7e04-0b34-4f91-81ee-89e87bcd2672",
   "metadata": {},
   "outputs": [],
   "source": [
    "noor.kill_insan()"
   ]
  },
  {
   "cell_type": "code",
   "execution_count": 175,
   "id": "39ca89c9-6423-482b-9000-7a310264eb20",
   "metadata": {},
   "outputs": [
    {
     "name": "stdout",
     "output_type": "stream",
     "text": [
      "noor brown 40cm engineer : died\n"
     ]
    }
   ],
   "source": [
    "noor.display_insan()"
   ]
  },
  {
   "cell_type": "code",
   "execution_count": 176,
   "id": "bf441691-ba39-454e-8f8d-59c874380a32",
   "metadata": {},
   "outputs": [],
   "source": [
    "bonga = Insan(\"bonga\",'white', '90cm')"
   ]
  },
  {
   "cell_type": "code",
   "execution_count": 177,
   "id": "e5cf61ff-9ade-40f3-92af-f14f4dfdb036",
   "metadata": {},
   "outputs": [
    {
     "name": "stdout",
     "output_type": "stream",
     "text": [
      "bonga white 90cm nil : alive\n"
     ]
    }
   ],
   "source": [
    "bonga.display_insan()"
   ]
  },
  {
   "cell_type": "code",
   "execution_count": 195,
   "id": "b1019897-466f-4b45-b0f0-6d762ef64c9f",
   "metadata": {},
   "outputs": [],
   "source": [
    "class Car:\n",
    "    def __init__(self, make,model):\n",
    "        self.make = make\n",
    "        self.model = model\n",
    "        \n",
    "new_car = Car"
   ]
  },
  {
   "cell_type": "code",
   "execution_count": 200,
   "id": "b5d58ebf-b37b-4f3b-bddd-7440fea116e7",
   "metadata": {},
   "outputs": [],
   "source": [
    "new_car =new_car('Toyota', 'yaris')"
   ]
  },
  {
   "cell_type": "code",
   "execution_count": 201,
   "id": "f9ae28e6-4cfd-40bc-a9c1-1cc06e95186f",
   "metadata": {},
   "outputs": [
    {
     "data": {
      "text/plain": [
       "'yaris'"
      ]
     },
     "execution_count": 201,
     "metadata": {},
     "output_type": "execute_result"
    }
   ],
   "source": [
    "new_car.model"
   ]
  },
  {
   "cell_type": "code",
   "execution_count": 202,
   "id": "268ad86f-18af-466d-82fd-041ded7187e0",
   "metadata": {},
   "outputs": [],
   "source": [
    "n2 = Car('suzuki','beleno')"
   ]
  },
  {
   "cell_type": "code",
   "execution_count": 203,
   "id": "cd162a31-4055-4e2a-a709-c4ef451a1476",
   "metadata": {},
   "outputs": [
    {
     "data": {
      "text/plain": [
       "'beleno'"
      ]
     },
     "execution_count": 203,
     "metadata": {},
     "output_type": "execute_result"
    }
   ],
   "source": [
    "n2.model"
   ]
  },
  {
   "cell_type": "code",
   "execution_count": 205,
   "id": "6b59752b-6b69-4889-ab31-27227065391f",
   "metadata": {},
   "outputs": [],
   "source": [
    "p = lambda x: x*10"
   ]
  },
  {
   "cell_type": "code",
   "execution_count": 206,
   "id": "db97b3e3-7519-4430-8d32-9dd037402d42",
   "metadata": {},
   "outputs": [
    {
     "data": {
      "text/plain": [
       "100"
      ]
     },
     "execution_count": 206,
     "metadata": {},
     "output_type": "execute_result"
    }
   ],
   "source": [
    "p(10)"
   ]
  },
  {
   "cell_type": "code",
   "execution_count": 207,
   "id": "4e2d334e-a53e-4c5a-aebf-a12742efe8e7",
   "metadata": {},
   "outputs": [
    {
     "name": "stdout",
     "output_type": "stream",
     "text": [
      "100\n"
     ]
    }
   ],
   "source": [
    "def calc(my_f, var):\n",
    "    print(my_f(var))\n",
    "calc(lambda x:x**2, 10)\n",
    "    "
   ]
  },
  {
   "cell_type": "code",
   "execution_count": 216,
   "id": "b217a8f2-9044-417e-9908-591abbd782c5",
   "metadata": {},
   "outputs": [],
   "source": [
    "# The if statement on the right is like a first filter. The if else on the left is applied on the filtered retults. \n",
    "\n",
    "my_list = [2,4,5,6,7,9,10,19,17,1,18,16]\n",
    "x = [x if x%2==0 else x+1 for x in my_list if x%2!=0]"
   ]
  },
  {
   "cell_type": "code",
   "execution_count": 217,
   "id": "699051c4-0e7a-4e17-9633-6124a8499e04",
   "metadata": {},
   "outputs": [
    {
     "data": {
      "text/plain": [
       "[6, 8, 10, 20, 18, 2]"
      ]
     },
     "execution_count": 217,
     "metadata": {},
     "output_type": "execute_result"
    }
   ],
   "source": [
    "x"
   ]
  },
  {
   "cell_type": "code",
   "execution_count": 268,
   "id": "df172ffc-bc4f-4fa9-b633-301da7b993c3",
   "metadata": {},
   "outputs": [],
   "source": [
    "class Atm:\n",
    "    def __init__(self, user,pwd, bal=0):\n",
    "        self.user = user\n",
    "        self.pwd = pwd\n",
    "        self.bal = bal\n",
    "    def deposit(self, user, pwd, amount):\n",
    "        self. amount = amount\n",
    "        if self.user == user and self.pwd == pwd:\n",
    "            self.bal += amount\n",
    "            print(f\"{amount} deposited into your account, new balance is {self.bal}\")\n",
    "        else:\n",
    "            print(\"wrong user/password\")\n",
    "    def withdraw(self,user,pwd,amount):\n",
    "        self.amount = amount\n",
    "        if self.user == user and self.pwd == pwd:\n",
    "            if self.bal >= amount:\n",
    "                self.bal -= amount \n",
    "                print(\"please take your cash\")\n",
    "            else:\n",
    "                print(\"insufficient bal\")\n",
    "        else:\n",
    "            print(\"wrong user/password\")\n",
    "    def check_bal(self, user,pwd):\n",
    "        if self.user== user and self.pwd == pwd:\n",
    "            print(\"your balance is :\", self.bal)\n",
    "        else:\n",
    "            print(\"wrong user/pwd\")\n",
    "        \n",
    "            \n",
    "\n",
    "naeem = Atm"
   ]
  },
  {
   "cell_type": "code",
   "execution_count": 269,
   "id": "d6b77544-e5d0-4a35-9ea3-624d233dba29",
   "metadata": {},
   "outputs": [],
   "source": [
    "naeem = Atm(\"naeem\", 9902)"
   ]
  },
  {
   "cell_type": "code",
   "execution_count": 270,
   "id": "914a1697-6b60-4ca4-a5a2-30d00c08caa5",
   "metadata": {},
   "outputs": [
    {
     "data": {
      "text/plain": [
       "'naeem'"
      ]
     },
     "execution_count": 270,
     "metadata": {},
     "output_type": "execute_result"
    }
   ],
   "source": [
    "naeem.user"
   ]
  },
  {
   "cell_type": "code",
   "execution_count": 271,
   "id": "8201a021-6d16-4ca0-9b87-b8c73397fb81",
   "metadata": {},
   "outputs": [
    {
     "data": {
      "text/plain": [
       "9902"
      ]
     },
     "execution_count": 271,
     "metadata": {},
     "output_type": "execute_result"
    }
   ],
   "source": [
    "naeem.pwd"
   ]
  },
  {
   "cell_type": "code",
   "execution_count": 272,
   "id": "da2467f6-125f-4b14-9635-f0bb43dc957f",
   "metadata": {},
   "outputs": [
    {
     "name": "stdout",
     "output_type": "stream",
     "text": [
      "10000 deposited into your account, new balance is 10000\n"
     ]
    }
   ],
   "source": [
    "naeem.deposit('naeem', 9902 , 10000)"
   ]
  },
  {
   "cell_type": "code",
   "execution_count": 273,
   "id": "8d78504c-f3d8-4d6e-a3f7-3a59946475b2",
   "metadata": {},
   "outputs": [
    {
     "data": {
      "text/plain": [
       "10000"
      ]
     },
     "execution_count": 273,
     "metadata": {},
     "output_type": "execute_result"
    }
   ],
   "source": [
    "naeem.bal"
   ]
  },
  {
   "cell_type": "code",
   "execution_count": 274,
   "id": "f7c70d28-865d-4fe4-add2-b01869e6e4fa",
   "metadata": {},
   "outputs": [
    {
     "name": "stdout",
     "output_type": "stream",
     "text": [
      "insufficient bal\n"
     ]
    }
   ],
   "source": [
    "naeem.withdraw('naeem', 9902, 12000)"
   ]
  },
  {
   "cell_type": "code",
   "execution_count": 275,
   "id": "76103246-dd71-495c-b30f-29a6b40da74e",
   "metadata": {},
   "outputs": [
    {
     "data": {
      "text/plain": [
       "10000"
      ]
     },
     "execution_count": 275,
     "metadata": {},
     "output_type": "execute_result"
    }
   ],
   "source": [
    "naeem.bal"
   ]
  },
  {
   "cell_type": "code",
   "execution_count": 276,
   "id": "df31e87e-e432-43a3-a262-ef29cd9c9578",
   "metadata": {},
   "outputs": [
    {
     "name": "stdout",
     "output_type": "stream",
     "text": [
      "5000 deposited into your account, new balance is 15000\n"
     ]
    }
   ],
   "source": [
    "naeem.deposit('naeem', 9902, 5000)"
   ]
  },
  {
   "cell_type": "code",
   "execution_count": 277,
   "id": "258301c5-96ee-48d2-a7eb-16029e452ad6",
   "metadata": {},
   "outputs": [
    {
     "name": "stdout",
     "output_type": "stream",
     "text": [
      "your balance is : 15000\n"
     ]
    }
   ],
   "source": [
    "naeem.check_bal('naeem',9902)"
   ]
  },
  {
   "cell_type": "code",
   "execution_count": null,
   "id": "f4db1c88-d6df-4328-ae91-414adfe940a2",
   "metadata": {},
   "outputs": [],
   "source": []
  }
 ],
 "metadata": {
  "kernelspec": {
   "display_name": "Python 3 (ipykernel)",
   "language": "python",
   "name": "python3"
  },
  "language_info": {
   "codemirror_mode": {
    "name": "ipython",
    "version": 3
   },
   "file_extension": ".py",
   "mimetype": "text/x-python",
   "name": "python",
   "nbconvert_exporter": "python",
   "pygments_lexer": "ipython3",
   "version": "3.12.7"
  }
 },
 "nbformat": 4,
 "nbformat_minor": 5
}
