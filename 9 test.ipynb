{
 "cells": [
  {
   "cell_type": "markdown",
   "id": "07875aa5-9106-4cd7-a020-50f0decf1287",
   "metadata": {
    "id": "07875aa5-9106-4cd7-a020-50f0decf1287"
   },
   "source": [
    "1. What is the average TotalPayBenefits for each JobTitle? exclude ('Not Provided', 'Not provided')"
   ]
  },
  {
   "cell_type": "code",
   "execution_count": 3,
   "id": "de9e1587-ce5a-43a2-b047-41d9de60f183",
   "metadata": {},
   "outputs": [],
   "source": [
    "import pandas as pd\n",
    "import sqlite3 as sql"
   ]
  },
  {
   "cell_type": "code",
   "execution_count": 4,
   "id": "e629985a-1d1b-40ac-a77e-dff45ca19a47",
   "metadata": {},
   "outputs": [],
   "source": [
    "conn = sql.connect('database.sqlite')"
   ]
  },
  {
   "cell_type": "code",
   "execution_count": 5,
   "id": "d28a8509-5688-4e8e-b70f-8575973a197e",
   "metadata": {},
   "outputs": [
    {
     "data": {
      "text/plain": [
       "<sqlite3.Connection at 0x1e5b7d04b80>"
      ]
     },
     "execution_count": 5,
     "metadata": {},
     "output_type": "execute_result"
    }
   ],
   "source": [
    "conn"
   ]
  },
  {
   "cell_type": "code",
   "execution_count": 6,
   "id": "0324c4b0-6da5-4263-ba15-ffe084387a76",
   "metadata": {},
   "outputs": [
    {
     "data": {
      "text/plain": [
       "['Binary',\n",
       " 'Blob',\n",
       " 'Connection',\n",
       " 'Cursor',\n",
       " 'DataError',\n",
       " 'DatabaseError',\n",
       " 'Date',\n",
       " 'DateFromTicks',\n",
       " 'Error',\n",
       " 'IntegrityError',\n",
       " 'InterfaceError',\n",
       " 'InternalError',\n",
       " 'LEGACY_TRANSACTION_CONTROL',\n",
       " 'NotSupportedError',\n",
       " 'OperationalError',\n",
       " 'PARSE_COLNAMES',\n",
       " 'PARSE_DECLTYPES',\n",
       " 'PrepareProtocol',\n",
       " 'ProgrammingError',\n",
       " 'Row',\n",
       " 'SQLITE_ABORT',\n",
       " 'SQLITE_ABORT_ROLLBACK',\n",
       " 'SQLITE_ALTER_TABLE',\n",
       " 'SQLITE_ANALYZE',\n",
       " 'SQLITE_ATTACH',\n",
       " 'SQLITE_AUTH',\n",
       " 'SQLITE_AUTH_USER',\n",
       " 'SQLITE_BUSY',\n",
       " 'SQLITE_BUSY_RECOVERY',\n",
       " 'SQLITE_BUSY_SNAPSHOT',\n",
       " 'SQLITE_BUSY_TIMEOUT',\n",
       " 'SQLITE_CANTOPEN',\n",
       " 'SQLITE_CANTOPEN_CONVPATH',\n",
       " 'SQLITE_CANTOPEN_DIRTYWAL',\n",
       " 'SQLITE_CANTOPEN_FULLPATH',\n",
       " 'SQLITE_CANTOPEN_ISDIR',\n",
       " 'SQLITE_CANTOPEN_NOTEMPDIR',\n",
       " 'SQLITE_CANTOPEN_SYMLINK',\n",
       " 'SQLITE_CONSTRAINT',\n",
       " 'SQLITE_CONSTRAINT_CHECK',\n",
       " 'SQLITE_CONSTRAINT_COMMITHOOK',\n",
       " 'SQLITE_CONSTRAINT_FOREIGNKEY',\n",
       " 'SQLITE_CONSTRAINT_FUNCTION',\n",
       " 'SQLITE_CONSTRAINT_NOTNULL',\n",
       " 'SQLITE_CONSTRAINT_PINNED',\n",
       " 'SQLITE_CONSTRAINT_PRIMARYKEY',\n",
       " 'SQLITE_CONSTRAINT_ROWID',\n",
       " 'SQLITE_CONSTRAINT_TRIGGER',\n",
       " 'SQLITE_CONSTRAINT_UNIQUE',\n",
       " 'SQLITE_CONSTRAINT_VTAB',\n",
       " 'SQLITE_CORRUPT',\n",
       " 'SQLITE_CORRUPT_INDEX',\n",
       " 'SQLITE_CORRUPT_SEQUENCE',\n",
       " 'SQLITE_CORRUPT_VTAB',\n",
       " 'SQLITE_CREATE_INDEX',\n",
       " 'SQLITE_CREATE_TABLE',\n",
       " 'SQLITE_CREATE_TEMP_INDEX',\n",
       " 'SQLITE_CREATE_TEMP_TABLE',\n",
       " 'SQLITE_CREATE_TEMP_TRIGGER',\n",
       " 'SQLITE_CREATE_TEMP_VIEW',\n",
       " 'SQLITE_CREATE_TRIGGER',\n",
       " 'SQLITE_CREATE_VIEW',\n",
       " 'SQLITE_CREATE_VTABLE',\n",
       " 'SQLITE_DBCONFIG_DEFENSIVE',\n",
       " 'SQLITE_DBCONFIG_DQS_DDL',\n",
       " 'SQLITE_DBCONFIG_DQS_DML',\n",
       " 'SQLITE_DBCONFIG_ENABLE_FKEY',\n",
       " 'SQLITE_DBCONFIG_ENABLE_FTS3_TOKENIZER',\n",
       " 'SQLITE_DBCONFIG_ENABLE_LOAD_EXTENSION',\n",
       " 'SQLITE_DBCONFIG_ENABLE_QPSG',\n",
       " 'SQLITE_DBCONFIG_ENABLE_TRIGGER',\n",
       " 'SQLITE_DBCONFIG_ENABLE_VIEW',\n",
       " 'SQLITE_DBCONFIG_LEGACY_ALTER_TABLE',\n",
       " 'SQLITE_DBCONFIG_LEGACY_FILE_FORMAT',\n",
       " 'SQLITE_DBCONFIG_NO_CKPT_ON_CLOSE',\n",
       " 'SQLITE_DBCONFIG_RESET_DATABASE',\n",
       " 'SQLITE_DBCONFIG_TRIGGER_EQP',\n",
       " 'SQLITE_DBCONFIG_TRUSTED_SCHEMA',\n",
       " 'SQLITE_DBCONFIG_WRITABLE_SCHEMA',\n",
       " 'SQLITE_DELETE',\n",
       " 'SQLITE_DENY',\n",
       " 'SQLITE_DETACH',\n",
       " 'SQLITE_DONE',\n",
       " 'SQLITE_DROP_INDEX',\n",
       " 'SQLITE_DROP_TABLE',\n",
       " 'SQLITE_DROP_TEMP_INDEX',\n",
       " 'SQLITE_DROP_TEMP_TABLE',\n",
       " 'SQLITE_DROP_TEMP_TRIGGER',\n",
       " 'SQLITE_DROP_TEMP_VIEW',\n",
       " 'SQLITE_DROP_TRIGGER',\n",
       " 'SQLITE_DROP_VIEW',\n",
       " 'SQLITE_DROP_VTABLE',\n",
       " 'SQLITE_EMPTY',\n",
       " 'SQLITE_ERROR',\n",
       " 'SQLITE_ERROR_MISSING_COLLSEQ',\n",
       " 'SQLITE_ERROR_RETRY',\n",
       " 'SQLITE_ERROR_SNAPSHOT',\n",
       " 'SQLITE_FORMAT',\n",
       " 'SQLITE_FULL',\n",
       " 'SQLITE_FUNCTION',\n",
       " 'SQLITE_IGNORE',\n",
       " 'SQLITE_INSERT',\n",
       " 'SQLITE_INTERNAL',\n",
       " 'SQLITE_INTERRUPT',\n",
       " 'SQLITE_IOERR',\n",
       " 'SQLITE_IOERR_ACCESS',\n",
       " 'SQLITE_IOERR_AUTH',\n",
       " 'SQLITE_IOERR_BEGIN_ATOMIC',\n",
       " 'SQLITE_IOERR_BLOCKED',\n",
       " 'SQLITE_IOERR_CHECKRESERVEDLOCK',\n",
       " 'SQLITE_IOERR_CLOSE',\n",
       " 'SQLITE_IOERR_COMMIT_ATOMIC',\n",
       " 'SQLITE_IOERR_CONVPATH',\n",
       " 'SQLITE_IOERR_CORRUPTFS',\n",
       " 'SQLITE_IOERR_DATA',\n",
       " 'SQLITE_IOERR_DELETE',\n",
       " 'SQLITE_IOERR_DELETE_NOENT',\n",
       " 'SQLITE_IOERR_DIR_CLOSE',\n",
       " 'SQLITE_IOERR_DIR_FSYNC',\n",
       " 'SQLITE_IOERR_FSTAT',\n",
       " 'SQLITE_IOERR_FSYNC',\n",
       " 'SQLITE_IOERR_GETTEMPPATH',\n",
       " 'SQLITE_IOERR_LOCK',\n",
       " 'SQLITE_IOERR_MMAP',\n",
       " 'SQLITE_IOERR_NOMEM',\n",
       " 'SQLITE_IOERR_RDLOCK',\n",
       " 'SQLITE_IOERR_READ',\n",
       " 'SQLITE_IOERR_ROLLBACK_ATOMIC',\n",
       " 'SQLITE_IOERR_SEEK',\n",
       " 'SQLITE_IOERR_SHMLOCK',\n",
       " 'SQLITE_IOERR_SHMMAP',\n",
       " 'SQLITE_IOERR_SHMOPEN',\n",
       " 'SQLITE_IOERR_SHMSIZE',\n",
       " 'SQLITE_IOERR_SHORT_READ',\n",
       " 'SQLITE_IOERR_TRUNCATE',\n",
       " 'SQLITE_IOERR_UNLOCK',\n",
       " 'SQLITE_IOERR_VNODE',\n",
       " 'SQLITE_IOERR_WRITE',\n",
       " 'SQLITE_LIMIT_ATTACHED',\n",
       " 'SQLITE_LIMIT_COLUMN',\n",
       " 'SQLITE_LIMIT_COMPOUND_SELECT',\n",
       " 'SQLITE_LIMIT_EXPR_DEPTH',\n",
       " 'SQLITE_LIMIT_FUNCTION_ARG',\n",
       " 'SQLITE_LIMIT_LENGTH',\n",
       " 'SQLITE_LIMIT_LIKE_PATTERN_LENGTH',\n",
       " 'SQLITE_LIMIT_SQL_LENGTH',\n",
       " 'SQLITE_LIMIT_TRIGGER_DEPTH',\n",
       " 'SQLITE_LIMIT_VARIABLE_NUMBER',\n",
       " 'SQLITE_LIMIT_VDBE_OP',\n",
       " 'SQLITE_LIMIT_WORKER_THREADS',\n",
       " 'SQLITE_LOCKED',\n",
       " 'SQLITE_LOCKED_SHAREDCACHE',\n",
       " 'SQLITE_LOCKED_VTAB',\n",
       " 'SQLITE_MISMATCH',\n",
       " 'SQLITE_MISUSE',\n",
       " 'SQLITE_NOLFS',\n",
       " 'SQLITE_NOMEM',\n",
       " 'SQLITE_NOTADB',\n",
       " 'SQLITE_NOTFOUND',\n",
       " 'SQLITE_NOTICE',\n",
       " 'SQLITE_NOTICE_RECOVER_ROLLBACK',\n",
       " 'SQLITE_NOTICE_RECOVER_WAL',\n",
       " 'SQLITE_OK',\n",
       " 'SQLITE_OK_LOAD_PERMANENTLY',\n",
       " 'SQLITE_OK_SYMLINK',\n",
       " 'SQLITE_PERM',\n",
       " 'SQLITE_PRAGMA',\n",
       " 'SQLITE_PROTOCOL',\n",
       " 'SQLITE_RANGE',\n",
       " 'SQLITE_READ',\n",
       " 'SQLITE_READONLY',\n",
       " 'SQLITE_READONLY_CANTINIT',\n",
       " 'SQLITE_READONLY_CANTLOCK',\n",
       " 'SQLITE_READONLY_DBMOVED',\n",
       " 'SQLITE_READONLY_DIRECTORY',\n",
       " 'SQLITE_READONLY_RECOVERY',\n",
       " 'SQLITE_READONLY_ROLLBACK',\n",
       " 'SQLITE_RECURSIVE',\n",
       " 'SQLITE_REINDEX',\n",
       " 'SQLITE_ROW',\n",
       " 'SQLITE_SAVEPOINT',\n",
       " 'SQLITE_SCHEMA',\n",
       " 'SQLITE_SELECT',\n",
       " 'SQLITE_TOOBIG',\n",
       " 'SQLITE_TRANSACTION',\n",
       " 'SQLITE_UPDATE',\n",
       " 'SQLITE_WARNING',\n",
       " 'SQLITE_WARNING_AUTOINDEX',\n",
       " 'Time',\n",
       " 'TimeFromTicks',\n",
       " 'Timestamp',\n",
       " 'TimestampFromTicks',\n",
       " 'Warning',\n",
       " '__builtins__',\n",
       " '__cached__',\n",
       " '__doc__',\n",
       " '__file__',\n",
       " '__getattr__',\n",
       " '__loader__',\n",
       " '__name__',\n",
       " '__package__',\n",
       " '__path__',\n",
       " '__spec__',\n",
       " '_deprecated_names',\n",
       " '_deprecated_version',\n",
       " '_deprecated_version_info',\n",
       " 'adapt',\n",
       " 'adapters',\n",
       " 'apilevel',\n",
       " 'collections',\n",
       " 'complete_statement',\n",
       " 'connect',\n",
       " 'converters',\n",
       " 'datetime',\n",
       " 'dbapi2',\n",
       " 'enable_callback_tracebacks',\n",
       " 'paramstyle',\n",
       " 'register_adapter',\n",
       " 'register_converter',\n",
       " 'sqlite_version',\n",
       " 'sqlite_version_info',\n",
       " 'threadsafety',\n",
       " 'time']"
      ]
     },
     "execution_count": 6,
     "metadata": {},
     "output_type": "execute_result"
    }
   ],
   "source": [
    "dir(sql)"
   ]
  },
  {
   "cell_type": "code",
   "execution_count": 7,
   "id": "a6e28c1a-6ce3-4cdd-9d9a-c736405d5553",
   "metadata": {},
   "outputs": [
    {
     "data": {
      "text/html": [
       "<div>\n",
       "<style scoped>\n",
       "    .dataframe tbody tr th:only-of-type {\n",
       "        vertical-align: middle;\n",
       "    }\n",
       "\n",
       "    .dataframe tbody tr th {\n",
       "        vertical-align: top;\n",
       "    }\n",
       "\n",
       "    .dataframe thead th {\n",
       "        text-align: right;\n",
       "    }\n",
       "</style>\n",
       "<table border=\"1\" class=\"dataframe\">\n",
       "  <thead>\n",
       "    <tr style=\"text-align: right;\">\n",
       "      <th></th>\n",
       "      <th>type</th>\n",
       "      <th>name</th>\n",
       "      <th>tbl_name</th>\n",
       "      <th>rootpage</th>\n",
       "      <th>sql</th>\n",
       "    </tr>\n",
       "  </thead>\n",
       "  <tbody>\n",
       "    <tr>\n",
       "      <th>0</th>\n",
       "      <td>table</td>\n",
       "      <td>Salaries</td>\n",
       "      <td>Salaries</td>\n",
       "      <td>2</td>\n",
       "      <td>CREATE TABLE Salaries (\\n    Id INTEGER PRIMAR...</td>\n",
       "    </tr>\n",
       "    <tr>\n",
       "      <th>1</th>\n",
       "      <td>index</td>\n",
       "      <td>salaries_year_idx</td>\n",
       "      <td>Salaries</td>\n",
       "      <td>16566</td>\n",
       "      <td>CREATE INDEX salaries_year_idx ON Salaries (Year)</td>\n",
       "    </tr>\n",
       "  </tbody>\n",
       "</table>\n",
       "</div>"
      ],
      "text/plain": [
       "    type               name  tbl_name  rootpage  \\\n",
       "0  table           Salaries  Salaries         2   \n",
       "1  index  salaries_year_idx  Salaries     16566   \n",
       "\n",
       "                                                 sql  \n",
       "0  CREATE TABLE Salaries (\\n    Id INTEGER PRIMAR...  \n",
       "1  CREATE INDEX salaries_year_idx ON Salaries (Year)  "
      ]
     },
     "execution_count": 7,
     "metadata": {},
     "output_type": "execute_result"
    }
   ],
   "source": [
    "def sql_query(q):\n",
    "    return pd.read_sql_query(q,conn)\n",
    "\n",
    "q = '''select * from sqlite_master'''\n",
    "\n",
    "sql_query(q)\n",
    "    "
   ]
  },
  {
   "cell_type": "code",
   "execution_count": 8,
   "id": "d04e5b43-6c87-4eaf-8a64-d97090440a83",
   "metadata": {},
   "outputs": [
    {
     "data": {
      "text/html": [
       "<div>\n",
       "<style scoped>\n",
       "    .dataframe tbody tr th:only-of-type {\n",
       "        vertical-align: middle;\n",
       "    }\n",
       "\n",
       "    .dataframe tbody tr th {\n",
       "        vertical-align: top;\n",
       "    }\n",
       "\n",
       "    .dataframe thead th {\n",
       "        text-align: right;\n",
       "    }\n",
       "</style>\n",
       "<table border=\"1\" class=\"dataframe\">\n",
       "  <thead>\n",
       "    <tr style=\"text-align: right;\">\n",
       "      <th></th>\n",
       "      <th>cid</th>\n",
       "      <th>name</th>\n",
       "      <th>type</th>\n",
       "      <th>notnull</th>\n",
       "      <th>dflt_value</th>\n",
       "      <th>pk</th>\n",
       "    </tr>\n",
       "  </thead>\n",
       "  <tbody>\n",
       "    <tr>\n",
       "      <th>0</th>\n",
       "      <td>0</td>\n",
       "      <td>Id</td>\n",
       "      <td>INTEGER</td>\n",
       "      <td>0</td>\n",
       "      <td>None</td>\n",
       "      <td>1</td>\n",
       "    </tr>\n",
       "    <tr>\n",
       "      <th>1</th>\n",
       "      <td>1</td>\n",
       "      <td>EmployeeName</td>\n",
       "      <td>TEXT</td>\n",
       "      <td>0</td>\n",
       "      <td>None</td>\n",
       "      <td>0</td>\n",
       "    </tr>\n",
       "    <tr>\n",
       "      <th>2</th>\n",
       "      <td>2</td>\n",
       "      <td>JobTitle</td>\n",
       "      <td>TEXT</td>\n",
       "      <td>0</td>\n",
       "      <td>None</td>\n",
       "      <td>0</td>\n",
       "    </tr>\n",
       "    <tr>\n",
       "      <th>3</th>\n",
       "      <td>3</td>\n",
       "      <td>BasePay</td>\n",
       "      <td>NUMERIC</td>\n",
       "      <td>0</td>\n",
       "      <td>None</td>\n",
       "      <td>0</td>\n",
       "    </tr>\n",
       "    <tr>\n",
       "      <th>4</th>\n",
       "      <td>4</td>\n",
       "      <td>OvertimePay</td>\n",
       "      <td>NUMERIC</td>\n",
       "      <td>0</td>\n",
       "      <td>None</td>\n",
       "      <td>0</td>\n",
       "    </tr>\n",
       "    <tr>\n",
       "      <th>5</th>\n",
       "      <td>5</td>\n",
       "      <td>OtherPay</td>\n",
       "      <td>NUMERIC</td>\n",
       "      <td>0</td>\n",
       "      <td>None</td>\n",
       "      <td>0</td>\n",
       "    </tr>\n",
       "    <tr>\n",
       "      <th>6</th>\n",
       "      <td>6</td>\n",
       "      <td>Benefits</td>\n",
       "      <td>NUMERIC</td>\n",
       "      <td>0</td>\n",
       "      <td>None</td>\n",
       "      <td>0</td>\n",
       "    </tr>\n",
       "    <tr>\n",
       "      <th>7</th>\n",
       "      <td>7</td>\n",
       "      <td>TotalPay</td>\n",
       "      <td>NUMERIC</td>\n",
       "      <td>0</td>\n",
       "      <td>None</td>\n",
       "      <td>0</td>\n",
       "    </tr>\n",
       "    <tr>\n",
       "      <th>8</th>\n",
       "      <td>8</td>\n",
       "      <td>TotalPayBenefits</td>\n",
       "      <td>NUMERIC</td>\n",
       "      <td>0</td>\n",
       "      <td>None</td>\n",
       "      <td>0</td>\n",
       "    </tr>\n",
       "    <tr>\n",
       "      <th>9</th>\n",
       "      <td>9</td>\n",
       "      <td>Year</td>\n",
       "      <td>INTEGER</td>\n",
       "      <td>0</td>\n",
       "      <td>None</td>\n",
       "      <td>0</td>\n",
       "    </tr>\n",
       "    <tr>\n",
       "      <th>10</th>\n",
       "      <td>10</td>\n",
       "      <td>Notes</td>\n",
       "      <td>TEXT</td>\n",
       "      <td>0</td>\n",
       "      <td>None</td>\n",
       "      <td>0</td>\n",
       "    </tr>\n",
       "    <tr>\n",
       "      <th>11</th>\n",
       "      <td>11</td>\n",
       "      <td>Agency</td>\n",
       "      <td>TEXT</td>\n",
       "      <td>0</td>\n",
       "      <td>None</td>\n",
       "      <td>0</td>\n",
       "    </tr>\n",
       "    <tr>\n",
       "      <th>12</th>\n",
       "      <td>12</td>\n",
       "      <td>Status</td>\n",
       "      <td>TEXT</td>\n",
       "      <td>0</td>\n",
       "      <td>None</td>\n",
       "      <td>0</td>\n",
       "    </tr>\n",
       "  </tbody>\n",
       "</table>\n",
       "</div>"
      ],
      "text/plain": [
       "    cid              name     type  notnull dflt_value  pk\n",
       "0     0                Id  INTEGER        0       None   1\n",
       "1     1      EmployeeName     TEXT        0       None   0\n",
       "2     2          JobTitle     TEXT        0       None   0\n",
       "3     3           BasePay  NUMERIC        0       None   0\n",
       "4     4       OvertimePay  NUMERIC        0       None   0\n",
       "5     5          OtherPay  NUMERIC        0       None   0\n",
       "6     6          Benefits  NUMERIC        0       None   0\n",
       "7     7          TotalPay  NUMERIC        0       None   0\n",
       "8     8  TotalPayBenefits  NUMERIC        0       None   0\n",
       "9     9              Year  INTEGER        0       None   0\n",
       "10   10             Notes     TEXT        0       None   0\n",
       "11   11            Agency     TEXT        0       None   0\n",
       "12   12            Status     TEXT        0       None   0"
      ]
     },
     "execution_count": 8,
     "metadata": {},
     "output_type": "execute_result"
    }
   ],
   "source": [
    "q = '''Pragma table_info(Salaries)'''\n",
    "\n",
    "sql_query(q)"
   ]
  },
  {
   "cell_type": "code",
   "execution_count": 9,
   "id": "d397213a-c477-4bd9-bba6-b61af6a7b268",
   "metadata": {},
   "outputs": [
    {
     "data": {
      "text/html": [
       "<div>\n",
       "<style scoped>\n",
       "    .dataframe tbody tr th:only-of-type {\n",
       "        vertical-align: middle;\n",
       "    }\n",
       "\n",
       "    .dataframe tbody tr th {\n",
       "        vertical-align: top;\n",
       "    }\n",
       "\n",
       "    .dataframe thead th {\n",
       "        text-align: right;\n",
       "    }\n",
       "</style>\n",
       "<table border=\"1\" class=\"dataframe\">\n",
       "  <thead>\n",
       "    <tr style=\"text-align: right;\">\n",
       "      <th></th>\n",
       "      <th>cid</th>\n",
       "      <th>name</th>\n",
       "      <th>type</th>\n",
       "      <th>notnull</th>\n",
       "      <th>dflt_value</th>\n",
       "      <th>pk</th>\n",
       "    </tr>\n",
       "  </thead>\n",
       "  <tbody>\n",
       "    <tr>\n",
       "      <th>0</th>\n",
       "      <td>0</td>\n",
       "      <td>Id</td>\n",
       "      <td>INTEGER</td>\n",
       "      <td>0</td>\n",
       "      <td>None</td>\n",
       "      <td>1</td>\n",
       "    </tr>\n",
       "    <tr>\n",
       "      <th>1</th>\n",
       "      <td>1</td>\n",
       "      <td>EmployeeName</td>\n",
       "      <td>TEXT</td>\n",
       "      <td>0</td>\n",
       "      <td>None</td>\n",
       "      <td>0</td>\n",
       "    </tr>\n",
       "    <tr>\n",
       "      <th>2</th>\n",
       "      <td>2</td>\n",
       "      <td>JobTitle</td>\n",
       "      <td>TEXT</td>\n",
       "      <td>0</td>\n",
       "      <td>None</td>\n",
       "      <td>0</td>\n",
       "    </tr>\n",
       "    <tr>\n",
       "      <th>3</th>\n",
       "      <td>3</td>\n",
       "      <td>BasePay</td>\n",
       "      <td>NUMERIC</td>\n",
       "      <td>0</td>\n",
       "      <td>None</td>\n",
       "      <td>0</td>\n",
       "    </tr>\n",
       "    <tr>\n",
       "      <th>4</th>\n",
       "      <td>4</td>\n",
       "      <td>OvertimePay</td>\n",
       "      <td>NUMERIC</td>\n",
       "      <td>0</td>\n",
       "      <td>None</td>\n",
       "      <td>0</td>\n",
       "    </tr>\n",
       "    <tr>\n",
       "      <th>5</th>\n",
       "      <td>5</td>\n",
       "      <td>OtherPay</td>\n",
       "      <td>NUMERIC</td>\n",
       "      <td>0</td>\n",
       "      <td>None</td>\n",
       "      <td>0</td>\n",
       "    </tr>\n",
       "    <tr>\n",
       "      <th>6</th>\n",
       "      <td>6</td>\n",
       "      <td>Benefits</td>\n",
       "      <td>NUMERIC</td>\n",
       "      <td>0</td>\n",
       "      <td>None</td>\n",
       "      <td>0</td>\n",
       "    </tr>\n",
       "    <tr>\n",
       "      <th>7</th>\n",
       "      <td>7</td>\n",
       "      <td>TotalPay</td>\n",
       "      <td>NUMERIC</td>\n",
       "      <td>0</td>\n",
       "      <td>None</td>\n",
       "      <td>0</td>\n",
       "    </tr>\n",
       "    <tr>\n",
       "      <th>8</th>\n",
       "      <td>8</td>\n",
       "      <td>TotalPayBenefits</td>\n",
       "      <td>NUMERIC</td>\n",
       "      <td>0</td>\n",
       "      <td>None</td>\n",
       "      <td>0</td>\n",
       "    </tr>\n",
       "    <tr>\n",
       "      <th>9</th>\n",
       "      <td>9</td>\n",
       "      <td>Year</td>\n",
       "      <td>INTEGER</td>\n",
       "      <td>0</td>\n",
       "      <td>None</td>\n",
       "      <td>0</td>\n",
       "    </tr>\n",
       "    <tr>\n",
       "      <th>10</th>\n",
       "      <td>10</td>\n",
       "      <td>Notes</td>\n",
       "      <td>TEXT</td>\n",
       "      <td>0</td>\n",
       "      <td>None</td>\n",
       "      <td>0</td>\n",
       "    </tr>\n",
       "    <tr>\n",
       "      <th>11</th>\n",
       "      <td>11</td>\n",
       "      <td>Agency</td>\n",
       "      <td>TEXT</td>\n",
       "      <td>0</td>\n",
       "      <td>None</td>\n",
       "      <td>0</td>\n",
       "    </tr>\n",
       "    <tr>\n",
       "      <th>12</th>\n",
       "      <td>12</td>\n",
       "      <td>Status</td>\n",
       "      <td>TEXT</td>\n",
       "      <td>0</td>\n",
       "      <td>None</td>\n",
       "      <td>0</td>\n",
       "    </tr>\n",
       "  </tbody>\n",
       "</table>\n",
       "</div>"
      ],
      "text/plain": [
       "    cid              name     type  notnull dflt_value  pk\n",
       "0     0                Id  INTEGER        0       None   1\n",
       "1     1      EmployeeName     TEXT        0       None   0\n",
       "2     2          JobTitle     TEXT        0       None   0\n",
       "3     3           BasePay  NUMERIC        0       None   0\n",
       "4     4       OvertimePay  NUMERIC        0       None   0\n",
       "5     5          OtherPay  NUMERIC        0       None   0\n",
       "6     6          Benefits  NUMERIC        0       None   0\n",
       "7     7          TotalPay  NUMERIC        0       None   0\n",
       "8     8  TotalPayBenefits  NUMERIC        0       None   0\n",
       "9     9              Year  INTEGER        0       None   0\n",
       "10   10             Notes     TEXT        0       None   0\n",
       "11   11            Agency     TEXT        0       None   0\n",
       "12   12            Status     TEXT        0       None   0"
      ]
     },
     "execution_count": 9,
     "metadata": {},
     "output_type": "execute_result"
    }
   ],
   "source": [
    "pd.read_sql_query('PRAGMA table_info(salaries)',conn)"
   ]
  },
  {
   "cell_type": "code",
   "execution_count": 10,
   "id": "3c44b18e-73af-4469-a515-d36981d70336",
   "metadata": {},
   "outputs": [
    {
     "data": {
      "text/html": [
       "<div>\n",
       "<style scoped>\n",
       "    .dataframe tbody tr th:only-of-type {\n",
       "        vertical-align: middle;\n",
       "    }\n",
       "\n",
       "    .dataframe tbody tr th {\n",
       "        vertical-align: top;\n",
       "    }\n",
       "\n",
       "    .dataframe thead th {\n",
       "        text-align: right;\n",
       "    }\n",
       "</style>\n",
       "<table border=\"1\" class=\"dataframe\">\n",
       "  <thead>\n",
       "    <tr style=\"text-align: right;\">\n",
       "      <th></th>\n",
       "      <th>type</th>\n",
       "      <th>name</th>\n",
       "      <th>tbl_name</th>\n",
       "      <th>rootpage</th>\n",
       "      <th>sql</th>\n",
       "    </tr>\n",
       "  </thead>\n",
       "  <tbody>\n",
       "    <tr>\n",
       "      <th>0</th>\n",
       "      <td>table</td>\n",
       "      <td>Salaries</td>\n",
       "      <td>Salaries</td>\n",
       "      <td>2</td>\n",
       "      <td>CREATE TABLE Salaries (\\n    Id INTEGER PRIMAR...</td>\n",
       "    </tr>\n",
       "  </tbody>\n",
       "</table>\n",
       "</div>"
      ],
      "text/plain": [
       "    type      name  tbl_name  rootpage  \\\n",
       "0  table  Salaries  Salaries         2   \n",
       "\n",
       "                                                 sql  \n",
       "0  CREATE TABLE Salaries (\\n    Id INTEGER PRIMAR...  "
      ]
     },
     "execution_count": 10,
     "metadata": {},
     "output_type": "execute_result"
    }
   ],
   "source": [
    "pd.read_sql_query('''select * from Sqlite_master where type = \"table\" ''', conn)"
   ]
  },
  {
   "cell_type": "code",
   "execution_count": 11,
   "id": "3bea504d-2ece-4e22-9b34-e6a0533ec277",
   "metadata": {},
   "outputs": [
    {
     "data": {
      "text/html": [
       "<div>\n",
       "<style scoped>\n",
       "    .dataframe tbody tr th:only-of-type {\n",
       "        vertical-align: middle;\n",
       "    }\n",
       "\n",
       "    .dataframe tbody tr th {\n",
       "        vertical-align: top;\n",
       "    }\n",
       "\n",
       "    .dataframe thead th {\n",
       "        text-align: right;\n",
       "    }\n",
       "</style>\n",
       "<table border=\"1\" class=\"dataframe\">\n",
       "  <thead>\n",
       "    <tr style=\"text-align: right;\">\n",
       "      <th></th>\n",
       "      <th>Id</th>\n",
       "      <th>EmployeeName</th>\n",
       "      <th>JobTitle</th>\n",
       "      <th>BasePay</th>\n",
       "      <th>OvertimePay</th>\n",
       "      <th>OtherPay</th>\n",
       "      <th>Benefits</th>\n",
       "      <th>TotalPay</th>\n",
       "      <th>TotalPayBenefits</th>\n",
       "      <th>Year</th>\n",
       "      <th>Notes</th>\n",
       "      <th>Agency</th>\n",
       "      <th>Status</th>\n",
       "    </tr>\n",
       "  </thead>\n",
       "  <tbody>\n",
       "  </tbody>\n",
       "</table>\n",
       "</div>"
      ],
      "text/plain": [
       "Empty DataFrame\n",
       "Columns: [Id, EmployeeName, JobTitle, BasePay, OvertimePay, OtherPay, Benefits, TotalPay, TotalPayBenefits, Year, Notes, Agency, Status]\n",
       "Index: []"
      ]
     },
     "execution_count": 11,
     "metadata": {},
     "output_type": "execute_result"
    }
   ],
   "source": [
    "pd.read_sql_query('''select * from Salaries where employeename is null''', conn)"
   ]
  },
  {
   "cell_type": "code",
   "execution_count": 12,
   "id": "c420ff02-40d3-4374-9112-9757ca29be08",
   "metadata": {},
   "outputs": [
    {
     "data": {
      "text/html": [
       "<div>\n",
       "<style scoped>\n",
       "    .dataframe tbody tr th:only-of-type {\n",
       "        vertical-align: middle;\n",
       "    }\n",
       "\n",
       "    .dataframe tbody tr th {\n",
       "        vertical-align: top;\n",
       "    }\n",
       "\n",
       "    .dataframe thead th {\n",
       "        text-align: right;\n",
       "    }\n",
       "</style>\n",
       "<table border=\"1\" class=\"dataframe\">\n",
       "  <thead>\n",
       "    <tr style=\"text-align: right;\">\n",
       "      <th></th>\n",
       "      <th>avg(totalpaybenefits)</th>\n",
       "      <th>JobTitle</th>\n",
       "    </tr>\n",
       "  </thead>\n",
       "  <tbody>\n",
       "    <tr>\n",
       "      <th>0</th>\n",
       "      <td>436224.360000</td>\n",
       "      <td>Chief Investment Officer</td>\n",
       "    </tr>\n",
       "    <tr>\n",
       "      <th>1</th>\n",
       "      <td>411732.266667</td>\n",
       "      <td>Chief of Police</td>\n",
       "    </tr>\n",
       "    <tr>\n",
       "      <th>2</th>\n",
       "      <td>408865.326667</td>\n",
       "      <td>Chief, Fire Department</td>\n",
       "    </tr>\n",
       "    <tr>\n",
       "      <th>3</th>\n",
       "      <td>399211.275000</td>\n",
       "      <td>GENERAL MANAGER-METROPOLITAN TRANSIT AUTHORITY</td>\n",
       "    </tr>\n",
       "    <tr>\n",
       "      <th>4</th>\n",
       "      <td>380696.440000</td>\n",
       "      <td>Gen Mgr, Public Trnsp Dept</td>\n",
       "    </tr>\n",
       "    <tr>\n",
       "      <th>...</th>\n",
       "      <td>...</td>\n",
       "      <td>...</td>\n",
       "    </tr>\n",
       "    <tr>\n",
       "      <th>2153</th>\n",
       "      <td>673.800000</td>\n",
       "      <td>SPECIAL ASSISTANT XIV</td>\n",
       "    </tr>\n",
       "    <tr>\n",
       "      <th>2154</th>\n",
       "      <td>638.787879</td>\n",
       "      <td>BOARD/COMMISSION MEMBER, GROUP III</td>\n",
       "    </tr>\n",
       "    <tr>\n",
       "      <th>2155</th>\n",
       "      <td>475.047742</td>\n",
       "      <td>BdComm Mbr, Grp2,M=$25/Mtg</td>\n",
       "    </tr>\n",
       "    <tr>\n",
       "      <th>2156</th>\n",
       "      <td>296.511628</td>\n",
       "      <td>BOARD/COMMISSION MEMBER, GROUP II</td>\n",
       "    </tr>\n",
       "    <tr>\n",
       "      <th>2157</th>\n",
       "      <td>149.510000</td>\n",
       "      <td>PUBLIC SAFETY COMMUNICATIONS TECHNICIAN</td>\n",
       "    </tr>\n",
       "  </tbody>\n",
       "</table>\n",
       "<p>2158 rows × 2 columns</p>\n",
       "</div>"
      ],
      "text/plain": [
       "      avg(totalpaybenefits)                                        JobTitle\n",
       "0             436224.360000                        Chief Investment Officer\n",
       "1             411732.266667                                 Chief of Police\n",
       "2             408865.326667                          Chief, Fire Department\n",
       "3             399211.275000  GENERAL MANAGER-METROPOLITAN TRANSIT AUTHORITY\n",
       "4             380696.440000                      Gen Mgr, Public Trnsp Dept\n",
       "...                     ...                                             ...\n",
       "2153             673.800000                           SPECIAL ASSISTANT XIV\n",
       "2154             638.787879              BOARD/COMMISSION MEMBER, GROUP III\n",
       "2155             475.047742                      BdComm Mbr, Grp2,M=$25/Mtg\n",
       "2156             296.511628               BOARD/COMMISSION MEMBER, GROUP II\n",
       "2157             149.510000         PUBLIC SAFETY COMMUNICATIONS TECHNICIAN\n",
       "\n",
       "[2158 rows x 2 columns]"
      ]
     },
     "execution_count": 12,
     "metadata": {},
     "output_type": "execute_result"
    }
   ],
   "source": [
    "#What is the average TotalPayBenefits for each JobTitle? exclude ('Not Provided', 'Not provided')\n",
    "\n",
    "pd.read_sql_query('''select avg(totalpaybenefits), jobtitle from salaries where jobtitle not in('Not Provided', 'Not provided') group by jobtitle  order by avg(totalpaybenefits) desc''',conn)\n",
    "\n",
    "\n"
   ]
  },
  {
   "cell_type": "code",
   "execution_count": 13,
   "id": "e575363c-d7a4-43b2-8bba-de0fb6764b30",
   "metadata": {},
   "outputs": [
    {
     "data": {
      "text/html": [
       "<div>\n",
       "<style scoped>\n",
       "    .dataframe tbody tr th:only-of-type {\n",
       "        vertical-align: middle;\n",
       "    }\n",
       "\n",
       "    .dataframe tbody tr th {\n",
       "        vertical-align: top;\n",
       "    }\n",
       "\n",
       "    .dataframe thead th {\n",
       "        text-align: right;\n",
       "    }\n",
       "</style>\n",
       "<table border=\"1\" class=\"dataframe\">\n",
       "  <thead>\n",
       "    <tr style=\"text-align: right;\">\n",
       "      <th></th>\n",
       "      <th>Id</th>\n",
       "      <th>EmployeeName</th>\n",
       "      <th>JobTitle</th>\n",
       "      <th>BasePay</th>\n",
       "      <th>OvertimePay</th>\n",
       "      <th>OtherPay</th>\n",
       "      <th>Benefits</th>\n",
       "      <th>TotalPay</th>\n",
       "      <th>TotalPayBenefits</th>\n",
       "      <th>Year</th>\n",
       "      <th>Notes</th>\n",
       "      <th>Agency</th>\n",
       "      <th>Status</th>\n",
       "    </tr>\n",
       "  </thead>\n",
       "  <tbody>\n",
       "    <tr>\n",
       "      <th>0</th>\n",
       "      <td>1</td>\n",
       "      <td>NATHANIEL FORD</td>\n",
       "      <td>GENERAL MANAGER-METROPOLITAN TRANSIT AUTHORITY</td>\n",
       "      <td>167411.18</td>\n",
       "      <td>0</td>\n",
       "      <td>400184.25</td>\n",
       "      <td></td>\n",
       "      <td>567595.43</td>\n",
       "      <td>567595.43</td>\n",
       "      <td>2011</td>\n",
       "      <td></td>\n",
       "      <td>San Francisco</td>\n",
       "      <td></td>\n",
       "    </tr>\n",
       "    <tr>\n",
       "      <th>1</th>\n",
       "      <td>2</td>\n",
       "      <td>GARY JIMENEZ</td>\n",
       "      <td>CAPTAIN III (POLICE DEPARTMENT)</td>\n",
       "      <td>155966.02</td>\n",
       "      <td>245131.88</td>\n",
       "      <td>137811.38</td>\n",
       "      <td></td>\n",
       "      <td>538909.28</td>\n",
       "      <td>538909.28</td>\n",
       "      <td>2011</td>\n",
       "      <td></td>\n",
       "      <td>San Francisco</td>\n",
       "      <td></td>\n",
       "    </tr>\n",
       "    <tr>\n",
       "      <th>2</th>\n",
       "      <td>3</td>\n",
       "      <td>ALBERT PARDINI</td>\n",
       "      <td>CAPTAIN III (POLICE DEPARTMENT)</td>\n",
       "      <td>212739.13</td>\n",
       "      <td>106088.18</td>\n",
       "      <td>16452.6</td>\n",
       "      <td></td>\n",
       "      <td>335279.91</td>\n",
       "      <td>335279.91</td>\n",
       "      <td>2011</td>\n",
       "      <td></td>\n",
       "      <td>San Francisco</td>\n",
       "      <td></td>\n",
       "    </tr>\n",
       "    <tr>\n",
       "      <th>3</th>\n",
       "      <td>4</td>\n",
       "      <td>CHRISTOPHER CHONG</td>\n",
       "      <td>WIRE ROPE CABLE MAINTENANCE MECHANIC</td>\n",
       "      <td>77916</td>\n",
       "      <td>56120.71</td>\n",
       "      <td>198306.9</td>\n",
       "      <td></td>\n",
       "      <td>332343.61</td>\n",
       "      <td>332343.61</td>\n",
       "      <td>2011</td>\n",
       "      <td></td>\n",
       "      <td>San Francisco</td>\n",
       "      <td></td>\n",
       "    </tr>\n",
       "    <tr>\n",
       "      <th>4</th>\n",
       "      <td>5</td>\n",
       "      <td>PATRICK GARDNER</td>\n",
       "      <td>DEPUTY CHIEF OF DEPARTMENT,(FIRE DEPARTMENT)</td>\n",
       "      <td>134401.6</td>\n",
       "      <td>9737</td>\n",
       "      <td>182234.59</td>\n",
       "      <td></td>\n",
       "      <td>326373.19</td>\n",
       "      <td>326373.19</td>\n",
       "      <td>2011</td>\n",
       "      <td></td>\n",
       "      <td>San Francisco</td>\n",
       "      <td></td>\n",
       "    </tr>\n",
       "    <tr>\n",
       "      <th>...</th>\n",
       "      <td>...</td>\n",
       "      <td>...</td>\n",
       "      <td>...</td>\n",
       "      <td>...</td>\n",
       "      <td>...</td>\n",
       "      <td>...</td>\n",
       "      <td>...</td>\n",
       "      <td>...</td>\n",
       "      <td>...</td>\n",
       "      <td>...</td>\n",
       "      <td>...</td>\n",
       "      <td>...</td>\n",
       "      <td>...</td>\n",
       "    </tr>\n",
       "    <tr>\n",
       "      <th>148649</th>\n",
       "      <td>148650</td>\n",
       "      <td>Roy I Tillery</td>\n",
       "      <td>Custodian</td>\n",
       "      <td>0</td>\n",
       "      <td>0</td>\n",
       "      <td>0</td>\n",
       "      <td>0</td>\n",
       "      <td>0.00</td>\n",
       "      <td>0.00</td>\n",
       "      <td>2014</td>\n",
       "      <td></td>\n",
       "      <td>San Francisco</td>\n",
       "      <td>PT</td>\n",
       "    </tr>\n",
       "    <tr>\n",
       "      <th>148650</th>\n",
       "      <td>148651</td>\n",
       "      <td>Not provided</td>\n",
       "      <td>Not provided</td>\n",
       "      <td>Not Provided</td>\n",
       "      <td>Not Provided</td>\n",
       "      <td>Not Provided</td>\n",
       "      <td>Not Provided</td>\n",
       "      <td>0.00</td>\n",
       "      <td>0.00</td>\n",
       "      <td>2014</td>\n",
       "      <td></td>\n",
       "      <td>San Francisco</td>\n",
       "      <td></td>\n",
       "    </tr>\n",
       "    <tr>\n",
       "      <th>148651</th>\n",
       "      <td>148652</td>\n",
       "      <td>Not provided</td>\n",
       "      <td>Not provided</td>\n",
       "      <td>Not Provided</td>\n",
       "      <td>Not Provided</td>\n",
       "      <td>Not Provided</td>\n",
       "      <td>Not Provided</td>\n",
       "      <td>0.00</td>\n",
       "      <td>0.00</td>\n",
       "      <td>2014</td>\n",
       "      <td></td>\n",
       "      <td>San Francisco</td>\n",
       "      <td></td>\n",
       "    </tr>\n",
       "    <tr>\n",
       "      <th>148652</th>\n",
       "      <td>148653</td>\n",
       "      <td>Not provided</td>\n",
       "      <td>Not provided</td>\n",
       "      <td>Not Provided</td>\n",
       "      <td>Not Provided</td>\n",
       "      <td>Not Provided</td>\n",
       "      <td>Not Provided</td>\n",
       "      <td>0.00</td>\n",
       "      <td>0.00</td>\n",
       "      <td>2014</td>\n",
       "      <td></td>\n",
       "      <td>San Francisco</td>\n",
       "      <td></td>\n",
       "    </tr>\n",
       "    <tr>\n",
       "      <th>148653</th>\n",
       "      <td>148654</td>\n",
       "      <td>Joe Lopez</td>\n",
       "      <td>Counselor, Log Cabin Ranch</td>\n",
       "      <td>0</td>\n",
       "      <td>0</td>\n",
       "      <td>-618.13</td>\n",
       "      <td>0</td>\n",
       "      <td>-618.13</td>\n",
       "      <td>-618.13</td>\n",
       "      <td>2014</td>\n",
       "      <td></td>\n",
       "      <td>San Francisco</td>\n",
       "      <td>PT</td>\n",
       "    </tr>\n",
       "  </tbody>\n",
       "</table>\n",
       "<p>148654 rows × 13 columns</p>\n",
       "</div>"
      ],
      "text/plain": [
       "            Id       EmployeeName  \\\n",
       "0            1     NATHANIEL FORD   \n",
       "1            2       GARY JIMENEZ   \n",
       "2            3     ALBERT PARDINI   \n",
       "3            4  CHRISTOPHER CHONG   \n",
       "4            5    PATRICK GARDNER   \n",
       "...        ...                ...   \n",
       "148649  148650      Roy I Tillery   \n",
       "148650  148651       Not provided   \n",
       "148651  148652       Not provided   \n",
       "148652  148653       Not provided   \n",
       "148653  148654          Joe Lopez   \n",
       "\n",
       "                                              JobTitle       BasePay  \\\n",
       "0       GENERAL MANAGER-METROPOLITAN TRANSIT AUTHORITY     167411.18   \n",
       "1                      CAPTAIN III (POLICE DEPARTMENT)     155966.02   \n",
       "2                      CAPTAIN III (POLICE DEPARTMENT)     212739.13   \n",
       "3                 WIRE ROPE CABLE MAINTENANCE MECHANIC         77916   \n",
       "4         DEPUTY CHIEF OF DEPARTMENT,(FIRE DEPARTMENT)      134401.6   \n",
       "...                                                ...           ...   \n",
       "148649                                       Custodian             0   \n",
       "148650                                    Not provided  Not Provided   \n",
       "148651                                    Not provided  Not Provided   \n",
       "148652                                    Not provided  Not Provided   \n",
       "148653                      Counselor, Log Cabin Ranch             0   \n",
       "\n",
       "         OvertimePay      OtherPay      Benefits   TotalPay  TotalPayBenefits  \\\n",
       "0                  0     400184.25                567595.43         567595.43   \n",
       "1          245131.88     137811.38                538909.28         538909.28   \n",
       "2          106088.18       16452.6                335279.91         335279.91   \n",
       "3           56120.71      198306.9                332343.61         332343.61   \n",
       "4               9737     182234.59                326373.19         326373.19   \n",
       "...              ...           ...           ...        ...               ...   \n",
       "148649             0             0             0       0.00              0.00   \n",
       "148650  Not Provided  Not Provided  Not Provided       0.00              0.00   \n",
       "148651  Not Provided  Not Provided  Not Provided       0.00              0.00   \n",
       "148652  Not Provided  Not Provided  Not Provided       0.00              0.00   \n",
       "148653             0       -618.13             0    -618.13           -618.13   \n",
       "\n",
       "        Year Notes         Agency Status  \n",
       "0       2011        San Francisco         \n",
       "1       2011        San Francisco         \n",
       "2       2011        San Francisco         \n",
       "3       2011        San Francisco         \n",
       "4       2011        San Francisco         \n",
       "...      ...   ...            ...    ...  \n",
       "148649  2014        San Francisco     PT  \n",
       "148650  2014        San Francisco         \n",
       "148651  2014        San Francisco         \n",
       "148652  2014        San Francisco         \n",
       "148653  2014        San Francisco     PT  \n",
       "\n",
       "[148654 rows x 13 columns]"
      ]
     },
     "execution_count": 13,
     "metadata": {},
     "output_type": "execute_result"
    }
   ],
   "source": [
    "pd.read_sql_query('''select * from Salaries where employeename not null''', conn)"
   ]
  },
  {
   "cell_type": "markdown",
   "id": "1d9e7029-7519-43b1-b2e2-ba1e195252f6",
   "metadata": {
    "id": "1d9e7029-7519-43b1-b2e2-ba1e195252f6"
   },
   "source": [
    "2. Which JobTitle has the most employees in each year? exclude ('Not Provided', 'Not provided')"
   ]
  },
  {
   "cell_type": "code",
   "execution_count": 14,
   "id": "3474644b-3b27-46ac-b47b-d8c23484923d",
   "metadata": {},
   "outputs": [
    {
     "data": {
      "text/html": [
       "<div>\n",
       "<style scoped>\n",
       "    .dataframe tbody tr th:only-of-type {\n",
       "        vertical-align: middle;\n",
       "    }\n",
       "\n",
       "    .dataframe tbody tr th {\n",
       "        vertical-align: top;\n",
       "    }\n",
       "\n",
       "    .dataframe thead th {\n",
       "        text-align: right;\n",
       "    }\n",
       "</style>\n",
       "<table border=\"1\" class=\"dataframe\">\n",
       "  <thead>\n",
       "    <tr style=\"text-align: right;\">\n",
       "      <th></th>\n",
       "      <th>JobTitle</th>\n",
       "      <th>count(jobtitle)</th>\n",
       "      <th>Year</th>\n",
       "    </tr>\n",
       "  </thead>\n",
       "  <tbody>\n",
       "    <tr>\n",
       "      <th>0</th>\n",
       "      <td>Transit Operator</td>\n",
       "      <td>7036</td>\n",
       "      <td>2012</td>\n",
       "    </tr>\n",
       "    <tr>\n",
       "      <th>1</th>\n",
       "      <td>Special Nurse</td>\n",
       "      <td>4389</td>\n",
       "      <td>2012</td>\n",
       "    </tr>\n",
       "    <tr>\n",
       "      <th>2</th>\n",
       "      <td>Registered Nurse</td>\n",
       "      <td>3736</td>\n",
       "      <td>2012</td>\n",
       "    </tr>\n",
       "    <tr>\n",
       "      <th>3</th>\n",
       "      <td>Public Svc Aide-Public Works</td>\n",
       "      <td>2518</td>\n",
       "      <td>2012</td>\n",
       "    </tr>\n",
       "    <tr>\n",
       "      <th>4</th>\n",
       "      <td>Police Officer 3</td>\n",
       "      <td>2421</td>\n",
       "      <td>2012</td>\n",
       "    </tr>\n",
       "    <tr>\n",
       "      <th>...</th>\n",
       "      <td>...</td>\n",
       "      <td>...</td>\n",
       "      <td>...</td>\n",
       "    </tr>\n",
       "    <tr>\n",
       "      <th>2154</th>\n",
       "      <td>WHARFINGER I</td>\n",
       "      <td>1</td>\n",
       "      <td>2011</td>\n",
       "    </tr>\n",
       "    <tr>\n",
       "      <th>2155</th>\n",
       "      <td>WINDOW CLEANER SUPERVISOR</td>\n",
       "      <td>1</td>\n",
       "      <td>2011</td>\n",
       "    </tr>\n",
       "    <tr>\n",
       "      <th>2156</th>\n",
       "      <td>WIRE ROPE CABLE MAINTENANCE SUPERVISOR</td>\n",
       "      <td>1</td>\n",
       "      <td>2011</td>\n",
       "    </tr>\n",
       "    <tr>\n",
       "      <th>2157</th>\n",
       "      <td>YOUTH COMMISSION ADVISOR, BOARD OF SUPERVISORS</td>\n",
       "      <td>1</td>\n",
       "      <td>2011</td>\n",
       "    </tr>\n",
       "    <tr>\n",
       "      <th>2158</th>\n",
       "      <td>ZOO CURATOR</td>\n",
       "      <td>1</td>\n",
       "      <td>2011</td>\n",
       "    </tr>\n",
       "  </tbody>\n",
       "</table>\n",
       "<p>2159 rows × 3 columns</p>\n",
       "</div>"
      ],
      "text/plain": [
       "                                            JobTitle  count(jobtitle)  Year\n",
       "0                                   Transit Operator             7036  2012\n",
       "1                                      Special Nurse             4389  2012\n",
       "2                                   Registered Nurse             3736  2012\n",
       "3                       Public Svc Aide-Public Works             2518  2012\n",
       "4                                   Police Officer 3             2421  2012\n",
       "...                                              ...              ...   ...\n",
       "2154                                    WHARFINGER I                1  2011\n",
       "2155                       WINDOW CLEANER SUPERVISOR                1  2011\n",
       "2156          WIRE ROPE CABLE MAINTENANCE SUPERVISOR                1  2011\n",
       "2157  YOUTH COMMISSION ADVISOR, BOARD OF SUPERVISORS                1  2011\n",
       "2158                                     ZOO CURATOR                1  2011\n",
       "\n",
       "[2159 rows x 3 columns]"
      ]
     },
     "execution_count": 14,
     "metadata": {},
     "output_type": "execute_result"
    }
   ],
   "source": [
    "pd.read_sql_query('''select jobtitle, count(jobtitle), year from salaries where jobtitle Not in('Not Provided', 'Not provioded')\n",
    "group by jobtitle order by count(jobtitle) desc, year desc''',conn)"
   ]
  },
  {
   "cell_type": "markdown",
   "id": "7ab8787f-6f95-4055-9ac6-b659467e7a19",
   "metadata": {
    "id": "7ab8787f-6f95-4055-9ac6-b659467e7a19"
   },
   "source": [
    "3. What is the total number of unique employees? exclude ('Not Provided', 'Not provided')"
   ]
  },
  {
   "cell_type": "code",
   "execution_count": 15,
   "id": "6ed8b20c-de63-4171-b9b7-cc71ac123e26",
   "metadata": {},
   "outputs": [
    {
     "data": {
      "text/html": [
       "<div>\n",
       "<style scoped>\n",
       "    .dataframe tbody tr th:only-of-type {\n",
       "        vertical-align: middle;\n",
       "    }\n",
       "\n",
       "    .dataframe tbody tr th {\n",
       "        vertical-align: top;\n",
       "    }\n",
       "\n",
       "    .dataframe thead th {\n",
       "        text-align: right;\n",
       "    }\n",
       "</style>\n",
       "<table border=\"1\" class=\"dataframe\">\n",
       "  <thead>\n",
       "    <tr style=\"text-align: right;\">\n",
       "      <th></th>\n",
       "      <th>count(employeename)</th>\n",
       "    </tr>\n",
       "  </thead>\n",
       "  <tbody>\n",
       "    <tr>\n",
       "      <th>0</th>\n",
       "      <td>148654</td>\n",
       "    </tr>\n",
       "  </tbody>\n",
       "</table>\n",
       "</div>"
      ],
      "text/plain": [
       "   count(employeename)\n",
       "0               148654"
      ]
     },
     "execution_count": 15,
     "metadata": {},
     "output_type": "execute_result"
    }
   ],
   "source": [
    "pd.read_sql_query('''select distinct count(employeename) from salaries ''', conn)"
   ]
  },
  {
   "cell_type": "markdown",
   "id": "0b98cf9a-5b33-4504-995a-4abab73cd3a8",
   "metadata": {
    "id": "0b98cf9a-5b33-4504-995a-4abab73cd3a8"
   },
   "source": [
    "4. Show All Employees Ordered By Their TotalPayBenefits In Descending Order? exclude ('Not Provided', 'Not provided')"
   ]
  },
  {
   "cell_type": "code",
   "execution_count": 16,
   "id": "b6a1d606-6356-4e38-b338-d40fb2615f64",
   "metadata": {},
   "outputs": [
    {
     "data": {
      "text/html": [
       "<div>\n",
       "<style scoped>\n",
       "    .dataframe tbody tr th:only-of-type {\n",
       "        vertical-align: middle;\n",
       "    }\n",
       "\n",
       "    .dataframe tbody tr th {\n",
       "        vertical-align: top;\n",
       "    }\n",
       "\n",
       "    .dataframe thead th {\n",
       "        text-align: right;\n",
       "    }\n",
       "</style>\n",
       "<table border=\"1\" class=\"dataframe\">\n",
       "  <thead>\n",
       "    <tr style=\"text-align: right;\">\n",
       "      <th></th>\n",
       "      <th>EmployeeName</th>\n",
       "      <th>JobTitle</th>\n",
       "      <th>TotalPayBenefits</th>\n",
       "    </tr>\n",
       "  </thead>\n",
       "  <tbody>\n",
       "    <tr>\n",
       "      <th>0</th>\n",
       "      <td>NATHANIEL FORD</td>\n",
       "      <td>GENERAL MANAGER-METROPOLITAN TRANSIT AUTHORITY</td>\n",
       "      <td>567595.43</td>\n",
       "    </tr>\n",
       "    <tr>\n",
       "      <th>1</th>\n",
       "      <td>GARY JIMENEZ</td>\n",
       "      <td>CAPTAIN III (POLICE DEPARTMENT)</td>\n",
       "      <td>538909.28</td>\n",
       "    </tr>\n",
       "    <tr>\n",
       "      <th>2</th>\n",
       "      <td>David Shinn</td>\n",
       "      <td>Deputy Chief 3</td>\n",
       "      <td>510732.68</td>\n",
       "    </tr>\n",
       "    <tr>\n",
       "      <th>3</th>\n",
       "      <td>Amy P Hart</td>\n",
       "      <td>Asst Med Examiner</td>\n",
       "      <td>479652.21</td>\n",
       "    </tr>\n",
       "    <tr>\n",
       "      <th>4</th>\n",
       "      <td>William J Coaker Jr.</td>\n",
       "      <td>Chief Investment Officer</td>\n",
       "      <td>436224.36</td>\n",
       "    </tr>\n",
       "    <tr>\n",
       "      <th>...</th>\n",
       "      <td>...</td>\n",
       "      <td>...</td>\n",
       "      <td>...</td>\n",
       "    </tr>\n",
       "    <tr>\n",
       "      <th>148645</th>\n",
       "      <td>Roy I Tillery</td>\n",
       "      <td>Custodian</td>\n",
       "      <td>0.00</td>\n",
       "    </tr>\n",
       "    <tr>\n",
       "      <th>148646</th>\n",
       "      <td>Timothy E Gibson</td>\n",
       "      <td>Police Officer 3</td>\n",
       "      <td>-2.73</td>\n",
       "    </tr>\n",
       "    <tr>\n",
       "      <th>148647</th>\n",
       "      <td>Mark E Laherty</td>\n",
       "      <td>Police Officer 3</td>\n",
       "      <td>-8.20</td>\n",
       "    </tr>\n",
       "    <tr>\n",
       "      <th>148648</th>\n",
       "      <td>David P Kucia</td>\n",
       "      <td>Police Officer 3</td>\n",
       "      <td>-33.89</td>\n",
       "    </tr>\n",
       "    <tr>\n",
       "      <th>148649</th>\n",
       "      <td>Joe Lopez</td>\n",
       "      <td>Counselor, Log Cabin Ranch</td>\n",
       "      <td>-618.13</td>\n",
       "    </tr>\n",
       "  </tbody>\n",
       "</table>\n",
       "<p>148650 rows × 3 columns</p>\n",
       "</div>"
      ],
      "text/plain": [
       "                EmployeeName                                        JobTitle  \\\n",
       "0             NATHANIEL FORD  GENERAL MANAGER-METROPOLITAN TRANSIT AUTHORITY   \n",
       "1               GARY JIMENEZ                 CAPTAIN III (POLICE DEPARTMENT)   \n",
       "2                David Shinn                                  Deputy Chief 3   \n",
       "3                 Amy P Hart                               Asst Med Examiner   \n",
       "4       William J Coaker Jr.                        Chief Investment Officer   \n",
       "...                      ...                                             ...   \n",
       "148645         Roy I Tillery                                       Custodian   \n",
       "148646      Timothy E Gibson                                Police Officer 3   \n",
       "148647        Mark E Laherty                                Police Officer 3   \n",
       "148648         David P Kucia                                Police Officer 3   \n",
       "148649             Joe Lopez                      Counselor, Log Cabin Ranch   \n",
       "\n",
       "        TotalPayBenefits  \n",
       "0              567595.43  \n",
       "1              538909.28  \n",
       "2              510732.68  \n",
       "3              479652.21  \n",
       "4              436224.36  \n",
       "...                  ...  \n",
       "148645              0.00  \n",
       "148646             -2.73  \n",
       "148647             -8.20  \n",
       "148648            -33.89  \n",
       "148649           -618.13  \n",
       "\n",
       "[148650 rows x 3 columns]"
      ]
     },
     "execution_count": 16,
     "metadata": {},
     "output_type": "execute_result"
    }
   ],
   "source": [
    "pd.read_sql_query(''' select employeename, jobtitle, totalpaybenefits from salaries where jobtitle not in ('Not Provided', 'Not provided') order by totalpaybenefits desc''', conn)"
   ]
  },
  {
   "cell_type": "markdown",
   "id": "91e2551f-c6b2-4a0e-965c-e75c845c053c",
   "metadata": {
    "id": "91e2551f-c6b2-4a0e-965c-e75c845c053c"
   },
   "source": [
    "5. Show All Employees With A TotalPaybenefits Value Between 125,000 and 150,000 And A Job Title 'Firefighter'? exclude ('Not Provided', 'Not provided')"
   ]
  },
  {
   "cell_type": "code",
   "execution_count": 17,
   "id": "61977577-d3e2-4285-98cf-0d67ccb34146",
   "metadata": {},
   "outputs": [
    {
     "data": {
      "text/html": [
       "<div>\n",
       "<style scoped>\n",
       "    .dataframe tbody tr th:only-of-type {\n",
       "        vertical-align: middle;\n",
       "    }\n",
       "\n",
       "    .dataframe tbody tr th {\n",
       "        vertical-align: top;\n",
       "    }\n",
       "\n",
       "    .dataframe thead th {\n",
       "        text-align: right;\n",
       "    }\n",
       "</style>\n",
       "<table border=\"1\" class=\"dataframe\">\n",
       "  <thead>\n",
       "    <tr style=\"text-align: right;\">\n",
       "      <th></th>\n",
       "      <th>EmployeeName</th>\n",
       "      <th>JobTitle</th>\n",
       "      <th>TotalPayBenefits</th>\n",
       "    </tr>\n",
       "  </thead>\n",
       "  <tbody>\n",
       "    <tr>\n",
       "      <th>0</th>\n",
       "      <td>Randall Henderson</td>\n",
       "      <td>Firefighter</td>\n",
       "      <td>147912.75</td>\n",
       "    </tr>\n",
       "    <tr>\n",
       "      <th>1</th>\n",
       "      <td>Virginia Cheung</td>\n",
       "      <td>Firefighter</td>\n",
       "      <td>147862.14</td>\n",
       "    </tr>\n",
       "    <tr>\n",
       "      <th>2</th>\n",
       "      <td>Travis Hemenez</td>\n",
       "      <td>Firefighter</td>\n",
       "      <td>147664.12</td>\n",
       "    </tr>\n",
       "    <tr>\n",
       "      <th>3</th>\n",
       "      <td>Gail Readdie</td>\n",
       "      <td>Firefighter</td>\n",
       "      <td>147452.17</td>\n",
       "    </tr>\n",
       "    <tr>\n",
       "      <th>4</th>\n",
       "      <td>Gregory Ginotti</td>\n",
       "      <td>Firefighter</td>\n",
       "      <td>147216.47</td>\n",
       "    </tr>\n",
       "    <tr>\n",
       "      <th>...</th>\n",
       "      <td>...</td>\n",
       "      <td>...</td>\n",
       "      <td>...</td>\n",
       "    </tr>\n",
       "    <tr>\n",
       "      <th>110</th>\n",
       "      <td>Stephen J Kloster</td>\n",
       "      <td>Firefighter</td>\n",
       "      <td>126784.13</td>\n",
       "    </tr>\n",
       "    <tr>\n",
       "      <th>111</th>\n",
       "      <td>Jeffrey D Ryan</td>\n",
       "      <td>Firefighter</td>\n",
       "      <td>126687.13</td>\n",
       "    </tr>\n",
       "    <tr>\n",
       "      <th>112</th>\n",
       "      <td>Jovan R Blake</td>\n",
       "      <td>Firefighter</td>\n",
       "      <td>126169.62</td>\n",
       "    </tr>\n",
       "    <tr>\n",
       "      <th>113</th>\n",
       "      <td>Dino M Cafferata</td>\n",
       "      <td>Firefighter</td>\n",
       "      <td>125680.52</td>\n",
       "    </tr>\n",
       "    <tr>\n",
       "      <th>114</th>\n",
       "      <td>Jason V Cannata</td>\n",
       "      <td>Firefighter</td>\n",
       "      <td>125218.12</td>\n",
       "    </tr>\n",
       "  </tbody>\n",
       "</table>\n",
       "<p>115 rows × 3 columns</p>\n",
       "</div>"
      ],
      "text/plain": [
       "          EmployeeName     JobTitle  TotalPayBenefits\n",
       "0    Randall Henderson  Firefighter         147912.75\n",
       "1      Virginia Cheung  Firefighter         147862.14\n",
       "2       Travis Hemenez  Firefighter         147664.12\n",
       "3         Gail Readdie  Firefighter         147452.17\n",
       "4      Gregory Ginotti  Firefighter         147216.47\n",
       "..                 ...          ...               ...\n",
       "110  Stephen J Kloster  Firefighter         126784.13\n",
       "111     Jeffrey D Ryan  Firefighter         126687.13\n",
       "112      Jovan R Blake  Firefighter         126169.62\n",
       "113   Dino M Cafferata  Firefighter         125680.52\n",
       "114    Jason V Cannata  Firefighter         125218.12\n",
       "\n",
       "[115 rows x 3 columns]"
      ]
     },
     "execution_count": 17,
     "metadata": {},
     "output_type": "execute_result"
    }
   ],
   "source": [
    "pd.read_sql_query('''select employeename, jobtitle, totalpaybenefits from salaries where totalpaybenefits between 125000 and 150000 and jobtitle not in('Not Provided', 'Not provided') and jobtitle == 'Firefighter'  ''', conn)"
   ]
  },
  {
   "cell_type": "markdown",
   "id": "f4599fa4-97d3-478a-81bc-81f40e49cd61",
   "metadata": {
    "id": "f4599fa4-97d3-478a-81bc-81f40e49cd61"
   },
   "source": [
    "6. How many employees have no overtime pay or other pay? exclude ('Not Provided', 'Not provided')\n"
   ]
  },
  {
   "cell_type": "code",
   "execution_count": 18,
   "id": "77cbe847-f747-4b3c-bd6d-2cc4a9c4f8d6",
   "metadata": {},
   "outputs": [
    {
     "data": {
      "text/html": [
       "<div>\n",
       "<style scoped>\n",
       "    .dataframe tbody tr th:only-of-type {\n",
       "        vertical-align: middle;\n",
       "    }\n",
       "\n",
       "    .dataframe tbody tr th {\n",
       "        vertical-align: top;\n",
       "    }\n",
       "\n",
       "    .dataframe thead th {\n",
       "        text-align: right;\n",
       "    }\n",
       "</style>\n",
       "<table border=\"1\" class=\"dataframe\">\n",
       "  <thead>\n",
       "    <tr style=\"text-align: right;\">\n",
       "      <th></th>\n",
       "      <th>count(employeename)</th>\n",
       "    </tr>\n",
       "  </thead>\n",
       "  <tbody>\n",
       "    <tr>\n",
       "      <th>0</th>\n",
       "      <td>84266</td>\n",
       "    </tr>\n",
       "  </tbody>\n",
       "</table>\n",
       "</div>"
      ],
      "text/plain": [
       "   count(employeename)\n",
       "0                84266"
      ]
     },
     "execution_count": 18,
     "metadata": {},
     "output_type": "execute_result"
    }
   ],
   "source": [
    "pd.read_sql_query('''select count(employeename) from salaries where employeename not In('Not Provided', 'Not provided') and overtimepay ==0  or otherpay ==0''',conn)"
   ]
  },
  {
   "cell_type": "code",
   "execution_count": 19,
   "id": "c413d213-6929-49e8-b7ed-c4fdf16eb59b",
   "metadata": {},
   "outputs": [
    {
     "data": {
      "text/html": [
       "<div>\n",
       "<style scoped>\n",
       "    .dataframe tbody tr th:only-of-type {\n",
       "        vertical-align: middle;\n",
       "    }\n",
       "\n",
       "    .dataframe tbody tr th {\n",
       "        vertical-align: top;\n",
       "    }\n",
       "\n",
       "    .dataframe thead th {\n",
       "        text-align: right;\n",
       "    }\n",
       "</style>\n",
       "<table border=\"1\" class=\"dataframe\">\n",
       "  <thead>\n",
       "    <tr style=\"text-align: right;\">\n",
       "      <th></th>\n",
       "      <th>count(employeename)</th>\n",
       "    </tr>\n",
       "  </thead>\n",
       "  <tbody>\n",
       "    <tr>\n",
       "      <th>0</th>\n",
       "      <td>34655</td>\n",
       "    </tr>\n",
       "  </tbody>\n",
       "</table>\n",
       "</div>"
      ],
      "text/plain": [
       "   count(employeename)\n",
       "0                34655"
      ]
     },
     "execution_count": 19,
     "metadata": {},
     "output_type": "execute_result"
    }
   ],
   "source": [
    "pd.read_sql_query('''select count(employeename) from Salaries\n",
    "where EmployeeName Not In(\"Not Provided\", \"Not provided\") and OvertimePay == 0 and OtherPay == 0\n",
    "''', conn)"
   ]
  },
  {
   "cell_type": "markdown",
   "id": "bec39db1-e3c4-4778-b10e-92a49e29177b",
   "metadata": {
    "id": "bec39db1-e3c4-4778-b10e-92a49e29177b"
   },
   "source": [
    "7. Show top 10 employees having (overtimepay+OtherPay) in bar plot?  exclude ('Not Provided', 'Not provided')"
   ]
  },
  {
   "cell_type": "code",
   "execution_count": null,
   "id": "7b9884ba-7934-4a04-9c76-aea614811aa4",
   "metadata": {},
   "outputs": [],
   "source": []
  },
  {
   "cell_type": "markdown",
   "id": "fff50d33-c698-4c98-b88d-24bd3c792a29",
   "metadata": {
    "id": "fff50d33-c698-4c98-b88d-24bd3c792a29"
   },
   "source": [
    "8. Show The Average of BasePay, OverTime, OtherPay for all employees in pie chart? exclude ('Not Provided', 'Not provided')\n"
   ]
  },
  {
   "cell_type": "code",
   "execution_count": 20,
   "id": "b821594a-5d71-459f-ac97-f3970e67fda5",
   "metadata": {},
   "outputs": [
    {
     "data": {
      "text/html": [
       "<div>\n",
       "<style scoped>\n",
       "    .dataframe tbody tr th:only-of-type {\n",
       "        vertical-align: middle;\n",
       "    }\n",
       "\n",
       "    .dataframe tbody tr th {\n",
       "        vertical-align: top;\n",
       "    }\n",
       "\n",
       "    .dataframe thead th {\n",
       "        text-align: right;\n",
       "    }\n",
       "</style>\n",
       "<table border=\"1\" class=\"dataframe\">\n",
       "  <thead>\n",
       "    <tr style=\"text-align: right;\">\n",
       "      <th></th>\n",
       "      <th>avg(basepay)</th>\n",
       "      <th>avg(overtimepay)</th>\n",
       "      <th>avg(otherpay)</th>\n",
       "    </tr>\n",
       "  </thead>\n",
       "  <tbody>\n",
       "    <tr>\n",
       "      <th>0</th>\n",
       "      <td>66053.729288</td>\n",
       "      <td>5065.923568</td>\n",
       "      <td>3648.669115</td>\n",
       "    </tr>\n",
       "  </tbody>\n",
       "</table>\n",
       "</div>"
      ],
      "text/plain": [
       "   avg(basepay)  avg(overtimepay)  avg(otherpay)\n",
       "0  66053.729288       5065.923568    3648.669115"
      ]
     },
     "execution_count": 20,
     "metadata": {},
     "output_type": "execute_result"
    }
   ],
   "source": [
    "pd.read_sql_query(''' select avg(basepay), avg(overtimepay), avg(otherpay) from salaries''', conn)"
   ]
  },
  {
   "cell_type": "code",
   "execution_count": 21,
   "id": "7cfbd0f6-4816-4a04-abac-a3077e664a67",
   "metadata": {},
   "outputs": [],
   "source": [
    "p = pd.read_sql_query(''' select avg(basepay), avg(overtimepay), avg(otherpay) from salaries''', conn)\n",
    "\n",
    "\n"
   ]
  },
  {
   "cell_type": "code",
   "execution_count": 22,
   "id": "7da7095b-5996-4b40-abe1-f2b3c2490989",
   "metadata": {},
   "outputs": [],
   "source": [
    "import numpy as np\n",
    "import matplotlib.pyplot as plt"
   ]
  },
  {
   "cell_type": "code",
   "execution_count": 23,
   "id": "c50050b8-0111-4eb3-b771-8634e79d2c27",
   "metadata": {},
   "outputs": [
    {
     "name": "stdout",
     "output_type": "stream",
     "text": [
      "[78.08886798 37.11934665 60.44190504  3.47204937 26.26642641] [68.20033083 10.54290363 18.57238325 54.33331468 49.60944111]\n"
     ]
    }
   ],
   "source": [
    "x_data = np.random.random(5)*100\n",
    "y_data = np.random.random(5)*100\n",
    "print(x_data, y_data)"
   ]
  },
  {
   "cell_type": "code",
   "execution_count": 24,
   "id": "d7f1a913-0acd-4eca-b25a-5b80d5bbdcec",
   "metadata": {},
   "outputs": [
    {
     "data": {
      "image/png": "[encoded data removed]",
      "text/plain": [
       "<Figure size 640x480 with 1 Axes>"
      ]
     },
     "metadata": {},
     "output_type": "display_data"
    }
   ],
   "source": [
    "plt.scatter(x_data, y_data)\n",
    "plt.show()"
   ]
  },
  {
   "cell_type": "code",
   "execution_count": 25,
   "id": "19c3d125-b299-453f-ad08-2a7c5f1f4433",
   "metadata": {},
   "outputs": [
    {
     "data": {
      "text/plain": [
       "<BarContainer object of 4 artists>"
      ]
     },
     "execution_count": 25,
     "metadata": {},
     "output_type": "execute_result"
    },
    {
     "data": {
      "image/png": "[encoded data removed]",
      "text/plain": [
       "<Figure size 640x480 with 1 Axes>"
      ]
     },
     "metadata": {},
     "output_type": "display_data"
    }
   ],
   "source": [
    "lang = ['java', 'c++', 'python', 'basic'] \n",
    "votes = [40,60,36,69]\n",
    "\n",
    "plt.bar(lang,votes, color='red', ecolor='yellow')"
   ]
  },
  {
   "cell_type": "code",
   "execution_count": 26,
   "id": "81918319-cda7-48a4-aa0d-d1402c617859",
   "metadata": {},
   "outputs": [
    {
     "data": {
      "text/plain": [
       "array([16.77300117, 15.85318642, 13.32586964, 15.37060898, 10.99103174])"
      ]
     },
     "execution_count": 26,
     "metadata": {},
     "output_type": "execute_result"
    }
   ],
   "source": [
    "age= np.random.normal(15, 2,5)\n",
    "age"
   ]
  },
  {
   "cell_type": "code",
   "execution_count": 27,
   "id": "be904287-4678-4877-895a-c4f9a783cbd9",
   "metadata": {},
   "outputs": [
    {
     "data": {
      "text/plain": [
       "(array([1., 0., 0., 0., 1., 0., 0., 1., 1., 1.]),\n",
       " array([10.99103174, 11.56922868, 12.14742563, 12.72562257, 13.30381951,\n",
       "        13.88201646, 14.4602134 , 15.03841034, 15.61660729, 16.19480423,\n",
       "        16.77300117]),\n",
       " <BarContainer object of 10 artists>)"
      ]
     },
     "execution_count": 27,
     "metadata": {},
     "output_type": "execute_result"
    },
    {
     "data": {
      "image/png": "[encoded data removed]",
      "text/plain": [
       "<Figure size 640x480 with 1 Axes>"
      ]
     },
     "metadata": {},
     "output_type": "display_data"
    }
   ],
   "source": [
    "plt.hist(age, bins = 10)"
   ]
  },
  {
   "cell_type": "code",
   "execution_count": 28,
   "id": "125f8f90-8fff-46ac-b632-6a8076ead4de",
   "metadata": {},
   "outputs": [
    {
     "data": {
      "text/plain": [
       "<matplotlib.collections.PathCollection at 0x1e5c6a86850>"
      ]
     },
     "execution_count": 28,
     "metadata": {},
     "output_type": "execute_result"
    },
    {
     "data": {
      "image/png": "[encoded data removed]",
      "text/plain": [
       "<Figure size 640x480 with 1 Axes>"
      ]
     },
     "metadata": {},
     "output_type": "display_data"
    }
   ],
   "source": [
    "plt.scatter(x_data, y_data, marker='*', c='blue', s=1000 )"
   ]
  },
  {
   "cell_type": "code",
   "execution_count": 29,
   "id": "784470b6-ded5-42b0-a813-b940d00ea928",
   "metadata": {},
   "outputs": [
    {
     "data": {
      "text/plain": [
       "[<matplotlib.lines.Line2D at 0x1e5c6b16710>]"
      ]
     },
     "execution_count": 29,
     "metadata": {},
     "output_type": "execute_result"
    },
    {
     "data": {
      "image/png": "[encoded data removed]",
      "text/plain": [
       "<Figure size 640x480 with 1 Axes>"
      ]
     },
     "metadata": {},
     "output_type": "display_data"
    }
   ],
   "source": [
    "plt.plot(x_data, y_data, linewidth=1, c='yellow', marker='s')"
   ]
  },
  {
   "cell_type": "code",
   "execution_count": 30,
   "id": "4a341bb1-fe52-4a72-b946-3555ead50a1a",
   "metadata": {},
   "outputs": [
    {
     "name": "stdout",
     "output_type": "stream",
     "text": [
      "['Solarize_Light2', '_classic_test_patch', '_mpl-gallery', '_mpl-gallery-nogrid', 'bmh', 'classic', 'dark_background', 'fast', 'fivethirtyeight', 'ggplot', 'grayscale', 'petroff10', 'seaborn-v0_8', 'seaborn-v0_8-bright', 'seaborn-v0_8-colorblind', 'seaborn-v0_8-dark', 'seaborn-v0_8-dark-palette', 'seaborn-v0_8-darkgrid', 'seaborn-v0_8-deep', 'seaborn-v0_8-muted', 'seaborn-v0_8-notebook', 'seaborn-v0_8-paper', 'seaborn-v0_8-pastel', 'seaborn-v0_8-poster', 'seaborn-v0_8-talk', 'seaborn-v0_8-ticks', 'seaborn-v0_8-white', 'seaborn-v0_8-whitegrid', 'tableau-colorblind10']\n"
     ]
    }
   ],
   "source": [
    "print(plt.style.available)"
   ]
  },
  {
   "cell_type": "code",
   "execution_count": 37,
   "id": "77910946-ee50-40f0-87ba-a0776c41b3ea",
   "metadata": {},
   "outputs": [],
   "source": [
    "plt.style.use('petroff10')"
   ]
  },
  {
   "cell_type": "code",
   "execution_count": 39,
   "id": "16312d86-113d-45b9-a97b-2485d2dcece5",
   "metadata": {},
   "outputs": [
    {
     "data": {
      "text/plain": [
       "['Solarize_Light2',\n",
       " '_classic_test_patch',\n",
       " '_mpl-gallery',\n",
       " '_mpl-gallery-nogrid',\n",
       " 'bmh',\n",
       " 'classic',\n",
       " 'dark_background',\n",
       " 'fast',\n",
       " 'fivethirtyeight',\n",
       " 'ggplot',\n",
       " 'grayscale',\n",
       " 'petroff10',\n",
       " 'seaborn-v0_8',\n",
       " 'seaborn-v0_8-bright',\n",
       " 'seaborn-v0_8-colorblind',\n",
       " 'seaborn-v0_8-dark',\n",
       " 'seaborn-v0_8-dark-palette',\n",
       " 'seaborn-v0_8-darkgrid',\n",
       " 'seaborn-v0_8-deep',\n",
       " 'seaborn-v0_8-muted',\n",
       " 'seaborn-v0_8-notebook',\n",
       " 'seaborn-v0_8-paper',\n",
       " 'seaborn-v0_8-pastel',\n",
       " 'seaborn-v0_8-poster',\n",
       " 'seaborn-v0_8-talk',\n",
       " 'seaborn-v0_8-ticks',\n",
       " 'seaborn-v0_8-white',\n",
       " 'seaborn-v0_8-whitegrid',\n",
       " 'tableau-colorblind10']"
      ]
     },
     "execution_count": 39,
     "metadata": {},
     "output_type": "execute_result"
    }
   ],
   "source": [
    "plt.style.available"
   ]
  },
  {
   "cell_type": "code",
   "execution_count": 38,
   "id": "4e717b44-1d37-49e6-b032-5c8e6bda5ba4",
   "metadata": {},
   "outputs": [
    {
     "data": {
      "image/png": "[encoded data removed]",
      "text/plain": [
       "<Figure size 640x480 with 1 Axes>"
      ]
     },
     "metadata": {},
     "output_type": "display_data"
    }
   ],
   "source": [
    "\n",
    "plt.bar(lang, votes, color=['red','green','yellow'], edgecolor=['green','yellow', 'red'], alpha=.3)\n",
    "plt.title('Votes data for languages')\n",
    "plt.ylabel('votes')\n",
    "plt.xlabel('languages')\n",
    "ytick = list(range(0,80,5))\n",
    "#plt.yticks(ytick, [f'{x}k' for x in ytick])\n",
    "plt.yticks([0,10,20,30,40,50,60,70,80])\n",
    "plt.show()"
   ]
  },
  {
   "cell_type": "code",
   "execution_count": 36,
   "id": "a51334bb-345b-4a41-9fc0-bb52573f2974",
   "metadata": {},
   "outputs": [
    {
     "data": {
      "text/plain": [
       "([<matplotlib.patches.Wedge at 0x1e5c6363b10>,\n",
       "  <matplotlib.patches.Wedge at 0x1e5c6363890>,\n",
       "  <matplotlib.patches.Wedge at 0x1e5c6b4f4d0>,\n",
       "  <matplotlib.patches.Wedge at 0x1e5c6b4fb10>],\n",
       " [Text(0.9815152542641761, 0.6903823619174596, 'java'),\n",
       "  Text(-0.5979241775767966, 0.923302051264434, 'c++'),\n",
       "  Text(-0.9781867324960154, -0.5031408514211195, 'python'),\n",
       "  Text(0.54023910654186, -0.9581971132094131, 'basic')])"
      ]
     },
     "execution_count": 36,
     "metadata": {},
     "output_type": "execute_result"
    },
    {
     "data": {
      "image/png": "[encoded data removed]",
      "text/plain": [
       "<Figure size 640x480 with 1 Axes>"
      ]
     },
     "metadata": {},
     "output_type": "display_data"
    }
   ],
   "source": [
    "plt.pie(votes, labels = lang, explode=[0.1,0,0,0])"
   ]
  },
  {
   "cell_type": "markdown",
   "id": "f5559339-5e9b-4bfe-a3a8-4010627191a7",
   "metadata": {
    "id": "f5559339-5e9b-4bfe-a3a8-4010627191a7"
   },
   "source": [
    "9. Get the average TotalPayBenefits for each JobTitle, but only for those with an average pay greater than 75000? exclude ('Not Provided', 'Not provided')\n"
   ]
  },
  {
   "cell_type": "markdown",
   "id": "04b14af2-dd48-4767-a814-63385e0bddb6",
   "metadata": {
    "id": "04b14af2-dd48-4767-a814-63385e0bddb6"
   },
   "source": [
    "10. Get the number of employees (EmployeeName) for each JobTitle, where the count is greater than 10?  exclude ('Not Provided', 'Not provided')\n"
   ]
  },
  {
   "cell_type": "code",
   "execution_count": 41,
   "id": "b8647f34-358b-4ef4-bd5b-ec5466d2d051",
   "metadata": {
    "id": "b8647f34-358b-4ef4-bd5b-ec5466d2d051"
   },
   "outputs": [],
   "source": [
    "df = list([3,4,5,6,7])"
   ]
  },
  {
   "cell_type": "code",
   "execution_count": 42,
   "id": "ba7b6f95-5afa-4efd-94a1-d11fe0563b3f",
   "metadata": {
    "id": "ba7b6f95-5afa-4efd-94a1-d11fe0563b3f"
   },
   "outputs": [
    {
     "data": {
      "text/plain": [
       "[3, 4, 5, 6, 7]"
      ]
     },
     "execution_count": 42,
     "metadata": {},
     "output_type": "execute_result"
    }
   ],
   "source": [
    "df"
   ]
  },
  {
   "cell_type": "code",
   "execution_count": 43,
   "id": "8253c95b-8134-4f76-a7c5-07b3602df7fb",
   "metadata": {
    "id": "8253c95b-8134-4f76-a7c5-07b3602df7fb"
   },
   "outputs": [
    {
     "data": {
      "text/plain": [
       "list"
      ]
     },
     "execution_count": 43,
     "metadata": {},
     "output_type": "execute_result"
    }
   ],
   "source": [
    "type(df)"
   ]
  },
  {
   "cell_type": "code",
   "execution_count": 56,
   "id": "1e3f00b4-a57a-4f81-9d07-1bc7f82cfcdd",
   "metadata": {
    "id": "1e3f00b4-a57a-4f81-9d07-1bc7f82cfcdd"
   },
   "outputs": [
    {
     "data": {
      "image/png": "[encoded data removed]",
      "text/plain": [
       "<Figure size 640x480 with 1 Axes>"
      ]
     },
     "metadata": {},
     "output_type": "display_data"
    }
   ],
   "source": [
    "ax = plt.axes(projection = \"3d\")\n",
    "x = [1,2,3,5,6,7]\n",
    "y = [2,3,5,6,7,8]\n",
    "z = [4,8,12,14,18,22]\n",
    "\n",
    "ax.plot(x,y,z)\n",
    "plt.show()"
   ]
  },
  {
   "cell_type": "code",
   "execution_count": null,
   "id": "c1991e88-96f5-4dec-b2f5-0663ff4b96b2",
   "metadata": {
    "id": "c1991e88-96f5-4dec-b2f5-0663ff4b96b2"
   },
   "outputs": [],
   "source": []
  }
 ],
 "metadata": {
  "colab": {
   "provenance": []
  },
  "kernelspec": {
   "display_name": "Python 3 (ipykernel)",
   "language": "python",
   "name": "python3"
  },
  "language_info": {
   "codemirror_mode": {
    "name": "ipython",
    "version": 3
   },
   "file_extension": ".py",
   "mimetype": "text/x-python",
   "name": "python",
   "nbconvert_exporter": "python",
   "pygments_lexer": "ipython3",
   "version": "3.13.2"
  }
 },
 "nbformat": 4,
 "nbformat_minor": 5
}
