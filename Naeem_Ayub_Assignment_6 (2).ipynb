{
 "cells": [
  {
   "cell_type": "code",
   "execution_count": null,
   "metadata": {
    "id": "TUJlPMik06eH"
   },
   "outputs": [],
   "source": [
    "# Question 1:\n",
    "# In a transportation system, we have two classes:\n",
    "#  ElectricVehicle: A class that has a method charge() to charge the vehicle.\n",
    "#  GasolineVehicle: A class that has a method fuel_up() to refuel the vehicle.\n",
    "# Create a class HybridCar that inherits from both ElectricVehicle and GasolineVehicle. The HybridCar\n",
    "# class should have a method drive() that prints a message showing the car is being driven. Instantiate\n",
    "# an object of class HybridCar and demonstrate the usage of charge(), fuel_up(), and drive().\n",
    "# Expected Output:\n",
    "#  Charging the electric vehicle.\n",
    "#  Filling up the gasoline tank.\n",
    "#  Driving the hybrid car.\n"
   ]
  },
  {
   "cell_type": "code",
   "execution_count": 1,
   "metadata": {
    "id": "XSmmoS2F1GPF"
   },
   "outputs": [],
   "source": [
    "class ElectricVehicle:\n",
    "  def charge(self):\n",
    "    return \"Charging the Electric vehicle\"\n",
    "\n",
    "class GasolineVehicle:\n",
    "  def fuel_up(self):\n",
    "    return \"Filling up the gasoline vehicle\"\n",
    "\n",
    "class HybridCar(ElectricVehicle, GasolineVehicle):\n",
    "  def drive(self):\n",
    "    return \"driving the hybrid car\""
   ]
  },
  {
   "cell_type": "code",
   "execution_count": 2,
   "metadata": {
    "id": "H9clA9Uv1fKe"
   },
   "outputs": [],
   "source": [
    "my_hybridcar = HybridCar()"
   ]
  },
  {
   "cell_type": "code",
   "execution_count": 3,
   "metadata": {
    "colab": {
     "base_uri": "https://localhost:8080/"
    },
    "id": "tXyc4kZ92ufM",
    "outputId": "4be0cd86-4b16-4cd5-c1c2-c207a276df41"
   },
   "outputs": [
    {
     "name": "stdout",
     "output_type": "stream",
     "text": [
      "Charging the Electric vehicle\n",
      "driving the hybrid car\n",
      "Filling up the gasoline vehicle\n"
     ]
    }
   ],
   "source": [
    "print(my_hybridcar.charge())\n",
    "print(my_hybridcar.drive())\n",
    "print(my_hybridcar.fuel_up())"
   ]
  },
  {
   "cell_type": "code",
   "execution_count": null,
   "metadata": {
    "id": "gqcOopa-3LJd"
   },
   "outputs": [],
   "source": [
    "# Question 2:\n",
    "# Create a class Animal with a method make_sound(), which prints \"Animal makes a sound\". Then,\n",
    "# create two subclasses:\n",
    "#  Lion: Override the make_sound() method to print \"Roar\".\n",
    "#  Cat: Override the make_sound() method to print \"Meow\".\n",
    "# Demonstrate polymorphism by calling make_sound() on instances of Lion and Cat."
   ]
  },
  {
   "cell_type": "code",
   "execution_count": 5,
   "metadata": {
    "id": "6p0MP9A16Kpd"
   },
   "outputs": [],
   "source": [
    "class Animal:\n",
    "  def make_sound(self):\n",
    "    return print(\"Animal make a sound\")\n",
    "\n",
    "class Lion(Animal):\n",
    "  def make_sound(self):\n",
    "    return print(\"Roar\")\n",
    "\n",
    "\n",
    "class Cat(Animal):\n",
    "  def make_sound(self):\n",
    "    return print(\"Meown\")\n",
    "\n",
    "\n",
    "\n"
   ]
  },
  {
   "cell_type": "code",
   "execution_count": 6,
   "metadata": {
    "colab": {
     "base_uri": "https://localhost:8080/"
    },
    "id": "_jxPl74a9gNg",
    "outputId": "4de1c9cc-34e8-4ffc-ccc6-749903a20da7"
   },
   "outputs": [
    {
     "name": "stdout",
     "output_type": "stream",
     "text": [
      "Roar\n",
      "Meown\n"
     ]
    }
   ],
   "source": [
    "my_lion = Lion()\n",
    "my_cat = Cat()\n",
    "my_lion.make_sound()\n",
    "my_cat.make_sound()"
   ]
  },
  {
   "cell_type": "code",
   "execution_count": null,
   "metadata": {
    "id": "TL4DVdhI-sGA"
   },
   "outputs": [],
   "source": [
    "# Question 3:\n",
    "# Create an abstract class SmartHomeDevice with two abstract methods:\n",
    "#  turn_on() (to turn the device on)\n",
    "#  turn_off() (to turn the device off)\n",
    "# Then, create a Light class that inherits from SmartHomeDevice. Implement the methods turn_on()\n",
    "# and turn_off() for a light device. The turn_on() method should print \"Light is ON\", and the turn_off()\n",
    "# method should print \"Light is OFF\".\n",
    "# Write a Python program to control the light device in a smart home.\n",
    "# Expected Output:\n",
    "#  Turning on the light...\n",
    "#  Light is ON\n",
    "#  Turning off the light..."
   ]
  },
  {
   "cell_type": "code",
   "execution_count": 8,
   "metadata": {
    "colab": {
     "base_uri": "https://localhost:8080/"
    },
    "id": "Yj4QCn-HMuzm",
    "outputId": "4f93a410-84db-44ca-fec1-92e6384013d3"
   },
   "outputs": [
    {
     "name": "stdout",
     "output_type": "stream",
     "text": [
      "Turning on the light\n",
      "Light is ON\n",
      "Turning off the Light\n",
      "Light is OFF\n"
     ]
    }
   ],
   "source": [
    "class SmartHomeDevice:\n",
    "  def turn_on(self):\n",
    "    self.electric_switch = True\n",
    "    print(\"Turning on the light\")\n",
    "    print(\"Light is ON\")\n",
    "\n",
    "  def turn_off(self):\n",
    "    self.electric_switch = False\n",
    "    print(\"Turning off the Light\")\n",
    "    print(\"Light is OFF\")\n",
    "\n",
    "\n",
    "class Light(SmartHomeDevice):\n",
    "  pass\n",
    "\n",
    "\n",
    "light_device = SmartHomeDevice()\n",
    "\n",
    "light_device.turn_on()\n",
    "light_device.turn_off()\n",
    "\n"
   ]
  },
  {
   "cell_type": "code",
   "execution_count": null,
   "metadata": {
    "id": "nHCbTDL6Q3oq"
   },
   "outputs": [],
   "source": [
    "# Question 4:\n",
    "# Create a class Greeting with a method greet() that can handle different numbers of arguments.\n",
    "#  If no argument is passed, it should print \"Hello!\".\n",
    "#  If one argument (a name) is passed, it should print \"Hello, !\".\n",
    "#  If two arguments (a name and a greeting) are passed, it should print the greeting with the\n",
    "# name (e.g., \"Good morning, !\").\n",
    "# Simulate method overloading using default arguments or variable-length arguments, and\n",
    "# demonstrate the polymorphic behavior by calling greet() with different numbers of arguments.\n",
    "# Expected Output:\n",
    "#  Hello!\n",
    "#  Hello, John!\n",
    "#  Good morning, John!"
   ]
  },
  {
   "cell_type": "code",
   "execution_count": null,
   "metadata": {
    "colab": {
     "base_uri": "https://localhost:8080/"
    },
    "id": "fqTMLKF4axQw",
    "outputId": "34d53da4-6d78-46fb-910d-9b5c21c7c696"
   },
   "outputs": [
    {
     "name": "stdout",
     "output_type": "stream",
     "text": [
      "Hello!\n",
      "Hello John !\n",
      "Good Morning, john!\n"
     ]
    }
   ],
   "source": [
    "class Greeting:\n",
    "  def __init__(self, name=\"\", greeting=\"\"):\n",
    "    self.name=name\n",
    "    self.greeting=greeting\n",
    "  def greet(self, name=\"\", greeting=\"\"):\n",
    "    if name==\"\":\n",
    "      print(\"Hello!\")\n",
    "    elif name!=\"\" and greeting==\"\":\n",
    "      print(\"Hello\", name,\"!\")\n",
    "    else:\n",
    "      print(f\"{greeting}, {name}!\" )\n",
    "\n",
    "test_greeting = Greeting()\n",
    "test_greeting.greet()\n",
    "test_greeting.greet(\"John\")\n",
    "test_greeting.greet(\"john\", \"Good Morning\")\n",
    "\n"
   ]
  },
  {
   "cell_type": "code",
   "execution_count": null,
   "metadata": {
    "id": "msb4mtcKcl7R"
   },
   "outputs": [],
   "source": [
    "# Question 5:\n",
    "# Create a class CarRental to manage the rental of cars.\n",
    "#  The class should have private attributes for the car's name, price per day, and the number of\n",
    "# rental days.\n",
    "#  Create a method to calculate the total rental cost and a method to set the rental days.\n",
    "#  Use getter and setter methods for modifying and accessing the car's information.\n",
    "# Demonstrate encapsulation by creating an object of CarRental and calculating the total rental cost.\n",
    "# Expected Output:\n",
    "#  Car Name: Toyota Camry\n",
    "#  Price Per Day: $50\n",
    "#  Rental Days: 5\n",
    "#  Total Rental Cost: $250"
   ]
  },
  {
   "cell_type": "code",
   "execution_count": 68,
   "metadata": {
    "colab": {
     "base_uri": "https://localhost:8080/",
     "height": 176
    },
    "id": "zzEXj1yoeLpR",
    "outputId": "8605a7bf-8ba2-4041-de61-8d06305c0585"
   },
   "outputs": [],
   "source": [
    "class CarRental:\n",
    "    def __init__(self, carname,price,days):\n",
    "        self.__carname=carname\n",
    "        self.__price=price\n",
    "        self.__days=days\n",
    "   \n",
    "    def total_cost(self):\n",
    "        print(f'Car name: {self.__carname}')\n",
    "        print(f'Price per day: {self.__price}')\n",
    "        print(f'Days : {self.__days}')\n",
    "        print(f'Total Rental Cost\" {self.__days*self.__price}')\n",
    "    \n",
    "    def set_days(self,days):\n",
    "        self.__days=days\n",
    "\n",
    "    def get_car_info(self):\n",
    "        print(f\"car name:{self.__carname} , car price: {self.__price}\")\n",
    "        \n",
    "    def set_car_info (self, new_carname, new_price, new_no_of_days):\n",
    "        self.__carname = new_carname\n",
    "        self.__price = new_price\n",
    "        self.__days = new_no_of_days\n",
    "        \n",
    "\n",
    "\n",
    "rented_a_car = CarRental(\"Toyota\", 100, 10)  # making a new object \n"
   ]
  },
  {
   "cell_type": "code",
   "execution_count": 69,
   "metadata": {},
   "outputs": [],
   "source": [
    "rented_a_car.set_days(5)   # rental days updated through method."
   ]
  },
  {
   "cell_type": "code",
   "execution_count": 70,
   "metadata": {},
   "outputs": [
    {
     "name": "stdout",
     "output_type": "stream",
     "text": [
      "Car name: Toyota\n",
      "Price per day: 100\n",
      "Days : 5\n",
      "Total Rental Cost\" 500\n"
     ]
    }
   ],
   "source": [
    "rented_a_car.total_cost() # calculating rental cost"
   ]
  },
  {
   "cell_type": "code",
   "execution_count": 71,
   "metadata": {
    "id": "6nyHgvMFe2HT"
   },
   "outputs": [],
   "source": [
    "rented_a_car.set_car_info(\"Merc\",500,10) \n",
    "#usering setter method to update car info through setter method\n"
   ]
  },
  {
   "cell_type": "code",
   "execution_count": 72,
   "metadata": {},
   "outputs": [
    {
     "name": "stdout",
     "output_type": "stream",
     "text": [
      "car name:Merc , car price: 500\n"
     ]
    }
   ],
   "source": [
    "rented_a_car.get_car_info()        # getting updated car info through getter method"
   ]
  },
  {
   "cell_type": "code",
   "execution_count": 73,
   "metadata": {},
   "outputs": [
    {
     "name": "stdout",
     "output_type": "stream",
     "text": [
      "Car name: Merc\n",
      "Price per day: 500\n",
      "Days : 10\n",
      "Total Rental Cost\" 5000\n"
     ]
    }
   ],
   "source": [
    "rented_a_car.total_cost()    # again getting updated car cost"
   ]
  },
  {
   "cell_type": "code",
   "execution_count": null,
   "metadata": {},
   "outputs": [],
   "source": []
  },
  {
   "cell_type": "code",
   "execution_count": null,
   "metadata": {},
   "outputs": [],
   "source": []
  }
 ],
 "metadata": {
  "colab": {
   "provenance": []
  },
  "kernelspec": {
   "display_name": "Python 3 (ipykernel)",
   "language": "python",
   "name": "python3"
  },
  "language_info": {
   "codemirror_mode": {
    "name": "ipython",
    "version": 3
   },
   "file_extension": ".py",
   "mimetype": "text/x-python",
   "name": "python",
   "nbconvert_exporter": "python",
   "pygments_lexer": "ipython3",
   "version": "3.12.7"
  }
 },
 "nbformat": 4,
 "nbformat_minor": 4
}
