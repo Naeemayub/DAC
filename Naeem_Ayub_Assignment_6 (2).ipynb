{
  "nbformat": 4,
  "nbformat_minor": 0,
  "metadata": {
    "colab": {
      "provenance": []
    },
    "kernelspec": {
      "name": "python3",
      "display_name": "Python 3"
    },
    "language_info": {
      "name": "python"
    }
  },
  "cells": [
    {
      "cell_type": "code",
      "execution_count": null,
      "metadata": {
        "id": "TUJlPMik06eH"
      },
      "outputs": [],
      "source": [
        "# Question 1:\n",
        "# In a transportation system, we have two classes:\n",
        "#  ElectricVehicle: A class that has a method charge() to charge the vehicle.\n",
        "#  GasolineVehicle: A class that has a method fuel_up() to refuel the vehicle.\n",
        "# Create a class HybridCar that inherits from both ElectricVehicle and GasolineVehicle. The HybridCar\n",
        "# class should have a method drive() that prints a message showing the car is being driven. Instantiate\n",
        "# an object of class HybridCar and demonstrate the usage of charge(), fuel_up(), and drive().\n",
        "# Expected Output:\n",
        "#  Charging the electric vehicle.\n",
        "#  Filling up the gasoline tank.\n",
        "#  Driving the hybrid car.\n"
      ]
    },
    {
      "cell_type": "code",
      "source": [
        "class ElectricVehicle:\n",
        "  def charge(self):\n",
        "    return \"Charging the Electric vehicle\"\n",
        "\n",
        "class GasolineVehicle:\n",
        "  def fuel_up(self):\n",
        "    return \"Filling up the gasoline vehicle\"\n",
        "\n",
        "class HybridCar(ElectricVehicle, GasolineVehicle):\n",
        "  def drive(self):\n",
        "    return \"driving the hybrid car\""
      ],
      "metadata": {
        "id": "XSmmoS2F1GPF"
      },
      "execution_count": null,
      "outputs": []
    },
    {
      "cell_type": "code",
      "source": [
        "my_hybridcar = HybridCar()"
      ],
      "metadata": {
        "id": "H9clA9Uv1fKe"
      },
      "execution_count": null,
      "outputs": []
    },
    {
      "cell_type": "code",
      "source": [
        "print(my_hybridcar.charge())\n",
        "print(my_hybridcar.drive())\n",
        "print(my_hybridcar.fuel_up())"
      ],
      "metadata": {
        "colab": {
          "base_uri": "https://localhost:8080/"
        },
        "id": "tXyc4kZ92ufM",
        "outputId": "4be0cd86-4b16-4cd5-c1c2-c207a276df41"
      },
      "execution_count": null,
      "outputs": [
        {
          "output_type": "stream",
          "name": "stdout",
          "text": [
            "Charging the Electric vehicle\n",
            "driving the hybrid car\n",
            "Filling up the gasoline vehicle\n"
          ]
        }
      ]
    },
    {
      "cell_type": "code",
      "source": [
        "# Question 2:\n",
        "# Create a class Animal with a method make_sound(), which prints \"Animal makes a sound\". Then,\n",
        "# create two subclasses:\n",
        "#  Lion: Override the make_sound() method to print \"Roar\".\n",
        "#  Cat: Override the make_sound() method to print \"Meow\".\n",
        "# Demonstrate polymorphism by calling make_sound() on instances of Lion and Cat."
      ],
      "metadata": {
        "id": "gqcOopa-3LJd"
      },
      "execution_count": null,
      "outputs": []
    },
    {
      "cell_type": "code",
      "source": [
        "class Animal:\n",
        "  def __init__(self):\n",
        "    pass\n",
        "  def make_sound(self):\n",
        "    return print(\"Animal make a sound\")\n",
        "\n",
        "class Lion(Animal):\n",
        "  def __init__(self):\n",
        "    pass\n",
        "  def make_sound(self):\n",
        "    return print(\"Roar\")\n",
        "\n",
        "\n",
        "class Cat(Animal):\n",
        "  def __init__(self):\n",
        "    pass\n",
        "  def make_sound(self):\n",
        "    return print(\"Meown\")\n",
        "\n",
        "\n",
        "\n"
      ],
      "metadata": {
        "id": "6p0MP9A16Kpd"
      },
      "execution_count": null,
      "outputs": []
    },
    {
      "cell_type": "code",
      "source": [
        "my_lion = Lion()\n",
        "my_cat = Cat()\n",
        "my_lion.make_sound()\n",
        "my_cat.make_sound()"
      ],
      "metadata": {
        "colab": {
          "base_uri": "https://localhost:8080/"
        },
        "id": "_jxPl74a9gNg",
        "outputId": "4de1c9cc-34e8-4ffc-ccc6-749903a20da7"
      },
      "execution_count": null,
      "outputs": [
        {
          "output_type": "stream",
          "name": "stdout",
          "text": [
            "Roar\n",
            "Meown\n"
          ]
        }
      ]
    },
    {
      "cell_type": "code",
      "source": [
        "# Question 3:\n",
        "# Create an abstract class SmartHomeDevice with two abstract methods:\n",
        "#  turn_on() (to turn the device on)\n",
        "#  turn_off() (to turn the device off)\n",
        "# Then, create a Light class that inherits from SmartHomeDevice. Implement the methods turn_on()\n",
        "# and turn_off() for a light device. The turn_on() method should print \"Light is ON\", and the turn_off()\n",
        "# method should print \"Light is OFF\".\n",
        "# Write a Python program to control the light device in a smart home.\n",
        "# Expected Output:\n",
        "#  Turning on the light...\n",
        "#  Light is ON\n",
        "#  Turning off the light..."
      ],
      "metadata": {
        "id": "TL4DVdhI-sGA"
      },
      "execution_count": null,
      "outputs": []
    },
    {
      "cell_type": "code",
      "source": [
        "class SmartHomeDevice:\n",
        "  def turn_on(self):\n",
        "    print(\"Turning on the light\")\n",
        "    print(\"Light is ON\")\n",
        "\n",
        "  def turn_off(self):\n",
        "    print(\"Turning off the Light\")\n",
        "    print(\"Light is OFF\")\n",
        "\n",
        "\n",
        "class Light(SmartHomeDevice):\n",
        "  pass\n",
        "\n",
        "\n",
        "light_device = SmartHomeDevice()\n",
        "\n",
        "light_device.turn_on()\n",
        "light_device.turn_off()\n",
        "\n"
      ],
      "metadata": {
        "colab": {
          "base_uri": "https://localhost:8080/"
        },
        "id": "Yj4QCn-HMuzm",
        "outputId": "4f93a410-84db-44ca-fec1-92e6384013d3"
      },
      "execution_count": null,
      "outputs": [
        {
          "output_type": "stream",
          "name": "stdout",
          "text": [
            "Turning on the light\n",
            "Light is ON\n",
            "Turning off the Light\n",
            "Light is OFF\n"
          ]
        }
      ]
    },
    {
      "cell_type": "code",
      "source": [
        "# Question 4:\n",
        "# Create a class Greeting with a method greet() that can handle different numbers of arguments.\n",
        "#  If no argument is passed, it should print \"Hello!\".\n",
        "#  If one argument (a name) is passed, it should print \"Hello, !\".\n",
        "#  If two arguments (a name and a greeting) are passed, it should print the greeting with the\n",
        "# name (e.g., \"Good morning, !\").\n",
        "# Simulate method overloading using default arguments or variable-length arguments, and\n",
        "# demonstrate the polymorphic behavior by calling greet() with different numbers of arguments.\n",
        "# Expected Output:\n",
        "#  Hello!\n",
        "#  Hello, John!\n",
        "#  Good morning, John!"
      ],
      "metadata": {
        "id": "nHCbTDL6Q3oq"
      },
      "execution_count": null,
      "outputs": []
    },
    {
      "cell_type": "code",
      "source": [
        "class Greeting:\n",
        "  def __init__(self, name=\"\", greeting=\"\"):\n",
        "    self.name=name\n",
        "    self.greeting=greeting\n",
        "  def greet(self, name=\"\", greeting=\"\"):\n",
        "    if name==\"\":\n",
        "      print(\"Hello!\")\n",
        "    elif name!=\"\" and greeting==\"\":\n",
        "      print(\"Hello\", name,\"!\")\n",
        "    else:\n",
        "      print(f\"{greeting}, {name}!\" )\n",
        "\n",
        "test_greeting = Greeting()\n",
        "test_greeting.greet()\n",
        "test_greeting.greet(\"John\")\n",
        "test_greeting.greet(\"john\", \"Good Morning\")\n",
        "\n"
      ],
      "metadata": {
        "colab": {
          "base_uri": "https://localhost:8080/"
        },
        "id": "fqTMLKF4axQw",
        "outputId": "34d53da4-6d78-46fb-910d-9b5c21c7c696"
      },
      "execution_count": null,
      "outputs": [
        {
          "output_type": "stream",
          "name": "stdout",
          "text": [
            "Hello!\n",
            "Hello John !\n",
            "Good Morning, john!\n"
          ]
        }
      ]
    },
    {
      "cell_type": "code",
      "source": [
        "# Question 5:\n",
        "# Create a class CarRental to manage the rental of cars.\n",
        "#  The class should have private attributes for the car's name, price per day, and the number of\n",
        "# rental days.\n",
        "#  Create a method to calculate the total rental cost and a method to set the rental days.\n",
        "#  Use getter and setter methods for modifying and accessing the car's information.\n",
        "# Demonstrate encapsulation by creating an object of CarRental and calculating the total rental cost.\n",
        "# Expected Output:\n",
        "#  Car Name: Toyota Camry\n",
        "#  Price Per Day: $50\n",
        "#  Rental Days: 5\n",
        "#  Total Rental Cost: $250"
      ],
      "metadata": {
        "id": "msb4mtcKcl7R"
      },
      "execution_count": null,
      "outputs": []
    },
    {
      "cell_type": "code",
      "source": [
        "class CarRental:\n",
        "  def __init__(self, carname,price,days):\n",
        "    self.carname=carname\n",
        "    self.price=price\n",
        "    self.__days=days\n",
        "  def total_cost(self, carname, price):\n",
        "    print(f'Car name: {carname}')\n",
        "    print(f'Price per day: {price}')\n",
        "    print(f'Days : {__days}')\n",
        "    print(f' Total Rental Cost{__days*price}')\n",
        "  def set_days(days):\n",
        "        __days=days\n",
        "\n",
        "\n",
        "test_rental = CarRental\n",
        "test_rental.set_days(5)\n",
        "test_rental.total_cost(\"Toyota Camary\", 50)"
      ],
      "metadata": {
        "colab": {
          "base_uri": "https://localhost:8080/",
          "height": 176
        },
        "id": "zzEXj1yoeLpR",
        "outputId": "8605a7bf-8ba2-4041-de61-8d06305c0585"
      },
      "execution_count": null,
      "outputs": [
        {
          "output_type": "error",
          "ename": "TypeError",
          "evalue": "CarRental.total_cost() missing 1 required positional argument: 'price'",
          "traceback": [
            "\u001b[0;31m---------------------------------------------------------------------------\u001b[0m",
            "\u001b[0;31mTypeError\u001b[0m                                 Traceback (most recent call last)",
            "\u001b[0;32m<ipython-input-205-63134c04664b>\u001b[0m in \u001b[0;36m<cell line: 0>\u001b[0;34m()\u001b[0m\n\u001b[1;32m     15\u001b[0m \u001b[0mtest_rental\u001b[0m \u001b[0;34m=\u001b[0m \u001b[0mCarRental\u001b[0m\u001b[0;34m\u001b[0m\u001b[0;34m\u001b[0m\u001b[0m\n\u001b[1;32m     16\u001b[0m \u001b[0mtest_rental\u001b[0m\u001b[0;34m.\u001b[0m\u001b[0mset_days\u001b[0m\u001b[0;34m(\u001b[0m\u001b[0;36m5\u001b[0m\u001b[0;34m)\u001b[0m\u001b[0;34m\u001b[0m\u001b[0;34m\u001b[0m\u001b[0m\n\u001b[0;32m---> 17\u001b[0;31m \u001b[0mtest_rental\u001b[0m\u001b[0;34m.\u001b[0m\u001b[0mtotal_cost\u001b[0m\u001b[0;34m(\u001b[0m\u001b[0;34m\"Toyota Camary\"\u001b[0m\u001b[0;34m,\u001b[0m \u001b[0;36m50\u001b[0m\u001b[0;34m)\u001b[0m\u001b[0;34m\u001b[0m\u001b[0;34m\u001b[0m\u001b[0m\n\u001b[0m",
            "\u001b[0;31mTypeError\u001b[0m: CarRental.total_cost() missing 1 required positional argument: 'price'"
          ]
        }
      ]
    },
    {
      "cell_type": "code",
      "source": [
        "_"
      ],
      "metadata": {
        "id": "6nyHgvMFe2HT"
      },
      "execution_count": null,
      "outputs": []
    }
  ]
}