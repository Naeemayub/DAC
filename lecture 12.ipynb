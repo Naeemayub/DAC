{
 "cells": [
  {
   "cell_type": "code",
   "execution_count": 3,
   "id": "017201d4-7c3b-4ccd-bd4e-c7ca22205982",
   "metadata": {},
   "outputs": [
    {
     "data": {
      "text/plain": [
       "'hello'"
      ]
     },
     "execution_count": 3,
     "metadata": {},
     "output_type": "execute_result"
    }
   ],
   "source": [
    "def greet():\n",
    "    return \"hello\"\n",
    "\n",
    "greet()"
   ]
  },
  {
   "cell_type": "code",
   "execution_count": 26,
   "id": "60f7ede6-dc90-4543-a7e7-c53a83935db9",
   "metadata": {},
   "outputs": [
    {
     "data": {
      "text/plain": [
       "'hello ayub'"
      ]
     },
     "execution_count": 26,
     "metadata": {},
     "output_type": "execute_result"
    }
   ],
   "source": [
    "def greet(**kwargs):\n",
    "    return f\"hello {kwargs['name2']}\"\n",
    "\n",
    "greet(name='naeem', name2='ayub')"
   ]
  },
  {
   "cell_type": "code",
   "execution_count": 31,
   "id": "0e218716-362e-468b-a781-4cf01f57c3c6",
   "metadata": {},
   "outputs": [
    {
     "data": {
      "text/plain": [
       "'hello ayub, naeem'"
      ]
     },
     "execution_count": 31,
     "metadata": {},
     "output_type": "execute_result"
    }
   ],
   "source": [
    "def greet(*args,**kwargs):\n",
    "    return f\"hello {kwargs['name2']}, {args[0]}\"\n",
    "\n",
    "greet('naeem', name2='ayub')"
   ]
  },
  {
   "cell_type": "code",
   "execution_count": 38,
   "id": "21ab58a0-a856-448f-ba5e-46476c827e39",
   "metadata": {},
   "outputs": [
    {
     "name": "stdout",
     "output_type": "stream",
     "text": [
      " naeem is CEO\n",
      " ayub is CFO\n"
     ]
    }
   ],
   "source": [
    "def title(*arg, **kwargs):\n",
    "    print(f\" {arg[0]} is {kwargs['job']}\")\n",
    "\n",
    "title('naeem', job= \"CEO\")\n",
    "title('ayub', job='CFO' )"
   ]
  },
  {
   "cell_type": "code",
   "execution_count": 47,
   "id": "877d0897-8804-472f-880b-a1e3def606a6",
   "metadata": {},
   "outputs": [
    {
     "name": "stdout",
     "output_type": "stream",
     "text": [
      "name: naeem\n",
      "age: 20\n",
      "job: CEO\n"
     ]
    }
   ],
   "source": [
    "def pf(**kwargs):\n",
    "    for k,v in kwargs.items():\n",
    "        print(f'{k}: {v}')\n",
    "\n",
    "pf(name='naeem', age=20, job='CEO')\n",
    "        "
   ]
  },
  {
   "cell_type": "code",
   "execution_count": 53,
   "id": "c2b4646c-3a15-404b-9f99-5804d8808415",
   "metadata": {},
   "outputs": [
    {
     "name": "stdout",
     "output_type": "stream",
     "text": [
      "name naeem\n",
      "age 20\n",
      "job CEO\n"
     ]
    }
   ],
   "source": [
    "k = {\n",
    "    'name' :'naeem', \n",
    "    'age': 20,\n",
    "    'job': 'CEO'\n",
    "}\n",
    "\n",
    "for i in k:\n",
    "    print(i, k[i])"
   ]
  },
  {
   "cell_type": "code",
   "execution_count": null,
   "id": "335247a1-83ab-43c2-afb5-1fecf3cd687c",
   "metadata": {},
   "outputs": [],
   "source": []
  }
 ],
 "metadata": {
  "kernelspec": {
   "display_name": "Python 3 (ipykernel)",
   "language": "python",
   "name": "python3"
  },
  "language_info": {
   "codemirror_mode": {
    "name": "ipython",
    "version": 3
   },
   "file_extension": ".py",
   "mimetype": "text/x-python",
   "name": "python",
   "nbconvert_exporter": "python",
   "pygments_lexer": "ipython3",
   "version": "3.12.7"
  }
 },
 "nbformat": 4,
 "nbformat_minor": 5
}
