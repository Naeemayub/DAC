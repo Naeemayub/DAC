{
 "cells": [
  {
   "cell_type": "code",
   "execution_count": null,
   "id": "51dd23a9-427b-4fec-9b2e-eb45eb041391",
   "metadata": {},
   "outputs": [
    {
     "name": "stdout",
     "output_type": "stream",
     "text": [
      "Please Select appropriate option:\n",
      "Press 5 to open account\n"
     ]
    },
    {
     "name": "stdin",
     "output_type": "stream",
     "text": [
      "enter your selection 5\n"
     ]
    },
    {
     "name": "stdout",
     "output_type": "stream",
     "text": [
      "you need to enter user name, dob and pin to register\n"
     ]
    },
    {
     "name": "stdin",
     "output_type": "stream",
     "text": [
      "user name naeem\n",
      "pin 1948\n",
      "dob 1948\n"
     ]
    },
    {
     "name": "stdout",
     "output_type": "stream",
     "text": [
      "Account has been created\n",
      "Please Select appropriate option:\n",
      "Press 1 to Check Balance\n",
      "Press 2 to withdraw\n",
      "Press 3 to Deposit\n",
      "Press 4 to change Pin\n",
      "\n"
     ]
    },
    {
     "name": "stdin",
     "output_type": "stream",
     "text": [
      "enter your selection 1\n"
     ]
    },
    {
     "name": "stdout",
     "output_type": "stream",
     "text": [
      "wrong input\n",
      "Please Select appropriate option:\n",
      "Press 5 to open account\n"
     ]
    }
   ],
   "source": [
    "def menu():\n",
    "    print(\"Please Select appropriate option:\\nPress 1 to Check Balance\\nPress 2 to withdraw\\nPress 3 to Deposit\\nPress 4 to change Pin\\n\") \n",
    "    info = int(input(\"enter your selection\"))\n",
    "    if info  == 5:\n",
    "        account_creation()\n",
    "\n",
    "def main_menu():\n",
    "    print(\"Please Select appropriate option:\\nPress 5 to open account\") \n",
    "    \n",
    "    try:\n",
    "        info = int(input(\"enter your selection\"))\n",
    "        if info  == 5:\n",
    "            account_creation()\n",
    "    except:\n",
    "        print(\"wrong input\")\n",
    "    else:\n",
    "        print(\"wrong input\")\n",
    "        main_menu()\n",
    "        \n",
    "\n",
    "\n",
    "main_menu()"
   ]
  },
  {
   "cell_type": "code",
   "execution_count": null,
   "id": "347257ea-5991-4ad7-a87b-efa62c6a1d11",
   "metadata": {},
   "outputs": [],
   "source": []
  },
  {
   "cell_type": "code",
   "execution_count": null,
   "id": "20dfe6c3-192a-4bbc-8ddd-3a6ce0af36f6",
   "metadata": {},
   "outputs": [],
   "source": [
    "\n",
    "    \n",
    "class Bank:\n",
    "    def __init__(self, name,dob,pin, bal=0):\n",
    "        self.name = name\n",
    "        self.dob = dob\n",
    "        self.pin = pin\n",
    "        self.bal = bal\n",
    "        print(\"Account has been created\")\n",
    "        menu()\n",
    "    \n",
    "    def welcome():\n",
    "        user_login = input(\"enter login\")\n",
    "        user_pin = int(input(\"enter pin\"))\n",
    "        self.login(user_login, user_pin)\n",
    "    \n",
    "    def login(self,name,pin):\n",
    "        if self.pin == pin and self.name == name:\n",
    "            menu()  \n",
    "    def check_bal(self):\n",
    "        printI(f\"your Balance is{self.bal}\")\n",
    "        menu()\n",
    "        \n",
    "    \n",
    "\n",
    "\n",
    "    \n",
    "    \n",
    "def account_creation():\n",
    "    print(\"you need to enter user name, dob and pin to register\")\n",
    "    user = input(\"user name\")\n",
    "    pin = int(input(\"pin\"))\n",
    "    dob = input(\"dob\")\n",
    "    \n",
    "    if user !=\"\" and pin !=\"\" and dob !=\"\":\n",
    "        user = Bank(user, dob, pin)\n",
    "\n",
    "\n"
   ]
  },
  {
   "cell_type": "code",
   "execution_count": 119,
   "id": "4743bd14-4a18-4709-9cf7-799cb7f9b494",
   "metadata": {},
   "outputs": [
    {
     "name": "stdout",
     "output_type": "stream",
     "text": [
      "Please Select appropriate option:\n",
      "Press 1 to Check Balance\n",
      "Press 2 to withdraw\n",
      "Press 3 to Deposit\n",
      "Press 4 to change Pin\n",
      "Press 5 to open account\n"
     ]
    }
   ],
   "source": [
    "\n",
    "\n",
    "\n",
    "\n",
    "\n",
    "\n",
    "\n",
    "\n"
   ]
  },
  {
   "cell_type": "code",
   "execution_count": 111,
   "id": "9d489627-4fb1-44ff-8098-6a6a0473eefb",
   "metadata": {},
   "outputs": [],
   "source": [
    "naeem = Bank(\"naeem\", \"june1981\", 1947)"
   ]
  },
  {
   "cell_type": "code",
   "execution_count": 112,
   "id": "3e3b4f59-7eea-424f-af57-2db59fbe44b7",
   "metadata": {},
   "outputs": [
    {
     "name": "stdout",
     "output_type": "stream",
     "text": [
      "Please Select appropriate option:\n",
      "Press 1 to Check Balance\n",
      "Press 2 to withdraw\n",
      "Press 3 to Deposit\n",
      "Press 4 to change Pin\n",
      "Press 5 to open account\n"
     ]
    }
   ],
   "source": [
    "naeem.login(\"naeem\", 1947)"
   ]
  },
  {
   "cell_type": "code",
   "execution_count": null,
   "id": "1da0df0f-ab93-4f60-a9c6-8d35cb260a9f",
   "metadata": {},
   "outputs": [],
   "source": []
  },
  {
   "cell_type": "code",
   "execution_count": null,
   "id": "d26733b2-00a9-4b27-b6d8-e1cbd63f6fd6",
   "metadata": {},
   "outputs": [],
   "source": []
  },
  {
   "cell_type": "code",
   "execution_count": null,
   "id": "f4672844-41a4-4f94-bb70-681633865c47",
   "metadata": {},
   "outputs": [],
   "source": []
  }
 ],
 "metadata": {
  "kernelspec": {
   "display_name": "Python 3 (ipykernel)",
   "language": "python",
   "name": "python3"
  },
  "language_info": {
   "codemirror_mode": {
    "name": "ipython",
    "version": 3
   },
   "file_extension": ".py",
   "mimetype": "text/x-python",
   "name": "python",
   "nbconvert_exporter": "python",
   "pygments_lexer": "ipython3",
   "version": "3.12.7"
  }
 },
 "nbformat": 4,
 "nbformat_minor": 5
}
