{
 "cells": [
  {
   "cell_type": "code",
   "execution_count": 2,
   "id": "3b38aebd-1471-4420-9fd6-f61ce94a867b",
   "metadata": {},
   "outputs": [
    {
     "name": "stdin",
     "output_type": "stream",
     "text": [
      "enter your name to take test       naeem\n"
     ]
    },
    {
     "name": "stdout",
     "output_type": "stream",
     "text": [
      "naeem we are starting the quiz\n",
      "Q1: Who is founder of pakistan? \n",
      "a: Quid i azam \n",
      "b: imran khan\n",
      "c: nawaz sharif\n",
      "d: iqbal\n"
     ]
    },
    {
     "name": "stdin",
     "output_type": "stream",
     "text": [
      "please select answer     a\n"
     ]
    },
    {
     "name": "stdout",
     "output_type": "stream",
     "text": [
      "\n",
      "\n",
      "Q2: Pakistan was created in?  \n",
      "a: 1947\n",
      "b: 1960\n",
      "c:1970\n",
      "d: 1980\n"
     ]
    },
    {
     "ename": "KeyboardInterrupt",
     "evalue": "Interrupted by user",
     "output_type": "error",
     "traceback": [
      "\u001b[1;31m---------------------------------------------------------------------------\u001b[0m",
      "\u001b[1;31mKeyboardInterrupt\u001b[0m                         Traceback (most recent call last)",
      "Cell \u001b[1;32mIn[2], line 27\u001b[0m\n\u001b[0;32m     25\u001b[0m \u001b[38;5;28;01mfor\u001b[39;00m option \u001b[38;5;129;01min\u001b[39;00m \u001b[38;5;28mrange\u001b[39m(\u001b[38;5;241m0\u001b[39m,\u001b[38;5;241m4\u001b[39m):   \u001b[38;5;66;03m# loop on inner list\u001b[39;00m\n\u001b[0;32m     26\u001b[0m   \u001b[38;5;28mprint\u001b[39m(v[option])\n\u001b[1;32m---> 27\u001b[0m ans \u001b[38;5;241m=\u001b[39m \u001b[38;5;28minput\u001b[39m(\u001b[38;5;124m\"\u001b[39m\u001b[38;5;124mplease select answer    \u001b[39m\u001b[38;5;124m\"\u001b[39m)\n\u001b[0;32m     28\u001b[0m user_answers\u001b[38;5;241m.\u001b[39mappend(ans)\n\u001b[0;32m     29\u001b[0m \u001b[38;5;28mprint\u001b[39m(\u001b[38;5;124m\"\u001b[39m\u001b[38;5;130;01m\\n\u001b[39;00m\u001b[38;5;124m\"\u001b[39m)\n",
      "File \u001b[1;32m~\\anaconda3\\Lib\\site-packages\\ipykernel\\kernelbase.py:1262\u001b[0m, in \u001b[0;36mKernel.raw_input\u001b[1;34m(self, prompt)\u001b[0m\n\u001b[0;32m   1260\u001b[0m     msg \u001b[38;5;241m=\u001b[39m \u001b[38;5;124m\"\u001b[39m\u001b[38;5;124mraw_input was called, but this frontend does not support input requests.\u001b[39m\u001b[38;5;124m\"\u001b[39m\n\u001b[0;32m   1261\u001b[0m     \u001b[38;5;28;01mraise\u001b[39;00m StdinNotImplementedError(msg)\n\u001b[1;32m-> 1262\u001b[0m \u001b[38;5;28;01mreturn\u001b[39;00m \u001b[38;5;28mself\u001b[39m\u001b[38;5;241m.\u001b[39m_input_request(\n\u001b[0;32m   1263\u001b[0m     \u001b[38;5;28mstr\u001b[39m(prompt),\n\u001b[0;32m   1264\u001b[0m     \u001b[38;5;28mself\u001b[39m\u001b[38;5;241m.\u001b[39m_parent_ident[\u001b[38;5;124m\"\u001b[39m\u001b[38;5;124mshell\u001b[39m\u001b[38;5;124m\"\u001b[39m],\n\u001b[0;32m   1265\u001b[0m     \u001b[38;5;28mself\u001b[39m\u001b[38;5;241m.\u001b[39mget_parent(\u001b[38;5;124m\"\u001b[39m\u001b[38;5;124mshell\u001b[39m\u001b[38;5;124m\"\u001b[39m),\n\u001b[0;32m   1266\u001b[0m     password\u001b[38;5;241m=\u001b[39m\u001b[38;5;28;01mFalse\u001b[39;00m,\n\u001b[0;32m   1267\u001b[0m )\n",
      "File \u001b[1;32m~\\anaconda3\\Lib\\site-packages\\ipykernel\\kernelbase.py:1305\u001b[0m, in \u001b[0;36mKernel._input_request\u001b[1;34m(self, prompt, ident, parent, password)\u001b[0m\n\u001b[0;32m   1302\u001b[0m \u001b[38;5;28;01mexcept\u001b[39;00m \u001b[38;5;167;01mKeyboardInterrupt\u001b[39;00m:\n\u001b[0;32m   1303\u001b[0m     \u001b[38;5;66;03m# re-raise KeyboardInterrupt, to truncate traceback\u001b[39;00m\n\u001b[0;32m   1304\u001b[0m     msg \u001b[38;5;241m=\u001b[39m \u001b[38;5;124m\"\u001b[39m\u001b[38;5;124mInterrupted by user\u001b[39m\u001b[38;5;124m\"\u001b[39m\n\u001b[1;32m-> 1305\u001b[0m     \u001b[38;5;28;01mraise\u001b[39;00m \u001b[38;5;167;01mKeyboardInterrupt\u001b[39;00m(msg) \u001b[38;5;28;01mfrom\u001b[39;00m \u001b[38;5;28;01mNone\u001b[39;00m\n\u001b[0;32m   1306\u001b[0m \u001b[38;5;28;01mexcept\u001b[39;00m \u001b[38;5;167;01mException\u001b[39;00m:\n\u001b[0;32m   1307\u001b[0m     \u001b[38;5;28mself\u001b[39m\u001b[38;5;241m.\u001b[39mlog\u001b[38;5;241m.\u001b[39mwarning(\u001b[38;5;124m\"\u001b[39m\u001b[38;5;124mInvalid Message:\u001b[39m\u001b[38;5;124m\"\u001b[39m, exc_info\u001b[38;5;241m=\u001b[39m\u001b[38;5;28;01mTrue\u001b[39;00m)\n",
      "\u001b[1;31mKeyboardInterrupt\u001b[0m: Interrupted by user"
     ]
    }
   ],
   "source": [
    "test = [\n",
    "        {\"Q1: Who is founder of pakistan? \":[\"a: Quid i azam \",\"b: imran khan\",\"c: nawaz sharif\",\"d: iqbal\"]},\n",
    "        {\"Q2: Pakistan was created in?  \":[\"a: 1947\",\"b: 1960\",\"c:1970\",\"d: 1980\"]},\n",
    "        {\"Q3: Capital of pakisan? \":[\"a: islamabad\",\"b: lahore\",\"c: karachi\",\"d: peshawar\"]},\n",
    "        {\"Q4: capital of sindh? \":[\"a: sakhar\",\"b:haiderabad\",\"c: karachi\",\"d: xyz\"]},\n",
    "        {\"Q5: capital of punjab? \":[\"a:rawalpindi\",\"b: jehlam\",\"c: chakwal\",\"d: lahore\"]},\n",
    "        {\"Q6: how many chapters in quran? \":[\"a: 100  \",\"b: 114\",\"c:105\",\"d:119\"]},\n",
    "        {\"Q7: how many paray in quran ? \":[\"a: 20 \",\"b:25 \",\"c:25\",\"d:30\"]},\n",
    "        {\"Q8: who is pm of pakitan ? \":[\"a: shahbaz\",\"b: Nawaz\",\"c: imran\",\"d: qazi\"]},\n",
    "        {\"Q9: who was first female Pm of pakistan? \":[\"a:uzma\",\"b; benazir\",\"c: mariam\",\"d: zulaikha\"]},\n",
    "        {\"Q10: where is faisal mosque ? \":[\"a: Lahore\",\"b: Karachi\",\"c: rawalpindi\",\"d:islamabd\"]}\n",
    "        ]\n",
    "correct_answers = [\"a\",\"a\",\"a\",\"c\", \"d\", \"b\" , \"d\", \"a\", \"b\", \"d\"]\n",
    "\n",
    "\n",
    "user = input(\"enter your name to take test      \")\n",
    "print(f\"{user} we are starting the quiz\")\n",
    "\n",
    "\n",
    "user_answers = []       # list to store answers\n",
    "\n",
    "for q in test:   # loop on out list of test\n",
    "  for k,v in q.items(): # loop on inner dictionary\n",
    "    print(k)\n",
    "    for option in range(0,4):   # loop on inner list\n",
    "      print(v[option])\n",
    "    ans = input(\"please select answer    \")\n",
    "    user_answers.append(ans)\n",
    "    print(\"\\n\")\n",
    "\n",
    "print(\"we will show the result now\")\n",
    " \n",
    "counter =0          #counter to count correct answers\n",
    "for u in range(len(user_answers)):\n",
    "  if user_answers[u] == correct_answers[u]:\n",
    "    counter +=1\n",
    "  \n",
    "\n",
    "print(\"your result is \", counter)\n"
   ]
  },
  {
   "cell_type": "code",
   "execution_count": null,
   "id": "c398087e-574c-407e-92d0-26bef967707e",
   "metadata": {},
   "outputs": [],
   "source": []
  },
  {
   "cell_type": "code",
   "execution_count": null,
   "id": "cd0784ac-cc23-4eda-ba80-05b135133375",
   "metadata": {},
   "outputs": [],
   "source": []
  }
 ],
 "metadata": {
  "kernelspec": {
   "display_name": "Python 3 (ipykernel)",
   "language": "python",
   "name": "python3"
  },
  "language_info": {
   "codemirror_mode": {
    "name": "ipython",
    "version": 3
   },
   "file_extension": ".py",
   "mimetype": "text/x-python",
   "name": "python",
   "nbconvert_exporter": "python",
   "pygments_lexer": "ipython3",
   "version": "3.12.7"
  }
 },
 "nbformat": 4,
 "nbformat_minor": 5
}
